{
 "cells": [
  {
   "cell_type": "code",
   "execution_count": 1,
   "id": "87ee4f5d",
   "metadata": {},
   "outputs": [],
   "source": [
    "def power(number, pow=1):\n",
    "    \"\"\"Raise number to the power of pow.\"\"\"\n",
    "    new_value = number ** pow\n",
    "    return new_value\n",
    "    power(9, 2)"
   ]
  },
  {
   "cell_type": "code",
   "execution_count": 3,
   "id": "437348db",
   "metadata": {},
   "outputs": [
    {
     "data": {
      "text/plain": [
       "9"
      ]
     },
     "execution_count": 3,
     "metadata": {},
     "output_type": "execute_result"
    }
   ],
   "source": [
    "power(9)"
   ]
  },
  {
   "cell_type": "code",
   "execution_count": 4,
   "id": "f51e40e5",
   "metadata": {},
   "outputs": [
    {
     "data": {
      "text/plain": [
       "81"
      ]
     },
     "execution_count": 4,
     "metadata": {},
     "output_type": "execute_result"
    }
   ],
   "source": [
    "power(9,2)"
   ]
  },
  {
   "cell_type": "code",
   "execution_count": 6,
   "id": "6fe6ab72",
   "metadata": {},
   "outputs": [],
   "source": [
    "def add_all(*args):\n",
    "    \"\"\"Sum all values in *args together.\"\"\"\n",
    "    # Initialize sum\n",
    "    sum_all = 0\n",
    "    # Accumulate the sum\n",
    "    for num in args:\n",
    "        sum_all += num\n",
    "    return sum_all"
   ]
  },
  {
   "cell_type": "code",
   "execution_count": 11,
   "id": "8e8b5f87",
   "metadata": {},
   "outputs": [],
   "source": [
    "def add_a(*a):\n",
    "    sum__a=0 \n",
    "    for n in a:\n",
    "        sum__a+=n\n",
    "    return sum__a"
   ]
  },
  {
   "cell_type": "code",
   "execution_count": 12,
   "id": "15f896d6",
   "metadata": {},
   "outputs": [
    {
     "data": {
      "text/plain": [
       "18"
      ]
     },
     "execution_count": 12,
     "metadata": {},
     "output_type": "execute_result"
    }
   ],
   "source": [
    "add_a(9,9)"
   ]
  },
  {
   "cell_type": "code",
   "execution_count": 17,
   "id": "76f2cc41",
   "metadata": {},
   "outputs": [],
   "source": [
    "def print_all(**kwargs):\n",
    "    \"\"\"Print out key-value pairs in **kwargs.\"\"\"\n",
    "    # Print out the key-value pairs\n",
    "    for key, value in kwargs.items():\n",
    "        print(key + \": \" + value)"
   ]
  },
  {
   "cell_type": "code",
   "execution_count": 18,
   "id": "4b533a4a",
   "metadata": {},
   "outputs": [
    {
     "name": "stdout",
     "output_type": "stream",
     "text": [
      "name: dumbledore\n",
      "job: headmaster\n"
     ]
    }
   ],
   "source": [
    "print_all(name=\"dumbledore\", job=\"headmaster\")"
   ]
  },
  {
   "cell_type": "code",
   "execution_count": 19,
   "id": "c7029db3",
   "metadata": {},
   "outputs": [],
   "source": [
    "def priin(**kw):\n",
    "    for i,x in kw.items():\n",
    "        print(i,\" \",x)"
   ]
  },
  {
   "cell_type": "code",
   "execution_count": 21,
   "id": "e9125fc2",
   "metadata": {},
   "outputs": [
    {
     "name": "stdout",
     "output_type": "stream",
     "text": [
      "name   ali\n",
      "job   ali\n"
     ]
    }
   ],
   "source": [
    "priin(name=\"ali\",job= \"ali\")"
   ]
  },
  {
   "cell_type": "code",
   "execution_count": null,
   "id": "80e0daa2",
   "metadata": {},
   "outputs": [],
   "source": []
  }
 ],
 "metadata": {
  "kernelspec": {
   "display_name": "Python 3 (ipykernel)",
   "language": "python",
   "name": "python3"
  },
  "language_info": {
   "codemirror_mode": {
    "name": "ipython",
    "version": 3
   },
   "file_extension": ".py",
   "mimetype": "text/x-python",
   "name": "python",
   "nbconvert_exporter": "python",
   "pygments_lexer": "ipython3",
   "version": "3.9.13"
  }
 },
 "nbformat": 4,
 "nbformat_minor": 5
}
