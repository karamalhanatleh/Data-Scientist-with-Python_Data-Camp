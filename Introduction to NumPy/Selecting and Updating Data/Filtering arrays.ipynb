{
 "cells": [
  {
   "cell_type": "code",
   "execution_count": 1,
   "id": "79be68b0",
   "metadata": {},
   "outputs": [],
   "source": [
    "import numpy as np"
   ]
  },
  {
   "cell_type": "code",
   "execution_count": 2,
   "id": "f05b6255",
   "metadata": {},
   "outputs": [
    {
     "data": {
      "text/plain": [
       "array([1, 2, 3, 4, 5])"
      ]
     },
     "execution_count": 2,
     "metadata": {},
     "output_type": "execute_result"
    }
   ],
   "source": [
    "one_to_five = np.arange(1, 6)\n",
    "one_to_five"
   ]
  },
  {
   "cell_type": "code",
   "execution_count": null,
   "id": "eb9f09b0",
   "metadata": {},
   "outputs": [],
   "source": []
  },
  {
   "cell_type": "code",
   "execution_count": 4,
   "id": "2baa96fe",
   "metadata": {},
   "outputs": [
    {
     "data": {
      "text/plain": [
       "array([False,  True, False,  True, False])"
      ]
     },
     "execution_count": 4,
     "metadata": {},
     "output_type": "execute_result"
    }
   ],
   "source": [
    "mask = one_to_five % 2 == 0\n",
    "mask"
   ]
  },
  {
   "cell_type": "code",
   "execution_count": null,
   "id": "6147529e",
   "metadata": {},
   "outputs": [],
   "source": []
  },
  {
   "cell_type": "code",
   "execution_count": 5,
   "id": "34d4b31a",
   "metadata": {},
   "outputs": [
    {
     "data": {
      "text/plain": [
       "array([2, 4])"
      ]
     },
     "execution_count": 5,
     "metadata": {},
     "output_type": "execute_result"
    }
   ],
   "source": [
    "one_to_five = np.arange(1, 6)\n",
    "mask = one_to_five % 2 == 0\n",
    "one_to_five[mask]"
   ]
  },
  {
   "cell_type": "code",
   "execution_count": 6,
   "id": "9b2ee6a6",
   "metadata": {},
   "outputs": [
    {
     "data": {
      "text/plain": [
       "array([[ 1, 22],\n",
       "       [ 2, 21],\n",
       "       [ 3, 27],\n",
       "       [ 4, 26]])"
      ]
     },
     "execution_count": 6,
     "metadata": {},
     "output_type": "execute_result"
    }
   ],
   "source": [
    "classroom_ids_and_sizes = np.array([[1, 22], [2, 21], [3, 27], [4, 26]])\n",
    "classroom_ids_and_sizes"
   ]
  },
  {
   "cell_type": "code",
   "execution_count": 7,
   "id": "116cebb7",
   "metadata": {},
   "outputs": [
    {
     "data": {
      "text/plain": [
       "array([ True, False, False,  True])"
      ]
     },
     "execution_count": 7,
     "metadata": {},
     "output_type": "execute_result"
    }
   ],
   "source": [
    "classroom_ids_and_sizes[:, 1] % 2 == 0"
   ]
  },
  {
   "cell_type": "code",
   "execution_count": 8,
   "id": "6114a37b",
   "metadata": {},
   "outputs": [
    {
     "data": {
      "text/plain": [
       "array([[ 1, 22],\n",
       "       [ 2, 21],\n",
       "       [ 3, 27],\n",
       "       [ 4, 26]])"
      ]
     },
     "execution_count": 8,
     "metadata": {},
     "output_type": "execute_result"
    }
   ],
   "source": [
    "classroom_ids_and_sizes = np.array([[1, 22], [2, 21], [3, 27], [4, 26]])\n",
    "classroom_ids_and_sizes"
   ]
  },
  {
   "cell_type": "code",
   "execution_count": 9,
   "id": "f24747ca",
   "metadata": {},
   "outputs": [
    {
     "data": {
      "text/plain": [
       "array([1, 4])"
      ]
     },
     "execution_count": 9,
     "metadata": {},
     "output_type": "execute_result"
    }
   ],
   "source": [
    "classroom_ids_and_sizes[:, 0][classroom_ids_and_sizes[:, 1] % 2 == 0]\n"
   ]
  },
  {
   "cell_type": "code",
   "execution_count": null,
   "id": "def6557e",
   "metadata": {},
   "outputs": [],
   "source": []
  },
  {
   "cell_type": "markdown",
   "id": "90dd6a79",
   "metadata": {},
   "source": [
    "## Filtering with np.where()\n"
   ]
  },
  {
   "cell_type": "code",
   "execution_count": 10,
   "id": "d8b677c7",
   "metadata": {},
   "outputs": [
    {
     "data": {
      "text/plain": [
       "array([[ 1, 22],\n",
       "       [ 2, 21],\n",
       "       [ 3, 27],\n",
       "       [ 4, 26]])"
      ]
     },
     "execution_count": 10,
     "metadata": {},
     "output_type": "execute_result"
    }
   ],
   "source": [
    "classroom_ids_and_sizes"
   ]
  },
  {
   "cell_type": "code",
   "execution_count": 11,
   "id": "b29f8699",
   "metadata": {},
   "outputs": [
    {
     "data": {
      "text/plain": [
       "(array([0, 3], dtype=int64),)"
      ]
     },
     "execution_count": 11,
     "metadata": {},
     "output_type": "execute_result"
    }
   ],
   "source": [
    "np.where(classroom_ids_and_sizes[:, 1] % 2 == 0)"
   ]
  },
  {
   "cell_type": "code",
   "execution_count": 13,
   "id": "1b4ac4fe",
   "metadata": {},
   "outputs": [
    {
     "data": {
      "text/plain": [
       "array([[0, 0, 4, 3, 0, 0, 2, 0, 9],\n",
       "       [0, 0, 5, 0, 0, 9, 0, 0, 1],\n",
       "       [0, 7, 0, 0, 6, 0, 0, 4, 3],\n",
       "       [0, 0, 6, 0, 0, 2, 0, 8, 7],\n",
       "       [1, 9, 0, 0, 0, 7, 4, 0, 0],\n",
       "       [0, 5, 0, 0, 8, 3, 0, 0, 0],\n",
       "       [6, 0, 0, 0, 0, 0, 1, 0, 5],\n",
       "       [0, 0, 3, 5, 0, 8, 6, 9, 0],\n",
       "       [0, 4, 2, 9, 1, 0, 3, 0, 0]])"
      ]
     },
     "execution_count": 13,
     "metadata": {},
     "output_type": "execute_result"
    }
   ],
   "source": [
    "sudoku_game= np.array([ [0, 0, 4, 3, 0, 0, 2, 0, 9],\n",
    "                        [0, 0, 5, 0, 0, 9, 0, 0, 1],\n",
    "                        [0, 7, 0, 0, 6, 0, 0, 4, 3],\n",
    "                        [0, 0, 6, 0, 0, 2, 0, 8, 7],\n",
    "                        [1, 9, 0, 0, 0, 7, 4, 0, 0],\n",
    "                        [0, 5, 0, 0, 8, 3, 0, 0, 0],\n",
    "                        [6, 0, 0, 0, 0, 0, 1, 0, 5],\n",
    "                        [0, 0, 3, 5, 0, 8, 6, 9, 0],\n",
    "                        [0, 4, 2, 9, 1, 0, 3, 0, 0]])\n",
    "sudoku_game"
   ]
  },
  {
   "cell_type": "code",
   "execution_count": 14,
   "id": "f6e1968c",
   "metadata": {},
   "outputs": [
    {
     "data": {
      "text/plain": [
       "(array([0, 0, 0, 0, 0, 1, 1, 1, 1, 1, 1, 2, 2, 2, 2, 2, 3, 3, 3, 3, 3, 4,\n",
       "        4, 4, 4, 4, 5, 5, 5, 5, 5, 5, 6, 6, 6, 6, 6, 6, 7, 7, 7, 7, 8, 8,\n",
       "        8, 8], dtype=int64),\n",
       " array([0, 1, 4, 5, 7, 0, 1, 3, 4, 6, 7, 0, 2, 3, 5, 6, 0, 1, 3, 4, 6, 2,\n",
       "        3, 4, 7, 8, 0, 2, 3, 6, 7, 8, 1, 2, 3, 4, 5, 7, 0, 1, 4, 8, 0, 5,\n",
       "        7, 8], dtype=int64))"
      ]
     },
     "execution_count": 14,
     "metadata": {},
     "output_type": "execute_result"
    }
   ],
   "source": [
    "row_ind, column_ind = np.where(sudoku_game == 0)\n",
    "row_ind, column_ind"
   ]
  },
  {
   "cell_type": "code",
   "execution_count": 18,
   "id": "a09ad3ac",
   "metadata": {},
   "outputs": [
    {
     "data": {
      "text/plain": [
       "array([[99, 99,  4,  3, 99, 99,  2, 99,  9],\n",
       "       [99, 99,  5, 99, 99,  9, 99, 99,  1],\n",
       "       [99,  7, 99, 99,  6, 99, 99,  4,  3],\n",
       "       [99, 99,  6, 99, 99,  2, 99,  8,  7],\n",
       "       [ 1,  9, 99, 99, 99,  7,  4, 99, 99],\n",
       "       [99,  5, 99, 99,  8,  3, 99, 99, 99],\n",
       "       [ 6, 99, 99, 99, 99, 99,  1, 99,  5],\n",
       "       [99, 99,  3,  5, 99,  8,  6,  9, 99],\n",
       "       [99,  4,  2,  9,  1, 99,  3, 99, 99]])"
      ]
     },
     "execution_count": 18,
     "metadata": {},
     "output_type": "execute_result"
    }
   ],
   "source": [
    "np.where(sudoku_game == 0,99, sudoku_game)"
   ]
  },
  {
   "cell_type": "code",
   "execution_count": null,
   "id": "2042488b",
   "metadata": {},
   "outputs": [],
   "source": []
  }
 ],
 "metadata": {
  "kernelspec": {
   "display_name": "Python 3 (ipykernel)",
   "language": "python",
   "name": "python3"
  },
  "language_info": {
   "codemirror_mode": {
    "name": "ipython",
    "version": 3
   },
   "file_extension": ".py",
   "mimetype": "text/x-python",
   "name": "python",
   "nbconvert_exporter": "python",
   "pygments_lexer": "ipython3",
   "version": "3.9.13"
  }
 },
 "nbformat": 4,
 "nbformat_minor": 5
}
