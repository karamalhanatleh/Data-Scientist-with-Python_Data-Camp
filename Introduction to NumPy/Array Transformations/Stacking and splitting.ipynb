{
 "cells": [
  {
   "cell_type": "code",
   "execution_count": 2,
   "id": "0601aed9",
   "metadata": {},
   "outputs": [],
   "source": [
    "import matplotlib.pyplot as plt\n",
    "import numpy as np"
   ]
  },
  {
   "cell_type": "code",
   "execution_count": 29,
   "id": "8db50275",
   "metadata": {},
   "outputs": [
    {
     "data": {
      "text/plain": [
       "array([[[255,   0,   0],\n",
       "        [255, 255,   0],\n",
       "        [255, 255, 255]],\n",
       "\n",
       "       [[255,   0, 255],\n",
       "        [  0, 255,   0],\n",
       "        [  0, 255, 255]],\n",
       "\n",
       "       [[  0,   0,   0],\n",
       "        [  0, 255, 255],\n",
       "        [  0,   0, 255]]])"
      ]
     },
     "execution_count": 29,
     "metadata": {},
     "output_type": "execute_result"
    }
   ],
   "source": [
    "rgb = np.array([[[255, 0, 0],   [255, 255, 0], [255, 255, 255]],\n",
    "                [[255, 0, 255], [0, 255, 0],   [0, 255, 255]],\n",
    "                [[0, 0, 0],     [0, 255, 255], [0, 0, 255]]])\n",
    "rgb"
   ]
  },
  {
   "cell_type": "code",
   "execution_count": 30,
   "id": "5525cbfc",
   "metadata": {},
   "outputs": [
    {
     "data": {
      "text/plain": [
       "array([[255, 255, 255],\n",
       "       [255,   0,   0],\n",
       "       [  0,   0,   0]])"
      ]
     },
     "execution_count": 30,
     "metadata": {},
     "output_type": "execute_result"
    }
   ],
   "source": [
    "red_array = rgb[:, :, 0]\n",
    "red_array"
   ]
  },
  {
   "cell_type": "code",
   "execution_count": 31,
   "id": "472bc735",
   "metadata": {},
   "outputs": [
    {
     "data": {
      "text/plain": [
       "array([[  0, 255, 255],\n",
       "       [  0, 255, 255],\n",
       "       [  0, 255,   0]])"
      ]
     },
     "execution_count": 31,
     "metadata": {},
     "output_type": "execute_result"
    }
   ],
   "source": [
    "green_array = rgb[:, :, 1]\n",
    "green_array"
   ]
  },
  {
   "cell_type": "code",
   "execution_count": 32,
   "id": "a6334ead",
   "metadata": {},
   "outputs": [
    {
     "data": {
      "text/plain": [
       "array([[  0,   0, 255],\n",
       "       [255,   0, 255],\n",
       "       [  0, 255, 255]])"
      ]
     },
     "execution_count": 32,
     "metadata": {},
     "output_type": "execute_result"
    }
   ],
   "source": [
    "blue_array = rgb[:, :, 2]\n",
    "blue_array"
   ]
  },
  {
   "cell_type": "code",
   "execution_count": 33,
   "id": "06751ed7",
   "metadata": {},
   "outputs": [],
   "source": [
    "######"
   ]
  },
  {
   "cell_type": "code",
   "execution_count": 34,
   "id": "f0664b45",
   "metadata": {},
   "outputs": [
    {
     "data": {
      "text/plain": [
       "array([[[ 1,  2,  3],\n",
       "        [ 4,  5,  6],\n",
       "        [ 7,  8,  9]],\n",
       "\n",
       "       [[11, 12, 13],\n",
       "        [14, 15, 16],\n",
       "        [17, 18, 19]],\n",
       "\n",
       "       [[21, 22, 23],\n",
       "        [24, 25, 26],\n",
       "        [27, 28, 29]]])"
      ]
     },
     "execution_count": 34,
     "metadata": {},
     "output_type": "execute_result"
    }
   ],
   "source": [
    "rgb_tt = np.array([[[1, 2, 3],   [4, 5, 6], [7, 8, 9]],\n",
    "                [[11, 12, 13], [14, 15, 16],   [17 , 18, 19]],\n",
    "                [[21,22, 23],     [24, 25, 26], [27, 28, 29]]])\n",
    "rgb_tt"
   ]
  },
  {
   "cell_type": "code",
   "execution_count": 46,
   "id": "23cbc4a5",
   "metadata": {},
   "outputs": [
    {
     "data": {
      "text/plain": [
       "array([[ 1,  4,  7],\n",
       "       [11, 14, 17],\n",
       "       [21, 24, 27]])"
      ]
     },
     "execution_count": 46,
     "metadata": {},
     "output_type": "execute_result"
    }
   ],
   "source": [
    "red_array__ = rgb_tt[:, :, 0]\n",
    "red_array__"
   ]
  },
  {
   "cell_type": "code",
   "execution_count": 52,
   "id": "1186a6b0",
   "metadata": {},
   "outputs": [
    {
     "data": {
      "text/plain": [
       "array([[[ 1],\n",
       "        [ 4],\n",
       "        [ 7]],\n",
       "\n",
       "       [[11],\n",
       "        [14],\n",
       "        [17]],\n",
       "\n",
       "       [[21],\n",
       "        [24],\n",
       "        [27]]])"
      ]
     },
     "execution_count": 52,
     "metadata": {},
     "output_type": "execute_result"
    }
   ],
   "source": [
    "red_array_tt, green_array_tt, blue_array_tt = np.split(rgb_tt, 3, axis=2)\n",
    "red_array_tt"
   ]
  },
  {
   "cell_type": "code",
   "execution_count": 53,
   "id": "44e9e448",
   "metadata": {},
   "outputs": [
    {
     "data": {
      "text/plain": [
       "array([[[ 2],\n",
       "        [ 5],\n",
       "        [ 8]],\n",
       "\n",
       "       [[12],\n",
       "        [15],\n",
       "        [18]],\n",
       "\n",
       "       [[22],\n",
       "        [25],\n",
       "        [28]]])"
      ]
     },
     "execution_count": 53,
     "metadata": {},
     "output_type": "execute_result"
    }
   ],
   "source": [
    "green_array_tt"
   ]
  },
  {
   "cell_type": "code",
   "execution_count": 37,
   "id": "24b3037a",
   "metadata": {},
   "outputs": [],
   "source": [
    "######"
   ]
  },
  {
   "cell_type": "code",
   "execution_count": null,
   "id": "6026062b",
   "metadata": {},
   "outputs": [],
   "source": []
  },
  {
   "cell_type": "code",
   "execution_count": 38,
   "id": "92ff89f4",
   "metadata": {},
   "outputs": [
    {
     "data": {
      "text/plain": [
       "array([[[255],\n",
       "        [255],\n",
       "        [255]],\n",
       "\n",
       "       [[255],\n",
       "        [  0],\n",
       "        [  0]],\n",
       "\n",
       "       [[  0],\n",
       "        [  0],\n",
       "        [  0]]])"
      ]
     },
     "execution_count": 38,
     "metadata": {},
     "output_type": "execute_result"
    }
   ],
   "source": [
    "red_array, green_array, blue_array = np.split(rgb, 3, axis=2)\n",
    "red_array"
   ]
  },
  {
   "cell_type": "code",
   "execution_count": 54,
   "id": "37146cb6",
   "metadata": {},
   "outputs": [
    {
     "data": {
      "text/plain": [
       "array([[[255],\n",
       "        [255],\n",
       "        [255]],\n",
       "\n",
       "       [[255],\n",
       "        [  0],\n",
       "        [  0]],\n",
       "\n",
       "       [[  0],\n",
       "        [  0],\n",
       "        [  0]]])"
      ]
     },
     "execution_count": 54,
     "metadata": {},
     "output_type": "execute_result"
    }
   ],
   "source": [
    "red_array"
   ]
  },
  {
   "cell_type": "code",
   "execution_count": 55,
   "id": "49ac1624",
   "metadata": {},
   "outputs": [
    {
     "data": {
      "text/plain": [
       "array([[255, 255, 255],\n",
       "       [255,   0,   0],\n",
       "       [  0,   0,   0]])"
      ]
     },
     "execution_count": 55,
     "metadata": {},
     "output_type": "execute_result"
    }
   ],
   "source": [
    "red_array_2D = red_array.reshape((3, 3))\n",
    "red_array_2D"
   ]
  },
  {
   "cell_type": "code",
   "execution_count": 56,
   "id": "107b7f7f",
   "metadata": {},
   "outputs": [
    {
     "ename": "ValueError",
     "evalue": "cannot reshape array of size 9 into shape (1001,1001)",
     "output_type": "error",
     "traceback": [
      "\u001b[1;31m---------------------------------------------------------------------------\u001b[0m",
      "\u001b[1;31mValueError\u001b[0m                                Traceback (most recent call last)",
      "\u001b[1;32m~\\AppData\\Local\\Temp\\ipykernel_16316\\2874911323.py\u001b[0m in \u001b[0;36m<module>\u001b[1;34m\u001b[0m\n\u001b[0;32m      1\u001b[0m \u001b[0mred_array\u001b[0m \u001b[1;33m=\u001b[0m \u001b[0mnp\u001b[0m\u001b[1;33m.\u001b[0m\u001b[0mzeros\u001b[0m\u001b[1;33m(\u001b[0m\u001b[1;33m(\u001b[0m\u001b[1;36m1001\u001b[0m\u001b[1;33m,\u001b[0m \u001b[1;36m1001\u001b[0m\u001b[1;33m)\u001b[0m\u001b[1;33m)\u001b[0m\u001b[1;33m.\u001b[0m\u001b[0mastype\u001b[0m\u001b[1;33m(\u001b[0m\u001b[0mnp\u001b[0m\u001b[1;33m.\u001b[0m\u001b[0mint32\u001b[0m\u001b[1;33m)\u001b[0m\u001b[1;33m\u001b[0m\u001b[1;33m\u001b[0m\u001b[0m\n\u001b[1;32m----> 2\u001b[1;33m \u001b[0mgreen_array\u001b[0m \u001b[1;33m=\u001b[0m \u001b[0mgreen_array\u001b[0m\u001b[1;33m.\u001b[0m\u001b[0mreshape\u001b[0m\u001b[1;33m(\u001b[0m\u001b[1;33m(\u001b[0m\u001b[1;36m1001\u001b[0m\u001b[1;33m,\u001b[0m \u001b[1;36m1001\u001b[0m\u001b[1;33m)\u001b[0m\u001b[1;33m)\u001b[0m\u001b[1;33m\u001b[0m\u001b[1;33m\u001b[0m\u001b[0m\n\u001b[0m\u001b[0;32m      3\u001b[0m \u001b[0mblue_array\u001b[0m \u001b[1;33m=\u001b[0m \u001b[0mblue_array\u001b[0m\u001b[1;33m.\u001b[0m\u001b[0mreshape\u001b[0m\u001b[1;33m(\u001b[0m\u001b[1;33m(\u001b[0m\u001b[1;36m1001\u001b[0m\u001b[1;33m,\u001b[0m \u001b[1;36m1001\u001b[0m\u001b[1;33m)\u001b[0m\u001b[1;33m)\u001b[0m\u001b[1;33m\u001b[0m\u001b[1;33m\u001b[0m\u001b[0m\n",
      "\u001b[1;31mValueError\u001b[0m: cannot reshape array of size 9 into shape (1001,1001)"
     ]
    }
   ],
   "source": [
    "red_array = np.zeros((1001, 1001)).astype(np.int32)\n",
    "green_array = green_array.reshape((1001, 1001))\n",
    "blue_array = blue_array.reshape((1001, 1001))"
   ]
  },
  {
   "cell_type": "code",
   "execution_count": null,
   "id": "2b151173",
   "metadata": {},
   "outputs": [],
   "source": []
  },
  {
   "cell_type": "code",
   "execution_count": null,
   "id": "3ce7c971",
   "metadata": {},
   "outputs": [],
   "source": []
  },
  {
   "cell_type": "code",
   "execution_count": null,
   "id": "31dbd3bb",
   "metadata": {},
   "outputs": [],
   "source": []
  },
  {
   "cell_type": "code",
   "execution_count": null,
   "id": "d5fad58b",
   "metadata": {},
   "outputs": [],
   "source": []
  },
  {
   "cell_type": "code",
   "execution_count": null,
   "id": "cf1028f1",
   "metadata": {},
   "outputs": [],
   "source": []
  },
  {
   "cell_type": "code",
   "execution_count": null,
   "id": "b4fcc749",
   "metadata": {},
   "outputs": [],
   "source": []
  },
  {
   "cell_type": "code",
   "execution_count": null,
   "id": "c1dcbd2c",
   "metadata": {},
   "outputs": [],
   "source": []
  },
  {
   "cell_type": "code",
   "execution_count": null,
   "id": "3131028b",
   "metadata": {},
   "outputs": [],
   "source": []
  }
 ],
 "metadata": {
  "kernelspec": {
   "display_name": "Python 3 (ipykernel)",
   "language": "python",
   "name": "python3"
  },
  "language_info": {
   "codemirror_mode": {
    "name": "ipython",
    "version": 3
   },
   "file_extension": ".py",
   "mimetype": "text/x-python",
   "name": "python",
   "nbconvert_exporter": "python",
   "pygments_lexer": "ipython3",
   "version": "3.9.13"
  }
 },
 "nbformat": 4,
 "nbformat_minor": 5
}
