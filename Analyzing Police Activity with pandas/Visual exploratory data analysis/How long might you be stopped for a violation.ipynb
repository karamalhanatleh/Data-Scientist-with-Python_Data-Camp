{
 "cells": [
  {
   "cell_type": "markdown",
   "id": "2f86f351",
   "metadata": {},
   "source": [
    "# How long might you be stopped for a violation?\n"
   ]
  },
  {
   "cell_type": "code",
   "execution_count": 1,
   "id": "1ac41edd",
   "metadata": {},
   "outputs": [],
   "source": [
    "import pandas as pd\n",
    "import matplotlib.pyplot as plt\n",
    "\n"
   ]
  },
  {
   "cell_type": "code",
   "execution_count": 2,
   "id": "8ec22717",
   "metadata": {},
   "outputs": [],
   "source": [
    "ri=  pd.read_csv(\"../dataset/police.csv\")"
   ]
  },
  {
   "cell_type": "markdown",
   "id": "2096bc3c",
   "metadata": {},
   "source": [
    "## Converting stop durations to numbers\n"
   ]
  },
  {
   "cell_type": "code",
   "execution_count": 3,
   "id": "4e02b46f",
   "metadata": {},
   "outputs": [
    {
     "name": "stdout",
     "output_type": "stream",
     "text": [
      "['0-15 Min' '16-30 Min' nan '30+ Min']\n"
     ]
    }
   ],
   "source": [
    "# Print the unique values in 'stop_duration'\n",
    "print(ri.stop_duration.unique())\n"
   ]
  },
  {
   "cell_type": "code",
   "execution_count": 4,
   "id": "64f18322",
   "metadata": {},
   "outputs": [
    {
     "name": "stdout",
     "output_type": "stream",
     "text": [
      "['0-15 Min' '16-30 Min' nan '30+ Min']\n",
      "[ 8. 23. nan 45.]\n"
     ]
    }
   ],
   "source": [
    "# Print the unique values in 'stop_duration'\n",
    "print(ri.stop_duration.unique())\n",
    "\n",
    "# Create a dictionary that maps strings to integers\n",
    "mapping = {'0-15 Min':8,'16-30 Min':23,'30+ Min':45}\n",
    "\n",
    "# Convert the 'stop_duration' strings to integers using the 'mapping'\n",
    "ri['stop_minutes'] = ri.stop_duration.map(mapping)\n",
    "\n",
    "# Print the unique values in 'stop_minutes'\n",
    "print(ri.stop_minutes.unique())\n"
   ]
  },
  {
   "cell_type": "code",
   "execution_count": null,
   "id": "0a0f953a",
   "metadata": {},
   "outputs": [],
   "source": []
  },
  {
   "cell_type": "markdown",
   "id": "cd6e6504",
   "metadata": {},
   "source": [
    "## Plotting stop length\n"
   ]
  },
  {
   "cell_type": "code",
   "execution_count": null,
   "id": "7b572cd4",
   "metadata": {},
   "outputs": [],
   "source": []
  }
 ],
 "metadata": {
  "kernelspec": {
   "display_name": "Python 3 (ipykernel)",
   "language": "python",
   "name": "python3"
  },
  "language_info": {
   "codemirror_mode": {
    "name": "ipython",
    "version": 3
   },
   "file_extension": ".py",
   "mimetype": "text/x-python",
   "name": "python",
   "nbconvert_exporter": "python",
   "pygments_lexer": "ipython3",
   "version": "3.9.13"
  }
 },
 "nbformat": 4,
 "nbformat_minor": 5
}
