{
 "cells": [
  {
   "cell_type": "code",
   "execution_count": 4,
   "id": "510bf8ab",
   "metadata": {},
   "outputs": [],
   "source": [
    "# Importing pandas\n",
    "import pandas as pd\n",
    "import numpy as np\n",
    "import matplotlib.pyplot as plt\n",
    "import numpy as np\n",
    "from itertools import product\n",
    "import itertools\n",
    "attrition = pd.read_feather(\"../datasets/attrition.feather\")\n",
    "spotify = pd.read_feather(\"../datasets/spotify_2000_2020.feather\")\n",
    "coffee_ratings = pd.read_feather(\"../datasets/coffee_ratings_full.feather\")\n"
   ]
  },
  {
   "cell_type": "code",
   "execution_count": 5,
   "id": "8d08523b",
   "metadata": {},
   "outputs": [],
   "source": [
    "coffee_focus = coffee_ratings[[\"variety\",\"country_of_origin\",\"flavor\"]]\n",
    "coffee_focus = coffee_focus.reset_index()"
   ]
  },
  {
   "cell_type": "code",
   "execution_count": 6,
   "id": "e0e10fa1",
   "metadata": {},
   "outputs": [
    {
     "data": {
      "text/html": [
       "<div>\n",
       "<style scoped>\n",
       "    .dataframe tbody tr th:only-of-type {\n",
       "        vertical-align: middle;\n",
       "    }\n",
       "\n",
       "    .dataframe tbody tr th {\n",
       "        vertical-align: top;\n",
       "    }\n",
       "\n",
       "    .dataframe thead th {\n",
       "        text-align: right;\n",
       "    }\n",
       "</style>\n",
       "<table border=\"1\" class=\"dataframe\">\n",
       "  <thead>\n",
       "    <tr style=\"text-align: right;\">\n",
       "      <th></th>\n",
       "      <th>index</th>\n",
       "      <th>variety</th>\n",
       "      <th>country_of_origin</th>\n",
       "      <th>flavor</th>\n",
       "    </tr>\n",
       "  </thead>\n",
       "  <tbody>\n",
       "    <tr>\n",
       "      <th>0</th>\n",
       "      <td>0</td>\n",
       "      <td>None</td>\n",
       "      <td>Ethiopia</td>\n",
       "      <td>8.83</td>\n",
       "    </tr>\n",
       "    <tr>\n",
       "      <th>1</th>\n",
       "      <td>1</td>\n",
       "      <td>Other</td>\n",
       "      <td>Ethiopia</td>\n",
       "      <td>8.67</td>\n",
       "    </tr>\n",
       "    <tr>\n",
       "      <th>2</th>\n",
       "      <td>2</td>\n",
       "      <td>Bourbon</td>\n",
       "      <td>Guatemala</td>\n",
       "      <td>8.50</td>\n",
       "    </tr>\n",
       "    <tr>\n",
       "      <th>3</th>\n",
       "      <td>3</td>\n",
       "      <td>None</td>\n",
       "      <td>Ethiopia</td>\n",
       "      <td>8.58</td>\n",
       "    </tr>\n",
       "    <tr>\n",
       "      <th>4</th>\n",
       "      <td>4</td>\n",
       "      <td>Other</td>\n",
       "      <td>Ethiopia</td>\n",
       "      <td>8.50</td>\n",
       "    </tr>\n",
       "    <tr>\n",
       "      <th>...</th>\n",
       "      <td>...</td>\n",
       "      <td>...</td>\n",
       "      <td>...</td>\n",
       "      <td>...</td>\n",
       "    </tr>\n",
       "    <tr>\n",
       "      <th>1333</th>\n",
       "      <td>1333</td>\n",
       "      <td>None</td>\n",
       "      <td>Ecuador</td>\n",
       "      <td>7.58</td>\n",
       "    </tr>\n",
       "    <tr>\n",
       "      <th>1334</th>\n",
       "      <td>1334</td>\n",
       "      <td>None</td>\n",
       "      <td>Ecuador</td>\n",
       "      <td>7.67</td>\n",
       "    </tr>\n",
       "    <tr>\n",
       "      <th>1335</th>\n",
       "      <td>1335</td>\n",
       "      <td>None</td>\n",
       "      <td>United States</td>\n",
       "      <td>7.33</td>\n",
       "    </tr>\n",
       "    <tr>\n",
       "      <th>1336</th>\n",
       "      <td>1336</td>\n",
       "      <td>None</td>\n",
       "      <td>India</td>\n",
       "      <td>6.83</td>\n",
       "    </tr>\n",
       "    <tr>\n",
       "      <th>1337</th>\n",
       "      <td>1337</td>\n",
       "      <td>None</td>\n",
       "      <td>Vietnam</td>\n",
       "      <td>6.67</td>\n",
       "    </tr>\n",
       "  </tbody>\n",
       "</table>\n",
       "<p>1338 rows × 4 columns</p>\n",
       "</div>"
      ],
      "text/plain": [
       "      index  variety country_of_origin  flavor\n",
       "0         0     None          Ethiopia    8.83\n",
       "1         1    Other          Ethiopia    8.67\n",
       "2         2  Bourbon         Guatemala    8.50\n",
       "3         3     None          Ethiopia    8.58\n",
       "4         4    Other          Ethiopia    8.50\n",
       "...     ...      ...               ...     ...\n",
       "1333   1333     None           Ecuador    7.58\n",
       "1334   1334     None           Ecuador    7.67\n",
       "1335   1335     None     United States    7.33\n",
       "1336   1336     None             India    6.83\n",
       "1337   1337     None           Vietnam    6.67\n",
       "\n",
       "[1338 rows x 4 columns]"
      ]
     },
     "execution_count": 6,
     "metadata": {},
     "output_type": "execute_result"
    }
   ],
   "source": [
    "coffee_focus"
   ]
  },
  {
   "cell_type": "code",
   "execution_count": 7,
   "id": "414c04e3",
   "metadata": {},
   "outputs": [
    {
     "data": {
      "text/html": [
       "<div>\n",
       "<style scoped>\n",
       "    .dataframe tbody tr th:only-of-type {\n",
       "        vertical-align: middle;\n",
       "    }\n",
       "\n",
       "    .dataframe tbody tr th {\n",
       "        vertical-align: top;\n",
       "    }\n",
       "\n",
       "    .dataframe thead th {\n",
       "        text-align: right;\n",
       "    }\n",
       "</style>\n",
       "<table border=\"1\" class=\"dataframe\">\n",
       "  <thead>\n",
       "    <tr style=\"text-align: right;\">\n",
       "      <th></th>\n",
       "      <th>index</th>\n",
       "      <th>variety</th>\n",
       "      <th>country_of_origin</th>\n",
       "      <th>flavor</th>\n",
       "    </tr>\n",
       "  </thead>\n",
       "  <tbody>\n",
       "    <tr>\n",
       "      <th>379</th>\n",
       "      <td>379</td>\n",
       "      <td>None</td>\n",
       "      <td>Taiwan</td>\n",
       "      <td>7.67</td>\n",
       "    </tr>\n",
       "    <tr>\n",
       "      <th>694</th>\n",
       "      <td>694</td>\n",
       "      <td>Typica</td>\n",
       "      <td>Mexico</td>\n",
       "      <td>7.58</td>\n",
       "    </tr>\n",
       "    <tr>\n",
       "      <th>1002</th>\n",
       "      <td>1002</td>\n",
       "      <td>Caturra</td>\n",
       "      <td>Colombia</td>\n",
       "      <td>7.50</td>\n",
       "    </tr>\n",
       "    <tr>\n",
       "      <th>101</th>\n",
       "      <td>101</td>\n",
       "      <td>SL34</td>\n",
       "      <td>Kenya</td>\n",
       "      <td>7.83</td>\n",
       "    </tr>\n",
       "    <tr>\n",
       "      <th>1187</th>\n",
       "      <td>1187</td>\n",
       "      <td>Catuai</td>\n",
       "      <td>Guatemala</td>\n",
       "      <td>7.17</td>\n",
       "    </tr>\n",
       "    <tr>\n",
       "      <th>...</th>\n",
       "      <td>...</td>\n",
       "      <td>...</td>\n",
       "      <td>...</td>\n",
       "      <td>...</td>\n",
       "    </tr>\n",
       "    <tr>\n",
       "      <th>879</th>\n",
       "      <td>879</td>\n",
       "      <td>Other</td>\n",
       "      <td>Tanzania, United Republic Of</td>\n",
       "      <td>7.33</td>\n",
       "    </tr>\n",
       "    <tr>\n",
       "      <th>275</th>\n",
       "      <td>275</td>\n",
       "      <td>Caturra</td>\n",
       "      <td>Colombia</td>\n",
       "      <td>7.67</td>\n",
       "    </tr>\n",
       "    <tr>\n",
       "      <th>237</th>\n",
       "      <td>237</td>\n",
       "      <td>Hawaiian Kona</td>\n",
       "      <td>United States (Hawaii)</td>\n",
       "      <td>7.75</td>\n",
       "    </tr>\n",
       "    <tr>\n",
       "      <th>1153</th>\n",
       "      <td>1153</td>\n",
       "      <td>Bourbon</td>\n",
       "      <td>Mexico</td>\n",
       "      <td>7.17</td>\n",
       "    </tr>\n",
       "    <tr>\n",
       "      <th>846</th>\n",
       "      <td>846</td>\n",
       "      <td>Gesha</td>\n",
       "      <td>Malawi</td>\n",
       "      <td>7.42</td>\n",
       "    </tr>\n",
       "  </tbody>\n",
       "</table>\n",
       "<p>1338 rows × 4 columns</p>\n",
       "</div>"
      ],
      "text/plain": [
       "      index        variety             country_of_origin  flavor\n",
       "379     379           None                        Taiwan    7.67\n",
       "694     694         Typica                        Mexico    7.58\n",
       "1002   1002        Caturra                      Colombia    7.50\n",
       "101     101           SL34                         Kenya    7.83\n",
       "1187   1187         Catuai                     Guatemala    7.17\n",
       "...     ...            ...                           ...     ...\n",
       "879     879          Other  Tanzania, United Republic Of    7.33\n",
       "275     275        Caturra                      Colombia    7.67\n",
       "237     237  Hawaiian Kona        United States (Hawaii)    7.75\n",
       "1153   1153        Bourbon                        Mexico    7.17\n",
       "846     846          Gesha                        Malawi    7.42\n",
       "\n",
       "[1338 rows x 4 columns]"
      ]
     },
     "execution_count": 7,
     "metadata": {},
     "output_type": "execute_result"
    }
   ],
   "source": [
    "coffee_resamp = coffee_focus.sample(frac=1, replace=True)\n",
    "coffee_resamp"
   ]
  },
  {
   "cell_type": "code",
   "execution_count": 8,
   "id": "73c55ede",
   "metadata": {},
   "outputs": [
    {
     "data": {
      "text/plain": [
       "577     5\n",
       "260     5\n",
       "692     5\n",
       "398     5\n",
       "690     4\n",
       "       ..\n",
       "251     1\n",
       "1152    1\n",
       "701     1\n",
       "896     1\n",
       "275     1\n",
       "Name: index, Length: 846, dtype: int64"
      ]
     },
     "execution_count": 8,
     "metadata": {},
     "output_type": "execute_result"
    }
   ],
   "source": [
    "coffee_resamp['index'].value_counts()"
   ]
  },
  {
   "cell_type": "code",
   "execution_count": null,
   "id": "57027c35",
   "metadata": {},
   "outputs": [],
   "source": []
  },
  {
   "cell_type": "code",
   "execution_count": 9,
   "id": "7f261e1c",
   "metadata": {},
   "outputs": [],
   "source": [
    "num_unique_coffees = len(coffee_resamp.drop_duplicates(subset=\"index\"))"
   ]
  },
  {
   "cell_type": "code",
   "execution_count": 11,
   "id": "0976d7f2",
   "metadata": {},
   "outputs": [
    {
     "data": {
      "text/plain": [
       "846"
      ]
     },
     "execution_count": 11,
     "metadata": {},
     "output_type": "execute_result"
    }
   ],
   "source": [
    "num_unique_coffees"
   ]
  },
  {
   "cell_type": "code",
   "execution_count": 12,
   "id": "eb93260f",
   "metadata": {},
   "outputs": [
    {
     "data": {
      "text/plain": [
       "492"
      ]
     },
     "execution_count": 12,
     "metadata": {},
     "output_type": "execute_result"
    }
   ],
   "source": [
    "len(coffee_ratings) - num_unique_coffees"
   ]
  },
  {
   "cell_type": "code",
   "execution_count": null,
   "id": "99a8fd40",
   "metadata": {},
   "outputs": [],
   "source": []
  },
  {
   "cell_type": "code",
   "execution_count": null,
   "id": "5e20e4b9",
   "metadata": {},
   "outputs": [],
   "source": []
  },
  {
   "cell_type": "markdown",
   "id": "392c968e",
   "metadata": {},
   "source": [
    "## Generating a bootstrap distribution\n"
   ]
  },
  {
   "cell_type": "code",
   "execution_count": 15,
   "id": "e211523e",
   "metadata": {
    "collapsed": true
   },
   "outputs": [
    {
     "name": "stdout",
     "output_type": "stream",
     "text": [
      "       acousticness                                     artists  danceability  \\\n",
      "33937      0.174000                               ['Joe Walsh']         0.468   \n",
      "16673      0.522000      ['Fred Hammond', 'Radical For Christ']         0.499   \n",
      "34776      0.475000  ['Edwin Luna y La Trakalosa de Monterrey']         0.664   \n",
      "18332      0.930000                                   ['Ollie']         0.688   \n",
      "27086      0.983000                           ['Thomas Newman']         0.304   \n",
      "...             ...                                         ...           ...   \n",
      "21709      0.771000                              ['John Mayer']         0.315   \n",
      "34398      0.000939                         ['My Darkest Days']         0.577   \n",
      "22100      0.115000                                  ['Grimes']         0.697   \n",
      "27349      0.202000                           ['Blackalicious']         0.845   \n",
      "18586      0.590000                           ['Mereba', 'JID']         0.637   \n",
      "\n",
      "       duration_ms  duration_minutes  energy  explicit  \\\n",
      "33937     235427.0          3.923783  0.6770       0.0   \n",
      "16673     378187.0          6.303117  0.6850       0.0   \n",
      "34776     216227.0          3.603783  0.6230       0.0   \n",
      "18332     277264.0          4.621067  0.5360       1.0   \n",
      "27086     246627.0          4.110450  0.0116       0.0   \n",
      "...            ...               ...     ...       ...   \n",
      "21709     263573.0          4.392883  0.2960       0.0   \n",
      "34398     176400.0          2.940000  0.9250       0.0   \n",
      "22100     251267.0          4.187783  0.5290       0.0   \n",
      "27349     206400.0          3.440000  0.5170       0.0   \n",
      "18586     179027.0          2.983783  0.5120       1.0   \n",
      "\n",
      "                           id  instrumentalness  key  liveness  loudness  \\\n",
      "33937  3G863Tbi9fj5IshOoql1aO          0.006210  9.0    0.4230    -9.651   \n",
      "16673  6j8k5yjxYXg5zxDOPoii5K          0.000000  5.0    0.5640    -4.499   \n",
      "34776  5lqBhTIPK6sJ57mm7YfaKt          0.000000  7.0    0.0714    -3.342   \n",
      "18332  0ZGz6jp69iUK49VSloTfmC          0.000021  1.0    0.1200   -15.598   \n",
      "27086  33B1XmfncHqnfkrYZIcHbD          0.963000  7.0    0.1040   -33.190   \n",
      "...                       ...               ...  ...       ...       ...   \n",
      "21709  4LloVtxNZpeh7q7xdi1DQc          0.000000  5.0    0.7020   -13.262   \n",
      "34398  2cLvZokGgikrGmY6XIzztS          0.000000  2.0    0.2160    -3.099   \n",
      "22100  4P6n0udLAnmCNXVcobYbsK          0.901000  2.0    0.0895    -8.838   \n",
      "27349  4TlYG3mKosVWfGbb9VfDh3          0.002370  1.0    0.1340    -9.350   \n",
      "18586  1NlWBpNYAnFT7gMGyC0Y1M          0.000464  2.0    0.0712   -10.027   \n",
      "\n",
      "       mode                                               name  popularity  \\\n",
      "33937   1.0       In The City - From \"The Warriors\" Soundtrack        50.0   \n",
      "16673   1.0                                    When You Praise        33.0   \n",
      "34776   0.0                                      Broche de Oro        65.0   \n",
      "18332   1.0                                        Fading Away        55.0   \n",
      "27086   0.0                                     Any Other Name        59.0   \n",
      "...     ...                                                ...         ...   \n",
      "21709   1.0  Free Fallin' - Live at the Nokia Theatre, Los ...        74.0   \n",
      "34398   0.0                                          Every Lie        53.0   \n",
      "22100   1.0                                           Oblivion        67.0   \n",
      "27349   1.0                             Make You Feel That Way        52.0   \n",
      "18586   1.0                              Sandstorm (feat. JID)        62.0   \n",
      "\n",
      "      release_date  speechiness    tempo  valence    year  \n",
      "33937   2005-01-01       0.0331   80.846   0.7040  2005.0  \n",
      "16673   2000-04-18       0.0613  112.854   0.4220  2000.0  \n",
      "34776   2014-08-05       0.0333  129.915   0.4670  2014.0  \n",
      "18332   2016-01-31       0.2320   95.087   0.3630  2016.0  \n",
      "27086   2000-01-11       0.0337   77.840   0.0364  2000.0  \n",
      "...            ...          ...      ...      ...     ...  \n",
      "21709         2008       0.0317  172.638   0.4360  2008.0  \n",
      "34398   2010-01-01       0.0430  112.044   0.6210  2010.0  \n",
      "22100   2012-02-21       0.0338  155.974   0.4860  2012.0  \n",
      "27349   2002-01-01       0.3100  117.939   0.6410  2002.0  \n",
      "18586   2019-02-27       0.0978  109.492   0.3300  2019.0  \n",
      "\n",
      "[41656 rows x 20 columns]\n"
     ]
    }
   ],
   "source": [
    "# Generate 1 bootstrap resample\n",
    "spotify_1_resample = spotify.sample(frac=1, replace=True)\n",
    "\n",
    "# Print the resample\n",
    "print(spotify_1_resample)"
   ]
  },
  {
   "cell_type": "code",
   "execution_count": null,
   "id": "6c63006d",
   "metadata": {},
   "outputs": [],
   "source": [
    "# Generate 1 bootstrap resample\n",
    "spotify_1_resample = spotify_sample.sample(frac=1, replace=True)\n",
    "\n",
    "# Calculate of the danceability column of spotify_1_resample\n",
    "mean_danceability_1 = np.mean(spotify_1_resample['danceability'])\n",
    "\n",
    "# Print the result\n",
    "print(mean_danceability_1)"
   ]
  },
  {
   "cell_type": "code",
   "execution_count": 16,
   "id": "e194c81b",
   "metadata": {},
   "outputs": [
    {
     "ename": "NameError",
     "evalue": "name 'spotify_sample' is not defined",
     "output_type": "error",
     "traceback": [
      "\u001b[1;31m---------------------------------------------------------------------------\u001b[0m",
      "\u001b[1;31mNameError\u001b[0m                                 Traceback (most recent call last)",
      "\u001b[1;32m~\\AppData\\Local\\Temp\\ipykernel_5684\\4286050466.py\u001b[0m in \u001b[0;36m<module>\u001b[1;34m\u001b[0m\n\u001b[0;32m      3\u001b[0m \u001b[1;32mfor\u001b[0m \u001b[0mi\u001b[0m \u001b[1;32min\u001b[0m \u001b[0mrange\u001b[0m\u001b[1;33m(\u001b[0m\u001b[1;36m1000\u001b[0m\u001b[1;33m)\u001b[0m\u001b[1;33m:\u001b[0m\u001b[1;33m\u001b[0m\u001b[1;33m\u001b[0m\u001b[0m\n\u001b[0;32m      4\u001b[0m \tmean_danceability_1000.append(\n\u001b[1;32m----> 5\u001b[1;33m         \u001b[0mnp\u001b[0m\u001b[1;33m.\u001b[0m\u001b[0mmean\u001b[0m\u001b[1;33m(\u001b[0m\u001b[0mspotify_sample\u001b[0m\u001b[1;33m.\u001b[0m\u001b[0msample\u001b[0m\u001b[1;33m(\u001b[0m\u001b[0mfrac\u001b[0m\u001b[1;33m=\u001b[0m\u001b[1;36m1\u001b[0m\u001b[1;33m,\u001b[0m \u001b[0mreplace\u001b[0m\u001b[1;33m=\u001b[0m\u001b[1;32mTrue\u001b[0m\u001b[1;33m)\u001b[0m\u001b[1;33m[\u001b[0m\u001b[1;34m'danceability'\u001b[0m\u001b[1;33m]\u001b[0m\u001b[1;33m)\u001b[0m\u001b[1;33m\u001b[0m\u001b[1;33m\u001b[0m\u001b[0m\n\u001b[0m\u001b[0;32m      6\u001b[0m \t)\n\u001b[0;32m      7\u001b[0m \u001b[1;33m\u001b[0m\u001b[0m\n",
      "\u001b[1;31mNameError\u001b[0m: name 'spotify_sample' is not defined"
     ]
    }
   ],
   "source": [
    "# Replicate this 1000 times\n",
    "mean_danceability_1000 = []\n",
    "for i in range(1000):\n",
    "\tmean_danceability_1000.append(\n",
    "        np.mean(spotify_sample.sample(frac=1, replace=True)['danceability'])\n",
    "\t)\n",
    "  \n",
    "# Print the result\n",
    "print(mean_danceability_1000)"
   ]
  },
  {
   "cell_type": "code",
   "execution_count": null,
   "id": "efc16f82",
   "metadata": {},
   "outputs": [],
   "source": []
  }
 ],
 "metadata": {
  "kernelspec": {
   "display_name": "Python 3 (ipykernel)",
   "language": "python",
   "name": "python3"
  },
  "language_info": {
   "codemirror_mode": {
    "name": "ipython",
    "version": 3
   },
   "file_extension": ".py",
   "mimetype": "text/x-python",
   "name": "python",
   "nbconvert_exporter": "python",
   "pygments_lexer": "ipython3",
   "version": "3.9.13"
  }
 },
 "nbformat": 4,
 "nbformat_minor": 5
}
