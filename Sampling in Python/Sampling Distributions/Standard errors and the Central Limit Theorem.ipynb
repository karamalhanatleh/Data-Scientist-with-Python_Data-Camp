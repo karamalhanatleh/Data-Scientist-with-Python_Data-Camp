{
 "cells": [
  {
   "cell_type": "markdown",
   "id": "9b150858",
   "metadata": {},
   "source": [
    "# Standard errors and the Central Limit Theorem\n"
   ]
  },
  {
   "cell_type": "code",
   "execution_count": 1,
   "id": "36a6403a",
   "metadata": {},
   "outputs": [],
   "source": [
    "# Importing pandas\n",
    "import pandas as pd\n",
    "import numpy as np\n",
    "import matplotlib.pyplot as plt\n",
    "import numpy as np\n",
    "from itertools import product\n",
    "import itertools\n",
    "attrition = pd.read_feather(\"../datasets/attrition.feather\")\n",
    "spotify = pd.read_feather(\"../datasets/spotify_2000_2020.feather\")\n",
    "coffee_ratings = pd.read_feather(\"../datasets/coffee_ratings_full.feather\")\n"
   ]
  },
  {
   "cell_type": "code",
   "execution_count": 2,
   "id": "afbf2a10",
   "metadata": {},
   "outputs": [
    {
     "data": {
      "text/plain": [
       "82.15120328849018"
      ]
     },
     "execution_count": 2,
     "metadata": {},
     "output_type": "execute_result"
    }
   ],
   "source": [
    "coffee_ratings['total_cup_points'].mean()"
   ]
  },
  {
   "cell_type": "code",
   "execution_count": 5,
   "id": "4efc95e9",
   "metadata": {},
   "outputs": [
    {
     "data": {
      "text/plain": [
       "2.685858187306436"
      ]
     },
     "execution_count": 5,
     "metadata": {},
     "output_type": "execute_result"
    }
   ],
   "source": [
    "coffee_ratings['total_cup_points'].std(ddof=0)"
   ]
  },
  {
   "cell_type": "code",
   "execution_count": null,
   "id": "19123561",
   "metadata": {},
   "outputs": [],
   "source": []
  }
 ],
 "metadata": {
  "kernelspec": {
   "display_name": "Python 3 (ipykernel)",
   "language": "python",
   "name": "python3"
  },
  "language_info": {
   "codemirror_mode": {
    "name": "ipython",
    "version": 3
   },
   "file_extension": ".py",
   "mimetype": "text/x-python",
   "name": "python",
   "nbconvert_exporter": "python",
   "pygments_lexer": "ipython3",
   "version": "3.9.13"
  }
 },
 "nbformat": 4,
 "nbformat_minor": 5
}
