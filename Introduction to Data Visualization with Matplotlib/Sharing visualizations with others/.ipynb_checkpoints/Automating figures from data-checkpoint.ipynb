{
 "cells": [
  {
   "cell_type": "code",
   "execution_count": 1,
   "id": "2bf7a349",
   "metadata": {},
   "outputs": [
    {
     "name": "stderr",
     "output_type": "stream",
     "text": [
      "C:\\Users\\DELL\\AppData\\Local\\Temp\\ipykernel_14212\\3953587400.py:15: SettingWithCopyWarning: \n",
      "A value is trying to be set on a copy of a slice from a DataFrame.\n",
      "Try using .loc[row_indexer,col_indexer] = value instead\n",
      "\n",
      "See the caveats in the documentation: https://pandas.pydata.org/pandas-docs/stable/user_guide/indexing.html#returning-a-view-versus-a-copy\n",
      "  seattle_weather[\"MONTH\"] = month\n"
     ]
    }
   ],
   "source": [
    "# Importing course packages; you can add more too!\n",
    "import pandas as pd\n",
    "import numpy as np\n",
    "import matplotlib.pyplot as plt\n",
    "\n",
    "# Importing course datasets as DataFrames\n",
    "climate_change = pd.read_csv('datasets/climate_change.csv', parse_dates=[\"date\"], index_col=\"date\")\n",
    "medals = pd.read_csv('datasets/medals_by_country_2016.csv', index_col=0)\n",
    "summer_2016 = pd.read_csv('datasets/summer2016.csv')\n",
    "austin_weather = pd.read_csv(\"datasets/austin_weather.csv\", index_col=\"DATE\")\n",
    "weather = pd.read_csv(\"datasets/seattle_weather.csv\", index_col=\"DATE\")\n",
    "# Some pre-processing on the weather datasets, including adding a month column\n",
    "seattle_weather = weather[weather[\"STATION\"] == \"USW00094290\"] \n",
    "month = [\"Jan\", \"Feb\", \"Mar\", \"Apr\", \"May\", \"Jun\", \"Jul\", \"Aug\", \"Sep\", \"Oct\", \"Nov\", \"Dec\"] \n",
    "seattle_weather[\"MONTH\"] = month \n",
    "austin_weather[\"MONTH\"] = month\n",
    "\n"
   ]
  },
  {
   "cell_type": "code",
   "execution_count": null,
   "id": "c083dd3a",
   "metadata": {},
   "outputs": [],
   "source": []
  },
  {
   "cell_type": "code",
   "execution_count": 17,
   "id": "11f9f7b9",
   "metadata": {},
   "outputs": [
    {
     "data": {
      "text/plain": [
       "0           Rowing\n",
       "1        Taekwondo\n",
       "2         Handball\n",
       "3        Wrestling\n",
       "4       Gymnastics\n",
       "           ...    \n",
       "2009    Volleyball\n",
       "2010    Volleyball\n",
       "2011        Boxing\n",
       "2012      Canoeing\n",
       "2013        Hockey\n",
       "Name: Sport, Length: 2014, dtype: object"
      ]
     },
     "execution_count": 17,
     "metadata": {},
     "output_type": "execute_result"
    }
   ],
   "source": [
    "summer_2016[\"Sport\"]"
   ]
  },
  {
   "cell_type": "code",
   "execution_count": 19,
   "id": "a7dfc438",
   "metadata": {},
   "outputs": [
    {
     "data": {
      "text/plain": [
       "array(['Rowing', 'Taekwondo', 'Handball', 'Wrestling', 'Gymnastics',\n",
       "       'Swimming', 'Basketball', 'Boxing', 'Volleyball', 'Athletics',\n",
       "       'Rugby Sevens', 'Judo', 'Rhythmic Gymnastics', 'Weightlifting',\n",
       "       'Equestrianism', 'Badminton', 'Water Polo', 'Football', 'Fencing',\n",
       "       'Shooting', 'Sailing', 'Beach Volleyball', 'Canoeing', 'Hockey',\n",
       "       'Cycling', 'Tennis', 'Diving', 'Table Tennis', 'Triathlon',\n",
       "       'Archery', 'Synchronized Swimming', 'Modern Pentathlon',\n",
       "       'Trampolining', 'Golf'], dtype=object)"
      ]
     },
     "execution_count": 19,
     "metadata": {},
     "output_type": "execute_result"
    }
   ],
   "source": [
    "sports = summer_2016[\"Sport\"].unique()\n",
    "sports"
   ]
  },
  {
   "cell_type": "code",
   "execution_count": null,
   "id": "58560c24",
   "metadata": {},
   "outputs": [],
   "source": []
  }
 ],
 "metadata": {
  "kernelspec": {
   "display_name": "Python 3 (ipykernel)",
   "language": "python",
   "name": "python3"
  },
  "language_info": {
   "codemirror_mode": {
    "name": "ipython",
    "version": 3
   },
   "file_extension": ".py",
   "mimetype": "text/x-python",
   "name": "python",
   "nbconvert_exporter": "python",
   "pygments_lexer": "ipython3",
   "version": "3.9.13"
  }
 },
 "nbformat": 4,
 "nbformat_minor": 5
}
