{
 "cells": [
  {
   "cell_type": "code",
   "execution_count": 7,
   "id": "4bf7facc",
   "metadata": {},
   "outputs": [],
   "source": [
    "import pandas as pd\n",
    "import numpy as np"
   ]
  },
  {
   "cell_type": "code",
   "execution_count": 8,
   "id": "3fd6f9eb",
   "metadata": {},
   "outputs": [],
   "source": [
    "die = pd.Series([1, 2, 3, 4, 5, 6])\n"
   ]
  },
  {
   "cell_type": "code",
   "execution_count": 9,
   "id": "82a47d56",
   "metadata": {},
   "outputs": [
    {
     "data": {
      "text/plain": [
       "2    3\n",
       "2    3\n",
       "4    5\n",
       "3    4\n",
       "0    1\n",
       "dtype: int64"
      ]
     },
     "execution_count": 9,
     "metadata": {},
     "output_type": "execute_result"
    }
   ],
   "source": [
    "samp_5 = die.sample(5, replace=True)\n",
    "samp_5"
   ]
  },
  {
   "cell_type": "code",
   "execution_count": 10,
   "id": "63f00a7e",
   "metadata": {},
   "outputs": [
    {
     "data": {
      "text/plain": [
       "3.2"
      ]
     },
     "execution_count": 10,
     "metadata": {},
     "output_type": "execute_result"
    }
   ],
   "source": [
    "np.mean(samp_5)"
   ]
  },
  {
   "cell_type": "code",
   "execution_count": null,
   "id": "238f64c9",
   "metadata": {},
   "outputs": [],
   "source": []
  },
  {
   "cell_type": "code",
   "execution_count": 11,
   "id": "87dd3fff",
   "metadata": {},
   "outputs": [
    {
     "name": "stdout",
     "output_type": "stream",
     "text": [
      "[3.8, 3.4, 3.8, 3.6, 3.8, 3.4, 3.4, 4.0, 3.8, 3.4]\n"
     ]
    }
   ],
   "source": [
    "sample_means = []\n",
    "for i in range(10):\n",
    "    samp_5 = die.sample(5, replace=True)\n",
    "    sample_means.append(np.mean(samp_5))\n",
    "print(sample_means)"
   ]
  },
  {
   "cell_type": "code",
   "execution_count": null,
   "id": "4be8e54a",
   "metadata": {},
   "outputs": [],
   "source": []
  },
  {
   "cell_type": "code",
   "execution_count": 24,
   "id": "a18abc9d",
   "metadata": {},
   "outputs": [],
   "source": [
    "sample_means = []\n",
    "for i in range(100):\n",
    "    sample_means.append(np.mean(die.sample(5, replace=True)))"
   ]
  },
  {
   "cell_type": "code",
   "execution_count": 25,
   "id": "063e51e1",
   "metadata": {},
   "outputs": [
    {
     "data": {
      "text/plain": [
       "3.694"
      ]
     },
     "execution_count": 25,
     "metadata": {},
     "output_type": "execute_result"
    }
   ],
   "source": [
    "np.mean(sample_means)"
   ]
  },
  {
   "cell_type": "code",
   "execution_count": null,
   "id": "3066a69b",
   "metadata": {},
   "outputs": [],
   "source": []
  },
  {
   "cell_type": "code",
   "execution_count": 26,
   "id": "51fc11cc",
   "metadata": {},
   "outputs": [],
   "source": [
    "sample_means = []\n",
    "for i in range(1000):\n",
    "    sample_means.append(np.mean(die.sample(5, replace=True)))"
   ]
  },
  {
   "cell_type": "code",
   "execution_count": 27,
   "id": "ac175682",
   "metadata": {},
   "outputs": [
    {
     "data": {
      "text/plain": [
       "3.4522000000000004"
      ]
     },
     "execution_count": 27,
     "metadata": {},
     "output_type": "execute_result"
    }
   ],
   "source": [
    "np.mean(sample_means)"
   ]
  },
  {
   "cell_type": "code",
   "execution_count": null,
   "id": "43171b4e",
   "metadata": {},
   "outputs": [],
   "source": []
  },
  {
   "cell_type": "markdown",
   "id": "457d9ec8",
   "metadata": {},
   "source": [
    "## Standard deviation and the CLT\n"
   ]
  },
  {
   "cell_type": "code",
   "execution_count": 28,
   "id": "51c8e587",
   "metadata": {},
   "outputs": [],
   "source": [
    "sample_sds = []\n",
    "for i in range(1000):\n",
    "    sample_sds.append(np.std(die.sample(5, replace=True)))"
   ]
  },
  {
   "cell_type": "code",
   "execution_count": 31,
   "id": "46529f41",
   "metadata": {},
   "outputs": [
    {
     "data": {
      "text/plain": [
       "1.4945919767455298"
      ]
     },
     "execution_count": 31,
     "metadata": {},
     "output_type": "execute_result"
    }
   ],
   "source": [
    "np.mean(sample_sds)"
   ]
  },
  {
   "cell_type": "code",
   "execution_count": null,
   "id": "2ae35a69",
   "metadata": {},
   "outputs": [],
   "source": []
  },
  {
   "cell_type": "markdown",
   "id": "e173506d",
   "metadata": {},
   "source": [
    "## Proportions and the CLT\n"
   ]
  },
  {
   "cell_type": "code",
   "execution_count": 32,
   "id": "798a507d",
   "metadata": {},
   "outputs": [],
   "source": [
    "sales_team = pd.Series([\"Amir\",\"Brian\",\"Claire\",\"Damian\"])"
   ]
  },
  {
   "cell_type": "code",
   "execution_count": 34,
   "id": "a383ae57",
   "metadata": {},
   "outputs": [
    {
     "data": {
      "text/plain": [
       "0      Amir\n",
       "1     Brian\n",
       "0      Amir\n",
       "0      Amir\n",
       "2    Claire\n",
       "1     Brian\n",
       "1     Brian\n",
       "3    Damian\n",
       "1     Brian\n",
       "2    Claire\n",
       "dtype: object"
      ]
     },
     "execution_count": 34,
     "metadata": {},
     "output_type": "execute_result"
    }
   ],
   "source": [
    "sales_team.sample(10, replace=True)"
   ]
  },
  {
   "cell_type": "code",
   "execution_count": null,
   "id": "3236129a",
   "metadata": {},
   "outputs": [],
   "source": []
  }
 ],
 "metadata": {
  "kernelspec": {
   "display_name": "Python 3 (ipykernel)",
   "language": "python",
   "name": "python3"
  },
  "language_info": {
   "codemirror_mode": {
    "name": "ipython",
    "version": 3
   },
   "file_extension": ".py",
   "mimetype": "text/x-python",
   "name": "python",
   "nbconvert_exporter": "python",
   "pygments_lexer": "ipython3",
   "version": "3.9.13"
  }
 },
 "nbformat": 4,
 "nbformat_minor": 5
}
