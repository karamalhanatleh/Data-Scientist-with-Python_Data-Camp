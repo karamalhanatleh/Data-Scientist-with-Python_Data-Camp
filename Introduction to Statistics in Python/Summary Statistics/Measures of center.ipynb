{
 "cells": [
  {
   "cell_type": "code",
   "execution_count": 1,
   "id": "025e3b3d",
   "metadata": {},
   "outputs": [],
   "source": [
    "import pandas as pd\n",
    "#Create a Dictionary of series\n",
    "d = {'Name':pd.Series(['Raj','Sham','Tusar','Ram','Jaggu','Karishma','Pranab',\n",
    "'Shami','Chahal','Dhoni','Sachin','Bumrah']),\n",
    "'Age':pd.Series([21,22,24,28,19,18,20,32,32,35,42,29]),\n",
    "'Rating':pd.Series([4.17,3.89,3.63,5.00,1.98,1.03,2.36,4.00,3.92,4.88,4.99,4.23])}\n"
   ]
  },
  {
   "cell_type": "code",
   "execution_count": 8,
   "id": "c2a894e0",
   "metadata": {
    "scrolled": true
   },
   "outputs": [
    {
     "data": {
      "text/html": [
       "<div>\n",
       "<style scoped>\n",
       "    .dataframe tbody tr th:only-of-type {\n",
       "        vertical-align: middle;\n",
       "    }\n",
       "\n",
       "    .dataframe tbody tr th {\n",
       "        vertical-align: top;\n",
       "    }\n",
       "\n",
       "    .dataframe thead th {\n",
       "        text-align: right;\n",
       "    }\n",
       "</style>\n",
       "<table border=\"1\" class=\"dataframe\">\n",
       "  <thead>\n",
       "    <tr style=\"text-align: right;\">\n",
       "      <th></th>\n",
       "      <th>Name</th>\n",
       "      <th>Age</th>\n",
       "      <th>Rating</th>\n",
       "    </tr>\n",
       "  </thead>\n",
       "  <tbody>\n",
       "    <tr>\n",
       "      <th>0</th>\n",
       "      <td>Raj</td>\n",
       "      <td>21</td>\n",
       "      <td>4.17</td>\n",
       "    </tr>\n",
       "    <tr>\n",
       "      <th>1</th>\n",
       "      <td>Sham</td>\n",
       "      <td>22</td>\n",
       "      <td>3.89</td>\n",
       "    </tr>\n",
       "    <tr>\n",
       "      <th>2</th>\n",
       "      <td>Tusar</td>\n",
       "      <td>24</td>\n",
       "      <td>3.63</td>\n",
       "    </tr>\n",
       "    <tr>\n",
       "      <th>3</th>\n",
       "      <td>Ram</td>\n",
       "      <td>28</td>\n",
       "      <td>5.00</td>\n",
       "    </tr>\n",
       "    <tr>\n",
       "      <th>4</th>\n",
       "      <td>Jaggu</td>\n",
       "      <td>19</td>\n",
       "      <td>1.98</td>\n",
       "    </tr>\n",
       "    <tr>\n",
       "      <th>5</th>\n",
       "      <td>Karishma</td>\n",
       "      <td>18</td>\n",
       "      <td>1.03</td>\n",
       "    </tr>\n",
       "    <tr>\n",
       "      <th>6</th>\n",
       "      <td>Pranab</td>\n",
       "      <td>20</td>\n",
       "      <td>2.36</td>\n",
       "    </tr>\n",
       "    <tr>\n",
       "      <th>7</th>\n",
       "      <td>Shami</td>\n",
       "      <td>32</td>\n",
       "      <td>4.00</td>\n",
       "    </tr>\n",
       "    <tr>\n",
       "      <th>8</th>\n",
       "      <td>Chahal</td>\n",
       "      <td>32</td>\n",
       "      <td>3.92</td>\n",
       "    </tr>\n",
       "    <tr>\n",
       "      <th>9</th>\n",
       "      <td>Dhoni</td>\n",
       "      <td>35</td>\n",
       "      <td>4.88</td>\n",
       "    </tr>\n",
       "    <tr>\n",
       "      <th>10</th>\n",
       "      <td>Sachin</td>\n",
       "      <td>42</td>\n",
       "      <td>4.99</td>\n",
       "    </tr>\n",
       "    <tr>\n",
       "      <th>11</th>\n",
       "      <td>Bumrah</td>\n",
       "      <td>29</td>\n",
       "      <td>4.23</td>\n",
       "    </tr>\n",
       "  </tbody>\n",
       "</table>\n",
       "</div>"
      ],
      "text/plain": [
       "        Name  Age  Rating\n",
       "0        Raj   21    4.17\n",
       "1       Sham   22    3.89\n",
       "2      Tusar   24    3.63\n",
       "3        Ram   28    5.00\n",
       "4      Jaggu   19    1.98\n",
       "5   Karishma   18    1.03\n",
       "6     Pranab   20    2.36\n",
       "7      Shami   32    4.00\n",
       "8     Chahal   32    3.92\n",
       "9      Dhoni   35    4.88\n",
       "10    Sachin   42    4.99\n",
       "11    Bumrah   29    4.23"
      ]
     },
     "execution_count": 8,
     "metadata": {},
     "output_type": "execute_result"
    }
   ],
   "source": [
    "#Create a DataFrame\n",
    "database = pd.DataFrame(d)\n",
    "database"
   ]
  },
  {
   "cell_type": "code",
   "execution_count": 9,
   "id": "d6878aa9",
   "metadata": {
    "scrolled": true
   },
   "outputs": [
    {
     "name": "stderr",
     "output_type": "stream",
     "text": [
      "C:\\Users\\DELL\\AppData\\Local\\Temp\\ipykernel_19920\\731099213.py:1: FutureWarning: Dropping of nuisance columns in DataFrame reductions (with 'numeric_only=None') is deprecated; in a future version this will raise TypeError.  Select only valid columns before calling the reduction.\n",
      "  database.mean()\n"
     ]
    },
    {
     "data": {
      "text/plain": [
       "Age       26.833333\n",
       "Rating     3.673333\n",
       "dtype: float64"
      ]
     },
     "execution_count": 9,
     "metadata": {},
     "output_type": "execute_result"
    }
   ],
   "source": [
    "database.mean()"
   ]
  },
  {
   "cell_type": "code",
   "execution_count": 10,
   "id": "9b582ccb",
   "metadata": {},
   "outputs": [
    {
     "name": "stderr",
     "output_type": "stream",
     "text": [
      "C:\\Users\\DELL\\AppData\\Local\\Temp\\ipykernel_19920\\4040823249.py:1: FutureWarning: Dropping of nuisance columns in DataFrame reductions (with 'numeric_only=None') is deprecated; in a future version this will raise TypeError.  Select only valid columns before calling the reduction.\n",
      "  database.median()\n"
     ]
    },
    {
     "data": {
      "text/plain": [
       "Age       26.00\n",
       "Rating     3.96\n",
       "dtype: float64"
      ]
     },
     "execution_count": 10,
     "metadata": {},
     "output_type": "execute_result"
    }
   ],
   "source": [
    "database.median()"
   ]
  },
  {
   "cell_type": "code",
   "execution_count": null,
   "id": "1772b502",
   "metadata": {},
   "outputs": [],
   "source": [
    "print(\"Mean Values in the Distribution\")\n",
    "print(database.mean())\n",
    "print(\"*******************************\")\n",
    "print(\"Median Values in the Distribution\")\n",
    "print(database.median())"
   ]
  },
  {
   "cell_type": "code",
   "execution_count": null,
   "id": "b1ef50ea",
   "metadata": {},
   "outputs": [],
   "source": []
  },
  {
   "cell_type": "code",
   "execution_count": null,
   "id": "9d997587",
   "metadata": {},
   "outputs": [],
   "source": []
  },
  {
   "cell_type": "code",
   "execution_count": 15,
   "id": "4a340527",
   "metadata": {},
   "outputs": [
    {
     "data": {
      "text/plain": [
       "Name      Age  Rating\n",
       "Bumrah    29   4.23      1\n",
       "Chahal    32   3.92      1\n",
       "Dhoni     35   4.88      1\n",
       "Jaggu     19   1.98      1\n",
       "Karishma  18   1.03      1\n",
       "Pranab    20   2.36      1\n",
       "Raj       21   4.17      1\n",
       "Ram       28   5.00      1\n",
       "Sachin    42   4.99      1\n",
       "Sham      22   3.89      1\n",
       "Shami     32   4.00      1\n",
       "Tusar     24   3.63      1\n",
       "dtype: int64"
      ]
     },
     "execution_count": 15,
     "metadata": {},
     "output_type": "execute_result"
    }
   ],
   "source": [
    "database.value_counts()"
   ]
  },
  {
   "cell_type": "code",
   "execution_count": null,
   "id": "bf8cadd4",
   "metadata": {},
   "outputs": [],
   "source": []
  }
 ],
 "metadata": {
  "kernelspec": {
   "display_name": "Python 3 (ipykernel)",
   "language": "python",
   "name": "python3"
  },
  "language_info": {
   "codemirror_mode": {
    "name": "ipython",
    "version": 3
   },
   "file_extension": ".py",
   "mimetype": "text/x-python",
   "name": "python",
   "nbconvert_exporter": "python",
   "pygments_lexer": "ipython3",
   "version": "3.9.13"
  }
 },
 "nbformat": 4,
 "nbformat_minor": 5
}
