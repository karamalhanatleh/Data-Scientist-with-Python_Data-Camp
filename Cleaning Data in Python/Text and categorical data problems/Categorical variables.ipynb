{
 "cells": [
  {
   "cell_type": "code",
   "execution_count": 1,
   "id": "71e1edb2",
   "metadata": {},
   "outputs": [],
   "source": [
    " \n",
    "# Import the course packages\n",
    "import pandas as pd\n",
    "import numpy as np\n",
    "import datetime as dt\n",
    "import matplotlib.pyplot as plt\n",
    "import missingno as msno\n",
    "import fuzzywuzzy\n",
    "import recordlinkage \n",
    "\n",
    "# Import the course datasets\n",
    "ride_sharing = pd.read_csv('../datasets/ride_sharing_new.csv', index_col = 'Unnamed: 0')\n",
    "airlines = pd.read_csv('../datasets/airlines_final.csv',  index_col = 'Unnamed: 0')\n",
    "banking = pd.read_csv('../datasets/banking_dirty.csv', index_col = 'Unnamed: 0')\n",
    "restaurants = pd.read_csv('../datasets/restaurants_L2.csv', index_col = 'Unnamed: 0')\n",
    "restaurants_new = pd.read_csv('../datasets/restaurants_L2_dirty.csv', index_col = 'Unnamed: 0')"
   ]
  },
  {
   "cell_type": "code",
   "execution_count": 6,
   "id": "1166bcf9",
   "metadata": {},
   "outputs": [
    {
     "data": {
      "text/plain": [
       "<bound method DataFrame.value_counts of          duration  station_A_id  \\\n",
       "0      12 minutes            81   \n",
       "1      24 minutes             3   \n",
       "2       8 minutes            67   \n",
       "3       4 minutes            16   \n",
       "4      11 minutes            22   \n",
       "...           ...           ...   \n",
       "25755  11 minutes            15   \n",
       "25756  10 minutes            15   \n",
       "25757  14 minutes            15   \n",
       "25758  14 minutes            15   \n",
       "25759  29 minutes            16   \n",
       "\n",
       "                                          station_A_name  station_B_id  \\\n",
       "0                                     Berry St at 4th St           323   \n",
       "1           Powell St BART Station (Market St at 4th St)           118   \n",
       "2      San Francisco Caltrain Station 2  (Townsend St...            23   \n",
       "3                                Steuart St at Market St            28   \n",
       "4                                  Howard St at Beale St           350   \n",
       "...                                                  ...           ...   \n",
       "25755  San Francisco Ferry Building (Harry Bridges Pl...            34   \n",
       "25756  San Francisco Ferry Building (Harry Bridges Pl...            34   \n",
       "25757  San Francisco Ferry Building (Harry Bridges Pl...            42   \n",
       "25758  San Francisco Ferry Building (Harry Bridges Pl...            42   \n",
       "25759                            Steuart St at Market St           115   \n",
       "\n",
       "                                      station_B_name  bike_id  user_type  \\\n",
       "0                                 Broadway at Kearny     5480          2   \n",
       "1                    Eureka Valley Recreation Center     5193          2   \n",
       "2                      The Embarcadero at Steuart St     3652          3   \n",
       "3                       The Embarcadero at Bryant St     1883          1   \n",
       "4                               8th St at Brannan St     4626          2   \n",
       "...                                              ...      ...        ...   \n",
       "25755                 Father Alfred E Boeddeker Park     5063          1   \n",
       "25756                 Father Alfred E Boeddeker Park     5411          2   \n",
       "25757  San Francisco City Hall (Polk St at Grove St)     5157          2   \n",
       "25758  San Francisco City Hall (Polk St at Grove St)     4438          2   \n",
       "25759                             Jackson Playground     1705          3   \n",
       "\n",
       "       user_birth_year user_gender  \n",
       "0                 1959        Male  \n",
       "1                 1965        Male  \n",
       "2                 1993        Male  \n",
       "3                 1979        Male  \n",
       "4                 1994        Male  \n",
       "...                ...         ...  \n",
       "25755             2000        Male  \n",
       "25756             1998        Male  \n",
       "25757             1995        Male  \n",
       "25758             1995        Male  \n",
       "25759             1990        Male  \n",
       "\n",
       "[25760 rows x 9 columns]>"
      ]
     },
     "execution_count": 6,
     "metadata": {},
     "output_type": "execute_result"
    }
   ],
   "source": [
    "a  =  ride_sharing\n",
    "a.value_counts"
   ]
  },
  {
   "cell_type": "code",
   "execution_count": null,
   "id": "787aecec",
   "metadata": {},
   "outputs": [],
   "source": []
  },
  {
   "cell_type": "code",
   "execution_count": null,
   "id": "26890a91",
   "metadata": {},
   "outputs": [],
   "source": []
  },
  {
   "cell_type": "code",
   "execution_count": 11,
   "id": "18419418",
   "metadata": {},
   "outputs": [],
   "source": [
    "###########"
   ]
  },
  {
   "cell_type": "code",
   "execution_count": 15,
   "id": "70f39f6d",
   "metadata": {},
   "outputs": [],
   "source": [
    "a=[\"KARAM\",'Karam','ALI','Ali','ali' ,\"OMAR\" ,'SANAD' ,'AMER','ZAID' ,\"Zaid\" ,'zaid' ,'omaR',\"Sanad\"]\n",
    "nsa =pd.DataFrame({\"name\" : a})"
   ]
  },
  {
   "cell_type": "code",
   "execution_count": 16,
   "id": "04bbf36a",
   "metadata": {},
   "outputs": [
    {
     "data": {
      "text/html": [
       "<div>\n",
       "<style scoped>\n",
       "    .dataframe tbody tr th:only-of-type {\n",
       "        vertical-align: middle;\n",
       "    }\n",
       "\n",
       "    .dataframe tbody tr th {\n",
       "        vertical-align: top;\n",
       "    }\n",
       "\n",
       "    .dataframe thead th {\n",
       "        text-align: right;\n",
       "    }\n",
       "</style>\n",
       "<table border=\"1\" class=\"dataframe\">\n",
       "  <thead>\n",
       "    <tr style=\"text-align: right;\">\n",
       "      <th></th>\n",
       "      <th>name</th>\n",
       "    </tr>\n",
       "  </thead>\n",
       "  <tbody>\n",
       "    <tr>\n",
       "      <th>0</th>\n",
       "      <td>KARAM</td>\n",
       "    </tr>\n",
       "    <tr>\n",
       "      <th>1</th>\n",
       "      <td>Karam</td>\n",
       "    </tr>\n",
       "    <tr>\n",
       "      <th>2</th>\n",
       "      <td>ALI</td>\n",
       "    </tr>\n",
       "    <tr>\n",
       "      <th>3</th>\n",
       "      <td>Ali</td>\n",
       "    </tr>\n",
       "    <tr>\n",
       "      <th>4</th>\n",
       "      <td>ali</td>\n",
       "    </tr>\n",
       "    <tr>\n",
       "      <th>5</th>\n",
       "      <td>OMAR</td>\n",
       "    </tr>\n",
       "    <tr>\n",
       "      <th>6</th>\n",
       "      <td>SANAD</td>\n",
       "    </tr>\n",
       "    <tr>\n",
       "      <th>7</th>\n",
       "      <td>AMER</td>\n",
       "    </tr>\n",
       "    <tr>\n",
       "      <th>8</th>\n",
       "      <td>ZAID</td>\n",
       "    </tr>\n",
       "    <tr>\n",
       "      <th>9</th>\n",
       "      <td>Zaid</td>\n",
       "    </tr>\n",
       "    <tr>\n",
       "      <th>10</th>\n",
       "      <td>zaid</td>\n",
       "    </tr>\n",
       "    <tr>\n",
       "      <th>11</th>\n",
       "      <td>omaR</td>\n",
       "    </tr>\n",
       "    <tr>\n",
       "      <th>12</th>\n",
       "      <td>Sanad</td>\n",
       "    </tr>\n",
       "  </tbody>\n",
       "</table>\n",
       "</div>"
      ],
      "text/plain": [
       "     name\n",
       "0   KARAM\n",
       "1   Karam\n",
       "2     ALI\n",
       "3     Ali\n",
       "4     ali\n",
       "5    OMAR\n",
       "6   SANAD\n",
       "7    AMER\n",
       "8    ZAID\n",
       "9    Zaid\n",
       "10   zaid\n",
       "11   omaR\n",
       "12  Sanad"
      ]
     },
     "execution_count": 16,
     "metadata": {},
     "output_type": "execute_result"
    }
   ],
   "source": [
    "nsa"
   ]
  },
  {
   "cell_type": "code",
   "execution_count": 19,
   "id": "268b5b4c",
   "metadata": {},
   "outputs": [
    {
     "data": {
      "text/plain": [
       "name \n",
       "ALI      1\n",
       "AMER     1\n",
       "Ali      1\n",
       "KARAM    1\n",
       "Karam    1\n",
       "OMAR     1\n",
       "SANAD    1\n",
       "Sanad    1\n",
       "ZAID     1\n",
       "Zaid     1\n",
       "ali      1\n",
       "omaR     1\n",
       "zaid     1\n",
       "dtype: int64"
      ]
     },
     "execution_count": 19,
     "metadata": {},
     "output_type": "execute_result"
    }
   ],
   "source": [
    "nsa.value_counts()"
   ]
  },
  {
   "cell_type": "code",
   "execution_count": 25,
   "id": "9bb51b0c",
   "metadata": {},
   "outputs": [],
   "source": [
    "nsa2 = nsa['name'].str.lower()"
   ]
  },
  {
   "cell_type": "code",
   "execution_count": 26,
   "id": "ec4f7eb2",
   "metadata": {},
   "outputs": [
    {
     "data": {
      "text/plain": [
       "ali      3\n",
       "zaid     3\n",
       "karam    2\n",
       "omar     2\n",
       "sanad    2\n",
       "amer     1\n",
       "Name: name, dtype: int64"
      ]
     },
     "execution_count": 26,
     "metadata": {},
     "output_type": "execute_result"
    }
   ],
   "source": [
    "nsa2.value_counts()"
   ]
  },
  {
   "cell_type": "code",
   "execution_count": null,
   "id": "473677fa",
   "metadata": {},
   "outputs": [],
   "source": []
  }
 ],
 "metadata": {
  "kernelspec": {
   "display_name": "Python 3 (ipykernel)",
   "language": "python",
   "name": "python3"
  },
  "language_info": {
   "codemirror_mode": {
    "name": "ipython",
    "version": 3
   },
   "file_extension": ".py",
   "mimetype": "text/x-python",
   "name": "python",
   "nbconvert_exporter": "python",
   "pygments_lexer": "ipython3",
   "version": "3.9.13"
  }
 },
 "nbformat": 4,
 "nbformat_minor": 5
}
