{
 "cells": [
  {
   "cell_type": "markdown",
   "id": "9d6494f1",
   "metadata": {},
   "source": [
    "# Regularized regression\n"
   ]
  },
  {
   "cell_type": "code",
   "execution_count": 4,
   "id": "73c4660b",
   "metadata": {},
   "outputs": [],
   "source": [
    "# Importing \n",
    "import pandas as pd\n",
    "import sklearn\n",
    "from sklearn.neighbors import KNeighborsClassifier\n",
    "import numpy as np\n",
    "from sklearn.model_selection import train_test_split\n",
    "import matplotlib.pyplot as plt\n",
    "from sklearn.metrics import mean_squared_error\n",
    "from sklearn.linear_model import LinearRegression\n",
    "from sklearn.model_selection import cross_val_score, KFold\n",
    "from sklearn.linear_model import Ridge"
   ]
  },
  {
   "cell_type": "code",
   "execution_count": 5,
   "id": "9fb5e4b7",
   "metadata": {},
   "outputs": [],
   "source": [
    "\n",
    "# Importing the  datasets \n",
    "diabetes = pd.read_csv('../datasets/diabetes_clean.csv')\n",
    "music = pd.read_csv('../datasets/music_clean.csv')\n",
    "advertising = pd.read_csv('../datasets/advertising_and_sales_clean.csv')\n",
    "telecom = pd.read_csv(\"../datasets/telecom_churn_clean.csv\")"
   ]
  },
  {
   "cell_type": "code",
   "execution_count": 23,
   "id": "1f4ba552",
   "metadata": {
    "scrolled": true
   },
   "outputs": [],
   "source": [
    "diabetes_df  =diabetes"
   ]
  },
  {
   "cell_type": "code",
   "execution_count": 24,
   "id": "496c71fc",
   "metadata": {},
   "outputs": [],
   "source": [
    "X = diabetes_df.drop(\"glucose\", axis=1).values\n",
    "y = diabetes_df[\"glucose\"].values"
   ]
  },
  {
   "cell_type": "code",
   "execution_count": 25,
   "id": "d36ebe41",
   "metadata": {},
   "outputs": [],
   "source": [
    "X_train, X_test, y_train, y_test = train_test_split(X, y, test_size=0.3,random_state=42)\n"
   ]
  },
  {
   "cell_type": "markdown",
   "id": "85feb384",
   "metadata": {},
   "source": [
    "Loss function = OLS loss function +"
   ]
  },
  {
   "cell_type": "code",
   "execution_count": 26,
   "id": "a70ec4af",
   "metadata": {},
   "outputs": [],
   "source": [
    "from sklearn.linear_model import Ridge"
   ]
  },
  {
   "cell_type": "code",
   "execution_count": 28,
   "id": "df7d4f4e",
   "metadata": {},
   "outputs": [
    {
     "name": "stdout",
     "output_type": "stream",
     "text": [
      "[0.28284666232222233, 0.28320633574804777, 0.2853000732200006, 0.26423984812668133, 0.19292424694100951]\n"
     ]
    }
   ],
   "source": [
    "scores = []\n",
    "for alpha in [0.1 ,1.0 , 10.0 , 100.0  , 1000.0]:\n",
    "    ridge= Ridge(alpha = alpha)\n",
    "    ridge.fit(X_train  , y_train )\n",
    "    y_pred  = ridge.predict(X_train)\n",
    "    scores.append(ridge.score(X_test, y_test))\n",
    "print(scores)"
   ]
  },
  {
   "cell_type": "code",
   "execution_count": null,
   "id": "cd3548f5",
   "metadata": {},
   "outputs": [],
   "source": []
  },
  {
   "cell_type": "markdown",
   "id": "dc59f1b1",
   "metadata": {},
   "source": [
    "## Lasso regression in scikit-learn"
   ]
  },
  {
   "cell_type": "code",
   "execution_count": 29,
   "id": "40ead3a2",
   "metadata": {},
   "outputs": [
    {
     "name": "stdout",
     "output_type": "stream",
     "text": [
      "[0.2831114455475573]\n",
      "[0.2831114455475573, 0.29795609755827845]\n",
      "[0.2831114455475573, 0.29795609755827845, 0.17989838789273882]\n",
      "[0.2831114455475573, 0.29795609755827845, 0.17989838789273882, 0.18127361610181125]\n",
      "[0.2831114455475573, 0.29795609755827845, 0.17989838789273882, 0.18127361610181125, 0.15679544303617965]\n"
     ]
    }
   ],
   "source": [
    "from sklearn.linear_model import Lasso\n",
    "scores = []\n",
    "for alpha in [0.01, 1.0, 10.0, 20.0, 50.0]:\n",
    "    lasso = Lasso(alpha=alpha)\n",
    "    lasso.fit(X_train, y_train)\n",
    "    lasso_pred = lasso.predict(X_test)\n",
    "    scores.append(lasso.score(X_test, y_test))\n",
    "    print(scores)"
   ]
  },
  {
   "cell_type": "code",
   "execution_count": null,
   "id": "6e2fd36b",
   "metadata": {},
   "outputs": [],
   "source": []
  },
  {
   "cell_type": "code",
   "execution_count": null,
   "id": "99251c75",
   "metadata": {},
   "outputs": [],
   "source": []
  },
  {
   "cell_type": "code",
   "execution_count": null,
   "id": "c24aa766",
   "metadata": {},
   "outputs": [],
   "source": []
  },
  {
   "cell_type": "code",
   "execution_count": null,
   "id": "206488af",
   "metadata": {},
   "outputs": [],
   "source": []
  },
  {
   "cell_type": "markdown",
   "id": "6dbffecd",
   "metadata": {},
   "source": [
    "## Exercise"
   ]
  },
  {
   "cell_type": "markdown",
   "id": "82cf3017",
   "metadata": {},
   "source": [
    "## Regularized regression: Ridge\n"
   ]
  },
  {
   "cell_type": "code",
   "execution_count": null,
   "id": "d72a2979",
   "metadata": {},
   "outputs": [],
   "source": [
    "# Import Ridge\n",
    "from sklearn.linear_model import Ridge\n",
    "alphas = [0.1, 1.0, 10.0, 100.0, 1000.0, 10000.0]\n",
    "ridge_scores = []\n",
    "for alpha in alphas:\n",
    "  \n",
    "  # Create a Ridge regression model\n",
    "  ridge = Ridge(alpha=alpha)\n",
    "  \n",
    "  # Fit the data\n",
    "  ridge.fit(X_train, y_train)\n",
    "  \n",
    "  # Obtain R-squared\n",
    "  score = ridge.score(X_test, y_test)\n",
    "  ridge_scores.append(score)\n",
    "print(ridge_scores)"
   ]
  },
  {
   "cell_type": "code",
   "execution_count": null,
   "id": "d787cfd5",
   "metadata": {},
   "outputs": [],
   "source": []
  },
  {
   "cell_type": "code",
   "execution_count": null,
   "id": "e60b56d1",
   "metadata": {},
   "outputs": [],
   "source": []
  },
  {
   "cell_type": "markdown",
   "id": "a1d6218c",
   "metadata": {},
   "source": [
    "## Lasso regression for feature importance\n"
   ]
  },
  {
   "cell_type": "code",
   "execution_count": null,
   "id": "7d956f0c",
   "metadata": {},
   "outputs": [],
   "source": [
    "# Import Lasso\n",
    "from sklearn.linear_model import Lasso\n",
    "\n",
    "# Instantiate a lasso regression model\n",
    "lasso = Lasso(alpha=0.3)\n",
    "\n",
    "# Fit the model to the data\n",
    "lasso.fit(X, y)\n",
    "\n",
    "# Compute and print the coefficients\n",
    "lasso_coef = lasso.coef_\n",
    "print(lasso_coef)\n",
    "plt.bar(sales_columns, lasso_coef)\n",
    "plt.xticks(rotation=45)\n",
    "plt.show()"
   ]
  }
 ],
 "metadata": {
  "kernelspec": {
   "display_name": "Python 3 (ipykernel)",
   "language": "python",
   "name": "python3"
  },
  "language_info": {
   "codemirror_mode": {
    "name": "ipython",
    "version": 3
   },
   "file_extension": ".py",
   "mimetype": "text/x-python",
   "name": "python",
   "nbconvert_exporter": "python",
   "pygments_lexer": "ipython3",
   "version": "3.9.13"
  }
 },
 "nbformat": 4,
 "nbformat_minor": 5
}
