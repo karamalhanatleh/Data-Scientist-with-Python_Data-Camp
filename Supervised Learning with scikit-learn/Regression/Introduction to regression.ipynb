{
 "cells": [
  {
   "cell_type": "markdown",
   "id": "c75459ad",
   "metadata": {},
   "source": [
    "# Introduction to regression\n"
   ]
  },
  {
   "cell_type": "code",
   "execution_count": 46,
   "id": "c0dc01f1",
   "metadata": {},
   "outputs": [],
   "source": [
    "# Importing \n",
    "import pandas as pd\n",
    "import sklearn\n",
    "from sklearn.neighbors import KNeighborsClassifier\n",
    "import numpy as np\n",
    "from sklearn.model_selection import train_test_split\n",
    "import matplotlib.pyplot as plt\n",
    "\n",
    "from sklearn.linear_model import LinearRegression"
   ]
  },
  {
   "cell_type": "code",
   "execution_count": 47,
   "id": "9c6ea99c",
   "metadata": {},
   "outputs": [],
   "source": [
    "\n",
    "# Importing the  datasets \n",
    "diabetes = pd.read_csv('../datasets/diabetes_clean.csv')\n",
    "music = pd.read_csv('../datasets/music_clean.csv')\n",
    "advertising = pd.read_csv('../datasets/advertising_and_sales_clean.csv')\n",
    "telecom = pd.read_csv(\"../datasets/telecom_churn_clean.csv\")"
   ]
  },
  {
   "cell_type": "code",
   "execution_count": 48,
   "id": "e0427cf8",
   "metadata": {},
   "outputs": [],
   "source": [
    "diabetes_df = diabetes"
   ]
  },
  {
   "cell_type": "code",
   "execution_count": 49,
   "id": "63f32aef",
   "metadata": {
    "scrolled": true
   },
   "outputs": [
    {
     "data": {
      "text/html": [
       "<div>\n",
       "<style scoped>\n",
       "    .dataframe tbody tr th:only-of-type {\n",
       "        vertical-align: middle;\n",
       "    }\n",
       "\n",
       "    .dataframe tbody tr th {\n",
       "        vertical-align: top;\n",
       "    }\n",
       "\n",
       "    .dataframe thead th {\n",
       "        text-align: right;\n",
       "    }\n",
       "</style>\n",
       "<table border=\"1\" class=\"dataframe\">\n",
       "  <thead>\n",
       "    <tr style=\"text-align: right;\">\n",
       "      <th></th>\n",
       "      <th>pregnancies</th>\n",
       "      <th>glucose</th>\n",
       "      <th>diastolic</th>\n",
       "      <th>triceps</th>\n",
       "      <th>insulin</th>\n",
       "      <th>bmi</th>\n",
       "      <th>dpf</th>\n",
       "      <th>age</th>\n",
       "      <th>diabetes</th>\n",
       "    </tr>\n",
       "  </thead>\n",
       "  <tbody>\n",
       "    <tr>\n",
       "      <th>0</th>\n",
       "      <td>6</td>\n",
       "      <td>148</td>\n",
       "      <td>72</td>\n",
       "      <td>35</td>\n",
       "      <td>0</td>\n",
       "      <td>33.6</td>\n",
       "      <td>0.627</td>\n",
       "      <td>50</td>\n",
       "      <td>1</td>\n",
       "    </tr>\n",
       "    <tr>\n",
       "      <th>1</th>\n",
       "      <td>1</td>\n",
       "      <td>85</td>\n",
       "      <td>66</td>\n",
       "      <td>29</td>\n",
       "      <td>0</td>\n",
       "      <td>26.6</td>\n",
       "      <td>0.351</td>\n",
       "      <td>31</td>\n",
       "      <td>0</td>\n",
       "    </tr>\n",
       "    <tr>\n",
       "      <th>2</th>\n",
       "      <td>8</td>\n",
       "      <td>183</td>\n",
       "      <td>64</td>\n",
       "      <td>0</td>\n",
       "      <td>0</td>\n",
       "      <td>23.3</td>\n",
       "      <td>0.672</td>\n",
       "      <td>32</td>\n",
       "      <td>1</td>\n",
       "    </tr>\n",
       "    <tr>\n",
       "      <th>3</th>\n",
       "      <td>1</td>\n",
       "      <td>89</td>\n",
       "      <td>66</td>\n",
       "      <td>23</td>\n",
       "      <td>94</td>\n",
       "      <td>28.1</td>\n",
       "      <td>0.167</td>\n",
       "      <td>21</td>\n",
       "      <td>0</td>\n",
       "    </tr>\n",
       "    <tr>\n",
       "      <th>4</th>\n",
       "      <td>0</td>\n",
       "      <td>137</td>\n",
       "      <td>40</td>\n",
       "      <td>35</td>\n",
       "      <td>168</td>\n",
       "      <td>43.1</td>\n",
       "      <td>2.288</td>\n",
       "      <td>33</td>\n",
       "      <td>1</td>\n",
       "    </tr>\n",
       "  </tbody>\n",
       "</table>\n",
       "</div>"
      ],
      "text/plain": [
       "   pregnancies  glucose  diastolic  triceps  insulin   bmi    dpf  age  \\\n",
       "0            6      148         72       35        0  33.6  0.627   50   \n",
       "1            1       85         66       29        0  26.6  0.351   31   \n",
       "2            8      183         64        0        0  23.3  0.672   32   \n",
       "3            1       89         66       23       94  28.1  0.167   21   \n",
       "4            0      137         40       35      168  43.1  2.288   33   \n",
       "\n",
       "   diabetes  \n",
       "0         1  \n",
       "1         0  \n",
       "2         1  \n",
       "3         0  \n",
       "4         1  "
      ]
     },
     "execution_count": 49,
     "metadata": {},
     "output_type": "execute_result"
    }
   ],
   "source": [
    "diabetes_df.head()"
   ]
  },
  {
   "cell_type": "code",
   "execution_count": 50,
   "id": "c3a85b9d",
   "metadata": {},
   "outputs": [],
   "source": [
    "X  =diabetes_df.drop(\"glucose\" , axis=1).values\n",
    "y = diabetes_df['glucose'].values\n"
   ]
  },
  {
   "cell_type": "code",
   "execution_count": 51,
   "id": "86a422f0",
   "metadata": {},
   "outputs": [
    {
     "name": "stdout",
     "output_type": "stream",
     "text": [
      "<class 'numpy.ndarray'>\n"
     ]
    }
   ],
   "source": [
    "print(type(X))"
   ]
  },
  {
   "cell_type": "code",
   "execution_count": 52,
   "id": "b2ccd406",
   "metadata": {},
   "outputs": [
    {
     "name": "stdout",
     "output_type": "stream",
     "text": [
      "<class 'numpy.ndarray'>\n"
     ]
    }
   ],
   "source": [
    "print(type(y))"
   ]
  },
  {
   "cell_type": "code",
   "execution_count": 53,
   "id": "ca5bac8f",
   "metadata": {},
   "outputs": [],
   "source": [
    "X_bmi = X[:,3]"
   ]
  },
  {
   "cell_type": "code",
   "execution_count": 54,
   "id": "5d73aa33",
   "metadata": {},
   "outputs": [
    {
     "data": {
      "text/plain": [
       "((768,), (768,))"
      ]
     },
     "execution_count": 54,
     "metadata": {},
     "output_type": "execute_result"
    }
   ],
   "source": [
    "y.shape ,X_bmi.shape"
   ]
  },
  {
   "cell_type": "code",
   "execution_count": 55,
   "id": "7cc63c36",
   "metadata": {},
   "outputs": [],
   "source": [
    "X_bmi=X_bmi.reshape(-1,1)"
   ]
  },
  {
   "cell_type": "code",
   "execution_count": 56,
   "id": "78db413f",
   "metadata": {},
   "outputs": [
    {
     "name": "stdout",
     "output_type": "stream",
     "text": [
      "(768, 1)\n"
     ]
    }
   ],
   "source": [
    "print(X_bmi.shape)"
   ]
  },
  {
   "cell_type": "code",
   "execution_count": 57,
   "id": "23832117",
   "metadata": {},
   "outputs": [
    {
     "data": {
      "image/png": "[encoded data removed]",
      "text/plain": [
       "<Figure size 640x480 with 1 Axes>"
      ]
     },
     "metadata": {},
     "output_type": "display_data"
    }
   ],
   "source": [
    "plt.scatter(X_bmi , y )\n",
    "plt.ylabel(\"Blood Glucose (mg/dl)\")\n",
    "plt.xlabel(\"Body Mass Index\")\n",
    "plt.show()"
   ]
  },
  {
   "cell_type": "code",
   "execution_count": null,
   "id": "8e153d4c",
   "metadata": {},
   "outputs": [],
   "source": []
  },
  {
   "cell_type": "code",
   "execution_count": 58,
   "id": "e09582c5",
   "metadata": {},
   "outputs": [
    {
     "data": {
      "text/plain": [
       "LinearRegression()"
      ]
     },
     "execution_count": 58,
     "metadata": {},
     "output_type": "execute_result"
    }
   ],
   "source": [
    "reg= LinearRegression()\n",
    "reg.fit(X_bmi,y)"
   ]
  },
  {
   "cell_type": "code",
   "execution_count": 59,
   "id": "3308e614",
   "metadata": {},
   "outputs": [],
   "source": [
    "predictions = reg.predict(X_bmi)"
   ]
  },
  {
   "cell_type": "code",
   "execution_count": 60,
   "id": "74653bbb",
   "metadata": {
    "collapsed": true
   },
   "outputs": [
    {
     "data": {
      "text/plain": [
       "array([113.55858367, 113.55858367, 113.55858367, 122.19998183,\n",
       "       129.00278464, 113.55858367, 121.64840322, 113.55858367,\n",
       "       163.47644752, 113.55858367, 113.55858367, 113.55858367,\n",
       "       113.55858367, 191.33116712, 129.64629301, 113.55858367,\n",
       "       134.70243023, 113.55858367, 121.18875439, 122.38384137,\n",
       "       135.16207907, 113.55858367, 113.55858367, 113.55858367,\n",
       "       126.98032975, 124.13050695, 113.55858367, 126.42875114,\n",
       "       123.67085811, 113.55858367, 113.55858367, 136.08137675,\n",
       "       118.52279112, 113.55858367, 113.55858367, 131.20909906,\n",
       "       113.55858367, 113.55858367, 113.55858367, 132.58804558,\n",
       "       119.99366741, 113.55858367, 113.55858367, 135.62172791,\n",
       "       113.55858367, 113.55858367, 113.55858367, 113.55858367,\n",
       "       113.55858367, 113.55858367, 121.09682462, 116.86805531,\n",
       "       115.67296833, 141.13751397, 144.99856421, 113.55858367,\n",
       "       141.50523304, 123.67085811, 113.55858367, 126.61261068,\n",
       "       113.55858367, 113.55858367, 113.55858367, 125.32559393,\n",
       "       113.55858367, 113.55858367, 113.55858367, 113.55858367,\n",
       "       117.05191484, 122.75156044, 121.83226276, 126.42875114,\n",
       "       113.55858367, 138.37962094, 113.55858367, 113.55858367,\n",
       "       113.55858367, 113.55858367, 113.55858367, 113.55858367,\n",
       "       113.55858367, 113.55858367, 120.08559717, 113.55858367,\n",
       "       113.55858367, 125.04980463, 113.55858367, 120.08559717,\n",
       "       123.67085811, 113.55858367, 113.55858367, 129.73822278,\n",
       "       117.97121252, 113.55858367, 119.4420888 , 134.5185707 ,\n",
       "       113.55858367, 120.54524601, 119.4420888 , 133.78313256,\n",
       "       113.55858367, 113.55858367, 113.55858367, 117.23577438,\n",
       "       113.55858367, 127.53190836, 113.55858367, 126.42875114,\n",
       "       115.21331949, 116.86805531, 125.96910231, 159.06381867,\n",
       "       116.95998507, 113.55858367, 129.64629301, 113.55858367,\n",
       "       113.55858367, 113.55858367, 113.55858367, 118.24700182,\n",
       "       122.75156044, 113.55858367, 122.75156044, 113.55858367,\n",
       "       113.55858367, 122.65963067, 125.96910231, 122.19998183,\n",
       "       126.88839998, 113.55858367, 129.00278464, 113.55858367,\n",
       "       134.2427814 , 113.55858367, 118.06314229, 126.42875114,\n",
       "       118.15507205, 122.0161223 , 113.55858367, 143.43575816,\n",
       "       113.55858367, 113.55858367, 119.35015903, 113.55858367,\n",
       "       139.66663769, 113.55858367, 113.55858367, 124.49822602,\n",
       "       113.55858367, 113.55858367, 132.31225627, 113.55858367,\n",
       "       127.80769766, 158.14452099, 113.55858367, 113.55858367,\n",
       "       122.19998183, 125.96910231, 118.43086136, 124.03857718,\n",
       "       113.55858367, 123.21120928, 139.75856746, 113.55858367,\n",
       "       113.55858367, 127.89962743, 113.55858367, 113.55858367,\n",
       "       113.55858367, 120.72910555, 113.55858367, 125.50945347,\n",
       "       113.55858367, 117.97121252, 118.61472089, 125.50945347,\n",
       "       113.55858367, 125.50945347, 113.55858367, 113.55858367,\n",
       "       113.55858367, 122.0161223 , 115.67296833, 113.55858367,\n",
       "       113.55858367, 113.55858367, 159.06381867, 118.89051019,\n",
       "       124.03857718, 128.2673465 , 113.55858367, 122.19998183,\n",
       "       113.55858367, 113.55858367, 113.55858367, 132.86383488,\n",
       "       113.55858367, 117.97121252, 122.65963067, 142.79224979,\n",
       "       113.55858367, 113.55858367, 113.55858367, 117.60349345,\n",
       "       131.02523953, 113.55858367, 139.29891862, 113.55858367,\n",
       "       121.55647346, 113.55858367, 113.55858367, 113.55858367,\n",
       "       113.55858367, 125.50945347, 129.64629301, 138.47155071,\n",
       "       125.4175237 , 124.59015579, 113.55858367, 113.55858367,\n",
       "       157.50101262, 113.55858367, 113.55858367, 131.02523953,\n",
       "       118.70665066, 116.50033624, 113.55858367, 113.55858367,\n",
       "       181.95433082, 118.43086136, 113.55858367, 147.57259771,\n",
       "       116.95998507, 113.55858367, 117.69542322, 113.55858367,\n",
       "       131.20909906, 113.55858367, 113.55858367, 113.55858367,\n",
       "       113.55858367, 121.64840322, 113.55858367, 129.73822278,\n",
       "       131.3929586 , 113.55858367, 113.55858367, 176.07082569,\n",
       "       150.51435027, 113.55858367, 113.55858367, 113.55858367,\n",
       "       118.61472089, 113.55858367, 137.27646373, 113.55858367,\n",
       "       113.55858367, 113.55858367, 148.03224655, 127.34804882,\n",
       "       125.50945347, 113.55858367, 113.55858367, 113.55858367,\n",
       "       113.55858367, 119.7178781 , 113.55858367, 113.55858367,\n",
       "       113.55858367, 113.55858367, 113.55858367, 118.70665066,\n",
       "       113.55858367, 117.69542322, 113.55858367, 118.79858043,\n",
       "       113.55858367, 124.22243672, 113.55858367, 139.11505908,\n",
       "       113.55858367, 124.77401533, 127.80769766, 113.55858367,\n",
       "       113.55858367, 125.96910231, 163.66030705, 133.78313256,\n",
       "       118.06314229, 120.45331625, 117.23577438, 120.36138648,\n",
       "       130.28980139, 131.3929586 , 113.55858367, 124.59015579,\n",
       "       146.65330003, 133.32348372, 130.47366092, 113.55858367,\n",
       "       113.55858367, 125.96910231, 117.41963391, 113.55858367,\n",
       "       113.55858367, 123.21120928, 125.693313  , 127.16418929,\n",
       "       130.10594185, 132.40418604, 113.55858367, 127.16418929,\n",
       "       122.38384137, 121.37261392, 113.55858367, 122.19998183,\n",
       "       119.4420888 , 113.55858367, 126.42875114, 113.55858367,\n",
       "       134.79436   , 113.55858367, 113.55858367, 116.22454693,\n",
       "       113.55858367, 129.00278464, 127.89962743, 113.55858367,\n",
       "       124.59015579, 119.80980787, 113.55858367, 118.33893159,\n",
       "       113.55858367, 113.55858367, 118.89051019, 137.00067443,\n",
       "       113.55858367, 113.55858367, 129.27857394, 113.55858367,\n",
       "       123.21120928, 120.26945671, 113.55858367, 113.55858367,\n",
       "       113.55858367, 123.48699858, 121.18875439, 113.55858367,\n",
       "       120.36138648, 113.55858367, 113.55858367, 113.55858367,\n",
       "       113.55858367, 117.51156368, 113.55858367, 113.55858367,\n",
       "       128.91085487, 113.55858367, 118.52279112, 136.44909582,\n",
       "       143.43575816, 113.55858367, 113.55858367, 113.55858367,\n",
       "       140.4940056 , 121.18875439, 113.55858367, 113.55858367,\n",
       "       119.62594834, 126.42875114, 156.30592564, 121.74033299,\n",
       "       119.62594834, 122.19998183, 128.08348696, 143.43575816,\n",
       "       121.28068415, 120.45331625, 113.55858367, 120.17752694,\n",
       "       121.09682462, 113.55858367, 130.28980139, 118.98243996,\n",
       "       123.67085811, 118.15507205, 113.55858367, 113.55858367,\n",
       "       139.75856746, 121.00489485, 131.57681813, 113.55858367,\n",
       "       151.70943725, 121.55647346, 113.55858367, 138.83926978,\n",
       "       124.13050695, 113.55858367, 113.55858367, 113.55858367,\n",
       "       113.55858367, 113.55858367, 121.64840322, 113.55858367,\n",
       "       113.55858367, 128.72699534, 113.55858367, 113.55858367,\n",
       "       113.55858367, 166.78591915, 113.55858367, 129.73822278,\n",
       "       142.05681165, 119.1662995 , 128.91085487, 157.13329355,\n",
       "       113.55858367, 113.55858367, 113.55858367, 124.13050695,\n",
       "       129.18664417, 120.54524601, 120.72910555, 113.55858367,\n",
       "       132.86383488, 139.02312931, 113.55858367, 130.10594185,\n",
       "       126.88839998, 130.10594185, 113.55858367, 121.37261392,\n",
       "       119.07436973, 113.55858367, 113.55858367, 113.55858367,\n",
       "       113.55858367, 113.55858367, 113.55858367, 113.55858367,\n",
       "       113.55858367, 118.15507205, 124.59015579, 113.55858367,\n",
       "       113.55858367, 114.84560042, 119.99366741, 122.0161223 ,\n",
       "       119.4420888 , 119.35015903, 122.2919116 , 113.55858367,\n",
       "       132.86383488, 113.55858367, 123.21120928, 113.55858367,\n",
       "       113.55858367, 120.08559717, 135.34593861, 119.07436973,\n",
       "       118.70665066, 113.55858367, 118.06314229, 113.55858367,\n",
       "       113.55858367, 123.21120928, 116.86805531, 122.75156044,\n",
       "       113.55858367, 126.42875114, 113.55858367, 113.55858367,\n",
       "       113.55858367, 113.55858367, 113.55858367, 113.55858367,\n",
       "       131.1171693 , 123.67085811, 120.45331625, 113.55858367,\n",
       "       143.71154747, 113.55858367, 118.06314229, 125.04980463,\n",
       "       113.55858367, 136.54102559, 157.68487215, 137.9199721 ,\n",
       "       113.55858367, 113.55858367, 119.62594834, 113.55858367,\n",
       "       113.55858367, 124.77401533, 113.55858367, 113.55858367,\n",
       "       113.55858367, 120.54524601, 126.88839998, 131.30102883,\n",
       "       120.08559717, 113.55858367, 113.55858367, 120.82103532,\n",
       "       113.55858367, 113.55858367, 121.83226276, 129.18664417,\n",
       "       120.54524601, 113.55858367, 113.55858367, 132.86383488,\n",
       "       113.55858367, 113.55858367, 121.46454369, 123.21120928,\n",
       "       128.72699534, 113.55858367, 113.55858367, 143.52768793,\n",
       "       119.62594834, 125.50945347, 113.55858367, 113.55858367,\n",
       "       113.55858367, 113.55858367, 121.09682462, 123.21120928,\n",
       "       130.84137999, 113.55858367, 123.30313904, 113.55858367,\n",
       "       119.53401857, 113.55858367, 118.70665066, 113.55858367,\n",
       "       113.55858367, 113.55858367, 132.86383488, 127.80769766,\n",
       "       133.32348372, 131.02523953, 113.55858367, 118.70665066,\n",
       "       120.54524601, 134.2427814 , 132.58804558, 128.8189251 ,\n",
       "       119.7178781 , 113.55858367, 113.55858367, 123.30313904,\n",
       "       113.55858367, 117.60349345, 124.13050695, 133.32348372,\n",
       "       113.55858367, 113.55858367, 113.55858367, 113.55858367,\n",
       "       113.55858367, 138.74734001, 120.63717578, 118.52279112,\n",
       "       113.55858367, 121.64840322, 115.21331949, 125.1417344 ,\n",
       "       125.1417344 , 128.72699534, 113.55858367, 113.55858367,\n",
       "       117.60349345, 124.59015579, 143.895407  , 119.35015903,\n",
       "       125.50945347, 113.55858367, 113.55858367, 113.55858367,\n",
       "       113.55858367, 113.55858367, 113.55858367, 113.55858367,\n",
       "       168.71644427, 113.55858367, 113.55858367, 113.55858367,\n",
       "       127.89962743, 113.55858367, 113.55858367, 126.42875114,\n",
       "       113.55858367, 124.13050695, 134.70243023, 130.56559069,\n",
       "       113.55858367, 115.85682786, 113.55858367, 124.59015579,\n",
       "       113.55858367, 113.55858367, 113.55858367, 125.1417344 ,\n",
       "       113.55858367, 113.55858367, 140.4940056 , 117.32770414,\n",
       "       138.56348048, 130.28980139, 128.08348696, 131.3929586 ,\n",
       "       143.06803909, 113.55858367, 126.79647021, 113.55858367,\n",
       "       113.55858367, 114.93753018, 113.55858367, 113.55858367,\n",
       "       128.2673465 , 113.55858367, 113.55858367, 124.13050695,\n",
       "       113.55858367, 118.52279112, 113.55858367, 113.55858367,\n",
       "       113.55858367, 113.55858367, 113.55858367, 121.83226276,\n",
       "       113.55858367, 130.38173115, 113.55858367, 113.55858367,\n",
       "       113.55858367, 119.62594834, 121.92419253, 117.78735298,\n",
       "       123.21120928, 113.55858367, 113.55858367, 113.55858367,\n",
       "       127.53190836, 154.00768145, 126.79647021, 128.17541673,\n",
       "       125.50945347, 113.55858367, 122.75156044, 123.30313904,\n",
       "       120.63717578, 113.55858367, 125.96910231, 163.20065821,\n",
       "       121.83226276, 131.9445372 , 113.55858367, 119.99366741,\n",
       "       113.55858367, 113.55858367, 134.79436   , 125.50945347,\n",
       "       113.55858367, 125.693313  , 113.55858367, 113.55858367,\n",
       "       131.02523953, 122.75156044, 129.00278464, 113.55858367,\n",
       "       118.06314229, 135.62172791, 113.55858367, 113.55858367,\n",
       "       113.55858367, 113.55858367, 113.55858367, 137.9199721 ,\n",
       "       117.69542322, 113.55858367, 123.21120928, 113.55858367,\n",
       "       113.55858367, 132.40418604, 113.55858367, 113.55858367,\n",
       "       130.10594185, 130.10594185, 113.55858367, 113.55858367,\n",
       "       122.2919116 , 125.04980463, 113.55858367, 157.68487215,\n",
       "       125.04980463, 113.55858367, 127.80769766, 113.55858367,\n",
       "       131.9445372 , 113.55858367, 113.55858367, 113.55858367,\n",
       "       122.75156044, 113.55858367, 113.55858367, 144.35505584,\n",
       "       113.55858367, 128.2673465 , 149.13540376, 115.58103856,\n",
       "       113.55858367, 140.31014606, 113.55858367, 149.5950526 ,\n",
       "       130.56559069, 113.55858367, 129.92208232, 113.55858367,\n",
       "       113.55858367, 131.9445372 , 125.23366416, 123.21120928,\n",
       "       113.55858367, 113.55858367, 130.10594185, 113.55858367,\n",
       "       113.55858367, 113.55858367, 120.82103532, 113.55858367,\n",
       "       124.59015579, 128.72699534, 113.55858367, 113.55858367,\n",
       "       124.59015579, 113.55858367, 128.2673465 , 113.55858367,\n",
       "       127.34804882, 122.19998183, 124.22243672, 113.55858367,\n",
       "       126.42875114, 123.21120928, 113.55858367, 118.79858043,\n",
       "       131.9445372 , 113.55858367, 113.55858367, 120.36138648,\n",
       "       113.55858367, 160.44276518, 113.55858367, 123.67085811,\n",
       "       113.55858367, 113.55858367, 113.55858367, 113.55858367,\n",
       "       115.02945995, 113.55858367, 113.55858367, 130.10594185,\n",
       "       113.55858367, 123.85471765, 113.55858367, 113.55858367])"
      ]
     },
     "execution_count": 60,
     "metadata": {},
     "output_type": "execute_result"
    }
   ],
   "source": [
    "predictions"
   ]
  },
  {
   "cell_type": "code",
   "execution_count": 61,
   "id": "b2efe1ba",
   "metadata": {},
   "outputs": [
    {
     "data": {
      "image/png": "[encoded data removed]",
      "text/plain": [
       "<Figure size 640x480 with 1 Axes>"
      ]
     },
     "metadata": {},
     "output_type": "display_data"
    }
   ],
   "source": [
    "predictions = reg.predict(X_bmi)\n",
    "plt.scatter(X_bmi, y)\n",
    "plt.plot(X_bmi, predictions)\n",
    "plt.ylabel(\"Blood Glucose (mg/dl)\")\n",
    "plt.xlabel(\"Body Mass Index\")\n",
    "plt.show()"
   ]
  },
  {
   "cell_type": "code",
   "execution_count": null,
   "id": "a99a3299",
   "metadata": {},
   "outputs": [],
   "source": []
  },
  {
   "cell_type": "code",
   "execution_count": null,
   "id": "5ad0d31a",
   "metadata": {},
   "outputs": [],
   "source": []
  },
  {
   "cell_type": "markdown",
   "id": "fee5acfe",
   "metadata": {},
   "source": [
    "## Creating features\n"
   ]
  },
  {
   "cell_type": "code",
   "execution_count": null,
   "id": "bfd9a247",
   "metadata": {},
   "outputs": [],
   "source": [
    "# Create X from the radio column's values\n",
    "X = sales_df[\"radio\"].values\n",
    "\n",
    "# Create y from the sales column's values\n",
    "y = sales_df[\"sales\"].values\n",
    "\n",
    "# Reshape X\n",
    "X = X.reshape(-1, 1)\n",
    "\n",
    "# Check the shape of the features and targets\n",
    "print(X.shape, y.shape)"
   ]
  },
  {
   "cell_type": "code",
   "execution_count": null,
   "id": "6b7a216e",
   "metadata": {},
   "outputs": [],
   "source": []
  },
  {
   "cell_type": "code",
   "execution_count": null,
   "id": "52651029",
   "metadata": {},
   "outputs": [],
   "source": []
  },
  {
   "cell_type": "markdown",
   "id": "26c66fb9",
   "metadata": {},
   "source": [
    "## Building a linear regression model\n"
   ]
  },
  {
   "cell_type": "code",
   "execution_count": null,
   "id": "331f71ff",
   "metadata": {},
   "outputs": [],
   "source": [
    "# Import LinearRegression\n",
    "from sklearn.linear_model import LinearRegression\n",
    "# Create the model\n",
    "y = sales_df[\"sales\"].values\n",
    "X = sales_df[\"radio\"].values.reshape(-1, 1)\n",
    "\n",
    "reg = LinearRegression()\n",
    "\n",
    "# Fit the model to the data\n",
    "reg.fit(X,y)\n",
    "\n",
    "# Make predictions\n",
    "predictions = reg.predict(X)\n",
    "\n",
    "print(predictions[:5])"
   ]
  },
  {
   "cell_type": "code",
   "execution_count": null,
   "id": "8d1c7a3b",
   "metadata": {},
   "outputs": [],
   "source": []
  },
  {
   "cell_type": "code",
   "execution_count": null,
   "id": "5429d362",
   "metadata": {},
   "outputs": [],
   "source": []
  },
  {
   "cell_type": "code",
   "execution_count": null,
   "id": "16b06cd6",
   "metadata": {},
   "outputs": [],
   "source": []
  },
  {
   "cell_type": "markdown",
   "id": "e5b8f16a",
   "metadata": {},
   "source": [
    "# Visualizing a linear regression model\n"
   ]
  },
  {
   "cell_type": "code",
   "execution_count": null,
   "id": "5c079307",
   "metadata": {},
   "outputs": [],
   "source": [
    "# Import matplotlib.pyplot\n",
    "import matplotlib.pyplot as plt\n",
    "\n",
    "# Create scatter plot\n",
    "plt.scatter(X,y, color=\"blue\")\n",
    "\n",
    "# Create line plot\n",
    "plt.plot(X, y, color=\"blue\")\n",
    "plt.xlabel(\"Radio Expenditure ($)\")\n",
    "plt.ylabel(\"Sales ($)\")\n",
    "\n",
    "# Display the plot\n",
    "plt.show()"
   ]
  },
  {
   "cell_type": "code",
   "execution_count": null,
   "id": "c72f3101",
   "metadata": {},
   "outputs": [],
   "source": []
  },
  {
   "cell_type": "code",
   "execution_count": null,
   "id": "7c032387",
   "metadata": {},
   "outputs": [],
   "source": []
  },
  {
   "cell_type": "code",
   "execution_count": null,
   "id": "7b8e60af",
   "metadata": {},
   "outputs": [],
   "source": []
  },
  {
   "cell_type": "code",
   "execution_count": null,
   "id": "2eae6eea",
   "metadata": {},
   "outputs": [],
   "source": []
  },
  {
   "cell_type": "code",
   "execution_count": null,
   "id": "c3f23372",
   "metadata": {},
   "outputs": [],
   "source": []
  },
  {
   "cell_type": "code",
   "execution_count": null,
   "id": "ed4515a2",
   "metadata": {},
   "outputs": [],
   "source": []
  },
  {
   "cell_type": "code",
   "execution_count": 32,
   "id": "0df6f29d",
   "metadata": {},
   "outputs": [
    {
     "data": {
      "text/plain": [
       "array([117.02433591])"
      ]
     },
     "execution_count": 32,
     "metadata": {},
     "output_type": "execute_result"
    }
   ],
   "source": [
    "#######\n",
    "reg.predict([[37.7]])"
   ]
  },
  {
   "cell_type": "code",
   "execution_count": 35,
   "id": "7dd1b5cb",
   "metadata": {},
   "outputs": [
    {
     "data": {
      "text/plain": [
       "array([116.14181014])"
      ]
     },
     "execution_count": 35,
     "metadata": {},
     "output_type": "execute_result"
    }
   ],
   "source": [
    "reg.predict([[28.1]])\n",
    "#########"
   ]
  },
  {
   "cell_type": "code",
   "execution_count": 34,
   "id": "4a72b780",
   "metadata": {},
   "outputs": [
    {
     "data": {
      "text/html": [
       "<div>\n",
       "<style scoped>\n",
       "    .dataframe tbody tr th:only-of-type {\n",
       "        vertical-align: middle;\n",
       "    }\n",
       "\n",
       "    .dataframe tbody tr th {\n",
       "        vertical-align: top;\n",
       "    }\n",
       "\n",
       "    .dataframe thead th {\n",
       "        text-align: right;\n",
       "    }\n",
       "</style>\n",
       "<table border=\"1\" class=\"dataframe\">\n",
       "  <thead>\n",
       "    <tr style=\"text-align: right;\">\n",
       "      <th></th>\n",
       "      <th>pregnancies</th>\n",
       "      <th>glucose</th>\n",
       "      <th>diastolic</th>\n",
       "      <th>triceps</th>\n",
       "      <th>insulin</th>\n",
       "      <th>bmi</th>\n",
       "      <th>dpf</th>\n",
       "      <th>age</th>\n",
       "      <th>diabetes</th>\n",
       "    </tr>\n",
       "  </thead>\n",
       "  <tbody>\n",
       "    <tr>\n",
       "      <th>0</th>\n",
       "      <td>6</td>\n",
       "      <td>148</td>\n",
       "      <td>72</td>\n",
       "      <td>35</td>\n",
       "      <td>0</td>\n",
       "      <td>33.6</td>\n",
       "      <td>0.627</td>\n",
       "      <td>50</td>\n",
       "      <td>1</td>\n",
       "    </tr>\n",
       "    <tr>\n",
       "      <th>1</th>\n",
       "      <td>1</td>\n",
       "      <td>85</td>\n",
       "      <td>66</td>\n",
       "      <td>29</td>\n",
       "      <td>0</td>\n",
       "      <td>26.6</td>\n",
       "      <td>0.351</td>\n",
       "      <td>31</td>\n",
       "      <td>0</td>\n",
       "    </tr>\n",
       "    <tr>\n",
       "      <th>2</th>\n",
       "      <td>8</td>\n",
       "      <td>183</td>\n",
       "      <td>64</td>\n",
       "      <td>0</td>\n",
       "      <td>0</td>\n",
       "      <td>23.3</td>\n",
       "      <td>0.672</td>\n",
       "      <td>32</td>\n",
       "      <td>1</td>\n",
       "    </tr>\n",
       "    <tr>\n",
       "      <th>3</th>\n",
       "      <td>1</td>\n",
       "      <td>89</td>\n",
       "      <td>66</td>\n",
       "      <td>23</td>\n",
       "      <td>94</td>\n",
       "      <td>28.1</td>\n",
       "      <td>0.167</td>\n",
       "      <td>21</td>\n",
       "      <td>0</td>\n",
       "    </tr>\n",
       "    <tr>\n",
       "      <th>4</th>\n",
       "      <td>0</td>\n",
       "      <td>137</td>\n",
       "      <td>40</td>\n",
       "      <td>35</td>\n",
       "      <td>168</td>\n",
       "      <td>43.1</td>\n",
       "      <td>2.288</td>\n",
       "      <td>33</td>\n",
       "      <td>1</td>\n",
       "    </tr>\n",
       "  </tbody>\n",
       "</table>\n",
       "</div>"
      ],
      "text/plain": [
       "   pregnancies  glucose  diastolic  triceps  insulin   bmi    dpf  age  \\\n",
       "0            6      148         72       35        0  33.6  0.627   50   \n",
       "1            1       85         66       29        0  26.6  0.351   31   \n",
       "2            8      183         64        0        0  23.3  0.672   32   \n",
       "3            1       89         66       23       94  28.1  0.167   21   \n",
       "4            0      137         40       35      168  43.1  2.288   33   \n",
       "\n",
       "   diabetes  \n",
       "0         1  \n",
       "1         0  \n",
       "2         1  \n",
       "3         0  \n",
       "4         1  "
      ]
     },
     "execution_count": 34,
     "metadata": {},
     "output_type": "execute_result"
    }
   ],
   "source": [
    "#######\n",
    "diabetes_df.head()"
   ]
  },
  {
   "cell_type": "code",
   "execution_count": 36,
   "id": "5654307a",
   "metadata": {},
   "outputs": [],
   "source": [
    "x_2=diabetes_df[['bmi','age']]"
   ]
  },
  {
   "cell_type": "code",
   "execution_count": 38,
   "id": "89ad3c4e",
   "metadata": {},
   "outputs": [],
   "source": [
    "y_2 = diabetes_df[['glucose']]"
   ]
  },
  {
   "cell_type": "code",
   "execution_count": 44,
   "id": "3c378df1",
   "metadata": {},
   "outputs": [
    {
     "name": "stderr",
     "output_type": "stream",
     "text": [
      "C:\\Users\\DELL\\anaconda3\\lib\\site-packages\\sklearn\\base.py:450: UserWarning: X does not have valid feature names, but LinearRegression was fitted with feature names\n",
      "  warnings.warn(\n"
     ]
    }
   ],
   "source": [
    "reg= LinearRegression()\n",
    "reg.fit(x_2,y_2)\n",
    "predictions = reg.predict([[37,21]])"
   ]
  },
  {
   "cell_type": "code",
   "execution_count": 45,
   "id": "edb095f3",
   "metadata": {},
   "outputs": [
    {
     "data": {
      "text/plain": [
       "array([[116.68130663]])"
      ]
     },
     "execution_count": 45,
     "metadata": {},
     "output_type": "execute_result"
    }
   ],
   "source": [
    "predictions"
   ]
  },
  {
   "cell_type": "code",
   "execution_count": null,
   "id": "1dc659a2",
   "metadata": {},
   "outputs": [],
   "source": [
    "############"
   ]
  },
  {
   "cell_type": "code",
   "execution_count": null,
   "id": "ef261365",
   "metadata": {},
   "outputs": [],
   "source": []
  }
 ],
 "metadata": {
  "kernelspec": {
   "display_name": "Python 3 (ipykernel)",
   "language": "python",
   "name": "python3"
  },
  "language_info": {
   "codemirror_mode": {
    "name": "ipython",
    "version": 3
   },
   "file_extension": ".py",
   "mimetype": "text/x-python",
   "name": "python",
   "nbconvert_exporter": "python",
   "pygments_lexer": "ipython3",
   "version": "3.9.13"
  }
 },
 "nbformat": 4,
 "nbformat_minor": 5
}
