{
 "cells": [
  {
   "cell_type": "markdown",
   "id": "905b1392",
   "metadata": {},
   "source": [
    "# How good is your model?\n"
   ]
  },
  {
   "cell_type": "code",
   "execution_count": 4,
   "id": "a2592a57",
   "metadata": {},
   "outputs": [],
   "source": [
    "# Importing \n",
    "import pandas as pd\n",
    "import sklearn\n",
    "from sklearn.neighbors import KNeighborsClassifier\n",
    "import numpy as np\n",
    "from sklearn.model_selection import train_test_split\n",
    "import matplotlib.pyplot as plt\n",
    "from sklearn.metrics import mean_squared_error\n",
    "from sklearn.linear_model import LinearRegression\n",
    "from sklearn.model_selection import cross_val_score, KFold\n",
    "from sklearn.linear_model import Ridge"
   ]
  },
  {
   "cell_type": "code",
   "execution_count": 5,
   "id": "6f8a0428",
   "metadata": {},
   "outputs": [],
   "source": [
    "    # Importing the  datasets \n",
    "    diabetes = pd.read_csv('../datasets/diabetes_clean.csv')\n",
    "    music = pd.read_csv('../datasets/music_clean.csv')\n",
    "    advertising = pd.read_csv('../datasets/advertising_and_sales_clean.csv')\n",
    "    telecom = pd.read_csv(\"../datasets/telecom_churn_clean.csv\")"
   ]
  },
  {
   "cell_type": "code",
   "execution_count": null,
   "id": "ead9dfa1",
   "metadata": {},
   "outputs": [],
   "source": []
  },
  {
   "cell_type": "code",
   "execution_count": 23,
   "id": "cbf4efbc",
   "metadata": {},
   "outputs": [],
   "source": [
    "diabetes_df  =diabetes"
   ]
  },
  {
   "cell_type": "code",
   "execution_count": 24,
   "id": "51244b42",
   "metadata": {},
   "outputs": [],
   "source": [
    "X = diabetes_df.drop(\"glucose\", axis=1).values\n",
    "y = diabetes_df[\"glucose\"].values"
   ]
  },
  {
   "cell_type": "code",
   "execution_count": 25,
   "id": "d33910f6",
   "metadata": {},
   "outputs": [],
   "source": [
    "from sklearn.metrics import classification_report , confusion_matrix"
   ]
  },
  {
   "cell_type": "code",
   "execution_count": 26,
   "id": "46679c28",
   "metadata": {},
   "outputs": [
    {
     "name": "stderr",
     "output_type": "stream",
     "text": [
      "C:\\Users\\DELL\\anaconda3\\lib\\site-packages\\sklearn\\neighbors\\_classification.py:228: FutureWarning: Unlike other reduction functions (e.g. `skew`, `kurtosis`), the default behavior of `mode` typically preserves the axis it acts along. In SciPy 1.11.0, this behavior will change: the default value of `keepdims` will become False, the `axis` over which the statistic is taken will be eliminated, and the value None will no longer be accepted. Set `keepdims` to True or False to avoid this warning.\n",
      "  mode, _ = stats.mode(_y[neigh_ind, k], axis=1)\n"
     ]
    }
   ],
   "source": [
    "knn = KNeighborsClassifier(n_neighbors=7)\n",
    "X_train, X_test, y_train, y_test = train_test_split(X, y, test_size=0.4,random_state=42)\n",
    "knn.fit(X_train,y_train)\n",
    "y_pred=knn.predict(X_test)"
   ]
  },
  {
   "cell_type": "code",
   "execution_count": 27,
   "id": "6544160d",
   "metadata": {},
   "outputs": [
    {
     "name": "stdout",
     "output_type": "stream",
     "text": [
      "[[0 0 0 ... 0 0 0]\n",
      " [0 0 0 ... 0 0 0]\n",
      " [0 0 0 ... 0 0 0]\n",
      " ...\n",
      " [0 0 0 ... 0 0 0]\n",
      " [0 0 0 ... 0 0 0]\n",
      " [1 0 0 ... 0 0 0]]\n"
     ]
    }
   ],
   "source": [
    "print(confusion_matrix(y_test , y_pred))"
   ]
  },
  {
   "cell_type": "code",
   "execution_count": 32,
   "id": "4896acde",
   "metadata": {},
   "outputs": [
    {
     "data": {
      "text/plain": [
       "array([[0, 0, 0, ..., 0, 0, 0],\n",
       "       [0, 0, 0, ..., 0, 0, 0],\n",
       "       [0, 0, 0, ..., 0, 0, 0],\n",
       "       ...,\n",
       "       [0, 0, 0, ..., 0, 0, 0],\n",
       "       [0, 0, 0, ..., 0, 0, 0],\n",
       "       [1, 0, 0, ..., 0, 0, 0]], dtype=int64)"
      ]
     },
     "execution_count": 32,
     "metadata": {},
     "output_type": "execute_result"
    }
   ],
   "source": [
    "confusion_matrix(y_test , y_pred)"
   ]
  },
  {
   "cell_type": "code",
   "execution_count": 34,
   "id": "36e44f6d",
   "metadata": {},
   "outputs": [
    {
     "name": "stdout",
     "output_type": "stream",
     "text": [
      "              precision    recall  f1-score   support\n",
      "\n",
      "           0       0.00      0.00      0.00         2\n",
      "          44       0.00      0.00      0.00         0\n",
      "          56       0.00      0.00      0.00         0\n",
      "          57       0.00      0.00      0.00         0\n",
      "          61       0.00      0.00      0.00         1\n",
      "          62       0.00      0.00      0.00         1\n",
      "          65       0.00      0.00      0.00         0\n",
      "          67       0.00      0.00      0.00         0\n",
      "          68       0.00      0.00      0.00         1\n",
      "          71       0.00      0.00      0.00         1\n",
      "          72       0.00      0.00      0.00         0\n",
      "          73       0.00      0.00      0.00         2\n",
      "          74       0.00      0.00      0.00         3\n",
      "          75       0.00      0.00      0.00         1\n",
      "          76       0.00      0.00      0.00         1\n",
      "          77       0.00      0.00      0.00         2\n",
      "          78       0.00      0.00      0.00         3\n",
      "          79       0.00      0.00      0.00         1\n",
      "          80       0.00      0.00      0.00         5\n",
      "          81       0.00      0.00      0.00         3\n",
      "          82       0.00      0.00      0.00         1\n",
      "          83       0.00      0.00      0.00         4\n",
      "          84       0.00      0.00      0.00         5\n",
      "          85       0.00      0.00      0.00         5\n",
      "          86       0.00      0.00      0.00         2\n",
      "          87       0.25      0.33      0.29         3\n",
      "          88       0.50      0.33      0.40         3\n",
      "          89       0.00      0.00      0.00         2\n",
      "          90       0.00      0.00      0.00         3\n",
      "          91       0.00      0.00      0.00         2\n",
      "          92       0.00      0.00      0.00         3\n",
      "          93       0.00      0.00      0.00         2\n",
      "          94       0.00      0.00      0.00         2\n",
      "          95       0.00      0.00      0.00         7\n",
      "          96       0.00      0.00      0.00         3\n",
      "          97       0.00      0.00      0.00         2\n",
      "          98       0.00      0.00      0.00         1\n",
      "          99       0.06      0.33      0.10         3\n",
      "         100       0.00      0.00      0.00         9\n",
      "         101       0.00      0.00      0.00         5\n",
      "         102       0.00      0.00      0.00         5\n",
      "         103       0.00      0.00      0.00         4\n",
      "         104       0.00      0.00      0.00         5\n",
      "         105       0.00      0.00      0.00         6\n",
      "         106       0.00      0.00      0.00         7\n",
      "         107       0.00      0.00      0.00         5\n",
      "         108       0.00      0.00      0.00         3\n",
      "         109       0.33      0.12      0.18         8\n",
      "         110       0.00      0.00      0.00         3\n",
      "         111       0.00      0.00      0.00         6\n",
      "         112       0.17      0.14      0.15         7\n",
      "         113       0.00      0.00      0.00         0\n",
      "         114       0.00      0.00      0.00         2\n",
      "         115       0.00      0.00      0.00         3\n",
      "         116       0.00      0.00      0.00         1\n",
      "         117       0.00      0.00      0.00         4\n",
      "         118       0.00      0.00      0.00         0\n",
      "         119       0.00      0.00      0.00         4\n",
      "         120       0.00      0.00      0.00         4\n",
      "         121       0.00      0.00      0.00         2\n",
      "         122       0.00      0.00      0.00         3\n",
      "         123       0.00      0.00      0.00         5\n",
      "         124       0.00      0.00      0.00         4\n",
      "         125       0.00      0.00      0.00         3\n",
      "         126       0.00      0.00      0.00         3\n",
      "         127       0.00      0.00      0.00         3\n",
      "         128       0.00      0.00      0.00         3\n",
      "         129       0.00      0.00      0.00         8\n",
      "         130       0.00      0.00      0.00         1\n",
      "         131       0.00      0.00      0.00         3\n",
      "         132       0.00      0.00      0.00         1\n",
      "         133       0.00      0.00      0.00         2\n",
      "         134       0.00      0.00      0.00         3\n",
      "         135       0.00      0.00      0.00         4\n",
      "         136       0.00      0.00      0.00         2\n",
      "         137       0.00      0.00      0.00         2\n",
      "         138       0.00      0.00      0.00         1\n",
      "         139       0.00      0.00      0.00         4\n",
      "         140       0.00      0.00      0.00         2\n",
      "         141       0.00      0.00      0.00         1\n",
      "         142       0.00      0.00      0.00         1\n",
      "         143       0.00      0.00      0.00         4\n",
      "         144       0.00      0.00      0.00         3\n",
      "         145       0.00      0.00      0.00         3\n",
      "         146       0.00      0.00      0.00         4\n",
      "         147       0.00      0.00      0.00         3\n",
      "         148       0.00      0.00      0.00         1\n",
      "         150       0.00      0.00      0.00         2\n",
      "         151       0.00      0.00      0.00         2\n",
      "         152       0.00      0.00      0.00         4\n",
      "         154       0.00      0.00      0.00         2\n",
      "         155       0.33      0.50      0.40         2\n",
      "         158       0.00      0.00      0.00         4\n",
      "         159       0.00      0.00      0.00         2\n",
      "         160       0.00      0.00      0.00         1\n",
      "         161       0.00      0.00      0.00         2\n",
      "         162       0.00      0.00      0.00         3\n",
      "         164       0.00      0.00      0.00         1\n",
      "         165       0.00      0.00      0.00         3\n",
      "         167       0.00      0.00      0.00         2\n",
      "         168       0.00      0.00      0.00         2\n",
      "         170       0.00      0.00      0.00         1\n",
      "         171       0.00      0.00      0.00         3\n",
      "         172       0.00      0.00      0.00         1\n",
      "         173       0.00      0.00      0.00         2\n",
      "         175       0.00      0.00      0.00         1\n",
      "         177       0.00      0.00      0.00         1\n",
      "         179       0.00      0.00      0.00         2\n",
      "         180       0.00      0.00      0.00         1\n",
      "         181       0.00      0.00      0.00         1\n",
      "         183       0.00      0.00      0.00         2\n",
      "         184       0.00      0.00      0.00         2\n",
      "         187       0.00      0.00      0.00         2\n",
      "         189       0.00      0.00      0.00         3\n",
      "         191       0.00      0.00      0.00         1\n",
      "         194       0.00      0.00      0.00         1\n",
      "         195       0.00      0.00      0.00         1\n",
      "         196       0.00      0.00      0.00         0\n",
      "         197       0.00      0.00      0.00         1\n",
      "\n",
      "    accuracy                           0.02       308\n",
      "   macro avg       0.01      0.01      0.01       308\n",
      "weighted avg       0.02      0.02      0.02       308\n",
      "\n"
     ]
    },
    {
     "name": "stderr",
     "output_type": "stream",
     "text": [
      "C:\\Users\\DELL\\anaconda3\\lib\\site-packages\\sklearn\\metrics\\_classification.py:1318: UndefinedMetricWarning: Precision and F-score are ill-defined and being set to 0.0 in labels with no predicted samples. Use `zero_division` parameter to control this behavior.\n",
      "  _warn_prf(average, modifier, msg_start, len(result))\n",
      "C:\\Users\\DELL\\anaconda3\\lib\\site-packages\\sklearn\\metrics\\_classification.py:1318: UndefinedMetricWarning: Recall and F-score are ill-defined and being set to 0.0 in labels with no true samples. Use `zero_division` parameter to control this behavior.\n",
      "  _warn_prf(average, modifier, msg_start, len(result))\n",
      "C:\\Users\\DELL\\anaconda3\\lib\\site-packages\\sklearn\\metrics\\_classification.py:1318: UndefinedMetricWarning: Precision and F-score are ill-defined and being set to 0.0 in labels with no predicted samples. Use `zero_division` parameter to control this behavior.\n",
      "  _warn_prf(average, modifier, msg_start, len(result))\n",
      "C:\\Users\\DELL\\anaconda3\\lib\\site-packages\\sklearn\\metrics\\_classification.py:1318: UndefinedMetricWarning: Recall and F-score are ill-defined and being set to 0.0 in labels with no true samples. Use `zero_division` parameter to control this behavior.\n",
      "  _warn_prf(average, modifier, msg_start, len(result))\n",
      "C:\\Users\\DELL\\anaconda3\\lib\\site-packages\\sklearn\\metrics\\_classification.py:1318: UndefinedMetricWarning: Precision and F-score are ill-defined and being set to 0.0 in labels with no predicted samples. Use `zero_division` parameter to control this behavior.\n",
      "  _warn_prf(average, modifier, msg_start, len(result))\n",
      "C:\\Users\\DELL\\anaconda3\\lib\\site-packages\\sklearn\\metrics\\_classification.py:1318: UndefinedMetricWarning: Recall and F-score are ill-defined and being set to 0.0 in labels with no true samples. Use `zero_division` parameter to control this behavior.\n",
      "  _warn_prf(average, modifier, msg_start, len(result))\n"
     ]
    }
   ],
   "source": [
    "print(classification_report(y_test, y_pred))\n"
   ]
  },
  {
   "cell_type": "code",
   "execution_count": null,
   "id": "653e68f3",
   "metadata": {},
   "outputs": [],
   "source": []
  },
  {
   "cell_type": "code",
   "execution_count": null,
   "id": "97721f02",
   "metadata": {},
   "outputs": [],
   "source": []
  },
  {
   "cell_type": "code",
   "execution_count": null,
   "id": "d5d2a44a",
   "metadata": {},
   "outputs": [],
   "source": []
  },
  {
   "cell_type": "markdown",
   "id": "de171e73",
   "metadata": {},
   "source": [
    "## Exercise"
   ]
  },
  {
   "cell_type": "markdown",
   "id": "0fc16aa4",
   "metadata": {},
   "source": [
    "## Assessing a diabetes prediction classifier\n"
   ]
  },
  {
   "cell_type": "code",
   "execution_count": 35,
   "id": "bf065421",
   "metadata": {},
   "outputs": [
    {
     "name": "stdout",
     "output_type": "stream",
     "text": [
      "[[0 0 0 ... 0 0 0]\n",
      " [0 0 0 ... 0 0 0]\n",
      " [0 0 0 ... 0 0 0]\n",
      " ...\n",
      " [0 0 0 ... 0 0 0]\n",
      " [0 0 0 ... 0 0 0]\n",
      " [1 0 0 ... 0 0 0]]\n",
      "              precision    recall  f1-score   support\n",
      "\n",
      "           0       0.00      0.00      0.00         2\n",
      "          44       0.00      0.00      0.00         0\n",
      "          56       0.00      0.00      0.00         0\n",
      "          57       0.00      0.00      0.00         0\n",
      "          61       0.00      0.00      0.00         1\n",
      "          62       0.00      0.00      0.00         1\n",
      "          65       0.00      0.00      0.00         0\n",
      "          67       0.00      0.00      0.00         0\n",
      "          68       0.00      0.00      0.00         1\n",
      "          71       0.00      0.00      0.00         1\n",
      "          72       0.00      0.00      0.00         0\n",
      "          73       0.00      0.00      0.00         2\n",
      "          74       0.00      0.00      0.00         3\n",
      "          75       0.00      0.00      0.00         1\n",
      "          76       0.00      0.00      0.00         1\n",
      "          77       0.00      0.00      0.00         2\n",
      "          78       0.00      0.00      0.00         3\n",
      "          79       0.00      0.00      0.00         1\n",
      "          80       0.00      0.00      0.00         5\n",
      "          81       0.00      0.00      0.00         3\n",
      "          82       0.00      0.00      0.00         1\n",
      "          83       0.00      0.00      0.00         4\n",
      "          84       0.00      0.00      0.00         5\n",
      "          85       0.00      0.00      0.00         5\n",
      "          86       0.00      0.00      0.00         2\n",
      "          87       0.14      0.33      0.20         3\n",
      "          88       0.25      0.33      0.29         3\n",
      "          89       0.00      0.00      0.00         2\n",
      "          90       0.00      0.00      0.00         3\n",
      "          91       0.00      0.00      0.00         2\n",
      "          92       0.00      0.00      0.00         3\n",
      "          93       0.00      0.00      0.00         2\n",
      "          94       0.00      0.00      0.00         2\n",
      "          95       0.00      0.00      0.00         7\n",
      "          96       0.00      0.00      0.00         3\n",
      "          97       0.00      0.00      0.00         2\n",
      "          98       0.00      0.00      0.00         1\n",
      "          99       0.00      0.00      0.00         3\n",
      "         100       0.00      0.00      0.00         9\n",
      "         101       0.00      0.00      0.00         5\n",
      "         102       0.00      0.00      0.00         5\n",
      "         103       0.00      0.00      0.00         4\n",
      "         104       0.00      0.00      0.00         5\n",
      "         105       0.00      0.00      0.00         6\n",
      "         106       0.00      0.00      0.00         7\n",
      "         107       0.00      0.00      0.00         5\n",
      "         108       0.00      0.00      0.00         3\n",
      "         109       0.50      0.12      0.20         8\n",
      "         110       0.00      0.00      0.00         3\n",
      "         111       0.00      0.00      0.00         6\n",
      "         112       0.00      0.00      0.00         7\n",
      "         113       0.00      0.00      0.00         0\n",
      "         114       0.00      0.00      0.00         2\n",
      "         115       0.00      0.00      0.00         3\n",
      "         116       0.00      0.00      0.00         1\n",
      "         117       0.00      0.00      0.00         4\n",
      "         118       0.00      0.00      0.00         0\n",
      "         119       0.00      0.00      0.00         4\n",
      "         120       0.00      0.00      0.00         4\n",
      "         121       0.00      0.00      0.00         2\n",
      "         122       0.00      0.00      0.00         3\n",
      "         123       0.00      0.00      0.00         5\n",
      "         124       0.00      0.00      0.00         4\n",
      "         125       0.00      0.00      0.00         3\n",
      "         126       0.00      0.00      0.00         3\n",
      "         127       0.00      0.00      0.00         3\n",
      "         128       0.00      0.00      0.00         3\n",
      "         129       0.00      0.00      0.00         8\n",
      "         130       0.00      0.00      0.00         1\n",
      "         131       0.00      0.00      0.00         3\n",
      "         132       0.00      0.00      0.00         1\n",
      "         133       0.00      0.00      0.00         2\n",
      "         134       0.00      0.00      0.00         3\n",
      "         135       0.00      0.00      0.00         4\n",
      "         136       0.00      0.00      0.00         2\n",
      "         137       0.00      0.00      0.00         2\n",
      "         138       0.00      0.00      0.00         1\n",
      "         139       0.00      0.00      0.00         4\n",
      "         140       0.00      0.00      0.00         2\n",
      "         141       0.00      0.00      0.00         1\n",
      "         142       0.00      0.00      0.00         1\n",
      "         143       0.00      0.00      0.00         4\n",
      "         144       0.00      0.00      0.00         3\n",
      "         145       0.00      0.00      0.00         3\n",
      "         146       0.00      0.00      0.00         4\n",
      "         147       0.00      0.00      0.00         3\n",
      "         148       0.00      0.00      0.00         1\n",
      "         150       0.00      0.00      0.00         2\n",
      "         151       0.00      0.00      0.00         2\n",
      "         152       0.00      0.00      0.00         4\n",
      "         154       0.00      0.00      0.00         2\n",
      "         155       0.50      0.50      0.50         2\n",
      "         158       0.00      0.00      0.00         4\n",
      "         159       0.00      0.00      0.00         2\n",
      "         160       0.00      0.00      0.00         1\n",
      "         161       0.00      0.00      0.00         2\n",
      "         162       0.00      0.00      0.00         3\n",
      "         164       0.00      0.00      0.00         1\n",
      "         165       0.00      0.00      0.00         3\n",
      "         167       0.00      0.00      0.00         2\n",
      "         168       0.00      0.00      0.00         2\n",
      "         170       0.00      0.00      0.00         1\n",
      "         171       0.00      0.00      0.00         3\n",
      "         172       0.00      0.00      0.00         1\n",
      "         173       0.00      0.00      0.00         2\n",
      "         175       0.00      0.00      0.00         1\n",
      "         177       0.00      0.00      0.00         1\n",
      "         179       0.00      0.00      0.00         2\n",
      "         180       0.00      0.00      0.00         1\n",
      "         181       0.00      0.00      0.00         1\n",
      "         183       0.00      0.00      0.00         2\n",
      "         184       0.00      0.00      0.00         2\n",
      "         187       0.00      0.00      0.00         2\n",
      "         189       0.00      0.00      0.00         3\n",
      "         191       0.00      0.00      0.00         1\n",
      "         194       0.00      0.00      0.00         1\n",
      "         195       0.00      0.00      0.00         1\n",
      "         196       0.00      0.00      0.00         0\n",
      "         197       0.00      0.00      0.00         1\n",
      "\n",
      "    accuracy                           0.01       308\n",
      "   macro avg       0.01      0.01      0.01       308\n",
      "weighted avg       0.02      0.01      0.01       308\n",
      "\n"
     ]
    },
    {
     "name": "stderr",
     "output_type": "stream",
     "text": [
      "C:\\Users\\DELL\\anaconda3\\lib\\site-packages\\sklearn\\neighbors\\_classification.py:228: FutureWarning: Unlike other reduction functions (e.g. `skew`, `kurtosis`), the default behavior of `mode` typically preserves the axis it acts along. In SciPy 1.11.0, this behavior will change: the default value of `keepdims` will become False, the `axis` over which the statistic is taken will be eliminated, and the value None will no longer be accepted. Set `keepdims` to True or False to avoid this warning.\n",
      "  mode, _ = stats.mode(_y[neigh_ind, k], axis=1)\n",
      "C:\\Users\\DELL\\anaconda3\\lib\\site-packages\\sklearn\\metrics\\_classification.py:1318: UndefinedMetricWarning: Precision and F-score are ill-defined and being set to 0.0 in labels with no predicted samples. Use `zero_division` parameter to control this behavior.\n",
      "  _warn_prf(average, modifier, msg_start, len(result))\n",
      "C:\\Users\\DELL\\anaconda3\\lib\\site-packages\\sklearn\\metrics\\_classification.py:1318: UndefinedMetricWarning: Recall and F-score are ill-defined and being set to 0.0 in labels with no true samples. Use `zero_division` parameter to control this behavior.\n",
      "  _warn_prf(average, modifier, msg_start, len(result))\n",
      "C:\\Users\\DELL\\anaconda3\\lib\\site-packages\\sklearn\\metrics\\_classification.py:1318: UndefinedMetricWarning: Precision and F-score are ill-defined and being set to 0.0 in labels with no predicted samples. Use `zero_division` parameter to control this behavior.\n",
      "  _warn_prf(average, modifier, msg_start, len(result))\n",
      "C:\\Users\\DELL\\anaconda3\\lib\\site-packages\\sklearn\\metrics\\_classification.py:1318: UndefinedMetricWarning: Recall and F-score are ill-defined and being set to 0.0 in labels with no true samples. Use `zero_division` parameter to control this behavior.\n",
      "  _warn_prf(average, modifier, msg_start, len(result))\n",
      "C:\\Users\\DELL\\anaconda3\\lib\\site-packages\\sklearn\\metrics\\_classification.py:1318: UndefinedMetricWarning: Precision and F-score are ill-defined and being set to 0.0 in labels with no predicted samples. Use `zero_division` parameter to control this behavior.\n",
      "  _warn_prf(average, modifier, msg_start, len(result))\n",
      "C:\\Users\\DELL\\anaconda3\\lib\\site-packages\\sklearn\\metrics\\_classification.py:1318: UndefinedMetricWarning: Recall and F-score are ill-defined and being set to 0.0 in labels with no true samples. Use `zero_division` parameter to control this behavior.\n",
      "  _warn_prf(average, modifier, msg_start, len(result))\n"
     ]
    }
   ],
   "source": [
    "# Import confusion matrix\n",
    "from sklearn.metrics import classification_report , confusion_matrix\n",
    "\n",
    "\n",
    "knn = KNeighborsClassifier(n_neighbors=6)\n",
    "\n",
    "# Fit the model to the training data\n",
    "knn.fit(X_train,y_train)\n",
    "\n",
    "\n",
    "# Predict the labels of the test data: y_pred\n",
    "y_pred = knn.predict(X_test)\n",
    "\n",
    "# Generate the confusion matrix and classification report\n",
    "print(confusion_matrix(y_test, y_pred))\n",
    "print(classification_report(y_test, y_pred))"
   ]
  },
  {
   "cell_type": "code",
   "execution_count": null,
   "id": "cebc2049",
   "metadata": {},
   "outputs": [],
   "source": []
  },
  {
   "cell_type": "code",
   "execution_count": null,
   "id": "319b11a1",
   "metadata": {},
   "outputs": [],
   "source": []
  },
  {
   "cell_type": "code",
   "execution_count": null,
   "id": "93dadf9f",
   "metadata": {},
   "outputs": [],
   "source": []
  }
 ],
 "metadata": {
  "kernelspec": {
   "display_name": "Python 3 (ipykernel)",
   "language": "python",
   "name": "python3"
  },
  "language_info": {
   "codemirror_mode": {
    "name": "ipython",
    "version": 3
   },
   "file_extension": ".py",
   "mimetype": "text/x-python",
   "name": "python",
   "nbconvert_exporter": "python",
   "pygments_lexer": "ipython3",
   "version": "3.9.13"
  }
 },
 "nbformat": 4,
 "nbformat_minor": 5
}
