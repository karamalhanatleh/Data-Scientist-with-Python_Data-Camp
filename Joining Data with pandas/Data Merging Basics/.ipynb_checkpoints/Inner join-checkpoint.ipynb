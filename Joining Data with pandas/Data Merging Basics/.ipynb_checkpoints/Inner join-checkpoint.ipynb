{
 "cells": [
  {
   "cell_type": "code",
   "execution_count": 8,
   "id": "5a35ee3a",
   "metadata": {},
   "outputs": [],
   "source": [
    "import pandas as pd"
   ]
  },
  {
   "cell_type": "code",
   "execution_count": 17,
   "id": "e1545950",
   "metadata": {},
   "outputs": [],
   "source": [
    "ward_file='https://assets.datacamp.com/production/repositories/5486/datasets/87c16fd85c435ea10221932ebab27ffb6b232c74/ward.p'\n",
    "census_file='https://assets.datacamp.com/production/repositories/5486/datasets/c778c41d8b2f0d4cc6c842e95e0c650c7156c82c/census.p'"
   ]
  },
  {
   "cell_type": "code",
   "execution_count": 18,
   "id": "af3d755a",
   "metadata": {},
   "outputs": [
    {
     "data": {
      "text/html": [
       "<div>\n",
       "<style scoped>\n",
       "    .dataframe tbody tr th:only-of-type {\n",
       "        vertical-align: middle;\n",
       "    }\n",
       "\n",
       "    .dataframe tbody tr th {\n",
       "        vertical-align: top;\n",
       "    }\n",
       "\n",
       "    .dataframe thead th {\n",
       "        text-align: right;\n",
       "    }\n",
       "</style>\n",
       "<table border=\"1\" class=\"dataframe\">\n",
       "  <thead>\n",
       "    <tr style=\"text-align: right;\">\n",
       "      <th></th>\n",
       "      <th>ward</th>\n",
       "      <th>alderman</th>\n",
       "      <th>address</th>\n",
       "      <th>zip</th>\n",
       "    </tr>\n",
       "  </thead>\n",
       "  <tbody>\n",
       "    <tr>\n",
       "      <th>0</th>\n",
       "      <td>1</td>\n",
       "      <td>Proco \"Joe\" Moreno</td>\n",
       "      <td>2058 NORTH WESTERN AVENUE</td>\n",
       "      <td>60647</td>\n",
       "    </tr>\n",
       "    <tr>\n",
       "      <th>1</th>\n",
       "      <td>2</td>\n",
       "      <td>Brian Hopkins</td>\n",
       "      <td>1400 NORTH  ASHLAND AVENUE</td>\n",
       "      <td>60622</td>\n",
       "    </tr>\n",
       "    <tr>\n",
       "      <th>2</th>\n",
       "      <td>3</td>\n",
       "      <td>Pat Dowell</td>\n",
       "      <td>5046 SOUTH STATE STREET</td>\n",
       "      <td>60609</td>\n",
       "    </tr>\n",
       "    <tr>\n",
       "      <th>3</th>\n",
       "      <td>4</td>\n",
       "      <td>William D. Burns</td>\n",
       "      <td>435 EAST 35TH STREET, 1ST FLOOR</td>\n",
       "      <td>60616</td>\n",
       "    </tr>\n",
       "    <tr>\n",
       "      <th>4</th>\n",
       "      <td>5</td>\n",
       "      <td>Leslie A. Hairston</td>\n",
       "      <td>2325 EAST 71ST STREET</td>\n",
       "      <td>60649</td>\n",
       "    </tr>\n",
       "  </tbody>\n",
       "</table>\n",
       "</div>"
      ],
      "text/plain": [
       "  ward            alderman                          address    zip\n",
       "0    1  Proco \"Joe\" Moreno        2058 NORTH WESTERN AVENUE  60647\n",
       "1    2       Brian Hopkins       1400 NORTH  ASHLAND AVENUE  60622\n",
       "2    3          Pat Dowell          5046 SOUTH STATE STREET  60609\n",
       "3    4    William D. Burns  435 EAST 35TH STREET, 1ST FLOOR  60616\n",
       "4    5  Leslie A. Hairston            2325 EAST 71ST STREET  60649"
      ]
     },
     "execution_count": 18,
     "metadata": {},
     "output_type": "execute_result"
    }
   ],
   "source": [
    "ward=pd.read_pickle(ward_file)\n",
    "ward.head()"
   ]
  },
  {
   "cell_type": "code",
   "execution_count": 19,
   "id": "3a676cfa",
   "metadata": {},
   "outputs": [
    {
     "name": "stdout",
     "output_type": "stream",
     "text": [
      "(50, 22)\n"
     ]
    }
   ],
   "source": [
    "print(wards.shape)"
   ]
  },
  {
   "cell_type": "code",
   "execution_count": 21,
   "id": "042d9101",
   "metadata": {},
   "outputs": [
    {
     "data": {
      "text/html": [
       "<div>\n",
       "<style scoped>\n",
       "    .dataframe tbody tr th:only-of-type {\n",
       "        vertical-align: middle;\n",
       "    }\n",
       "\n",
       "    .dataframe tbody tr th {\n",
       "        vertical-align: top;\n",
       "    }\n",
       "\n",
       "    .dataframe thead th {\n",
       "        text-align: right;\n",
       "    }\n",
       "</style>\n",
       "<table border=\"1\" class=\"dataframe\">\n",
       "  <thead>\n",
       "    <tr style=\"text-align: right;\">\n",
       "      <th></th>\n",
       "      <th>ward</th>\n",
       "      <th>pop_2000</th>\n",
       "      <th>pop_2010</th>\n",
       "      <th>change</th>\n",
       "      <th>address</th>\n",
       "      <th>zip</th>\n",
       "    </tr>\n",
       "  </thead>\n",
       "  <tbody>\n",
       "    <tr>\n",
       "      <th>0</th>\n",
       "      <td>1</td>\n",
       "      <td>52951</td>\n",
       "      <td>56149</td>\n",
       "      <td>6%</td>\n",
       "      <td>2765 WEST SAINT MARY STREET</td>\n",
       "      <td>60647</td>\n",
       "    </tr>\n",
       "    <tr>\n",
       "      <th>1</th>\n",
       "      <td>2</td>\n",
       "      <td>54361</td>\n",
       "      <td>55805</td>\n",
       "      <td>3%</td>\n",
       "      <td>WM WASTE MANAGEMENT 1500</td>\n",
       "      <td>60622</td>\n",
       "    </tr>\n",
       "    <tr>\n",
       "      <th>2</th>\n",
       "      <td>3</td>\n",
       "      <td>40385</td>\n",
       "      <td>53039</td>\n",
       "      <td>31%</td>\n",
       "      <td>17 EAST 38TH STREET</td>\n",
       "      <td>60653</td>\n",
       "    </tr>\n",
       "    <tr>\n",
       "      <th>3</th>\n",
       "      <td>4</td>\n",
       "      <td>51953</td>\n",
       "      <td>54589</td>\n",
       "      <td>5%</td>\n",
       "      <td>31ST ST HARBOR BUILDING LAKEFRONT TRAIL</td>\n",
       "      <td>60653</td>\n",
       "    </tr>\n",
       "    <tr>\n",
       "      <th>4</th>\n",
       "      <td>5</td>\n",
       "      <td>55302</td>\n",
       "      <td>51455</td>\n",
       "      <td>-7%</td>\n",
       "      <td>JACKSON PARK LAGOON SOUTH CORNELL DRIVE</td>\n",
       "      <td>60637</td>\n",
       "    </tr>\n",
       "  </tbody>\n",
       "</table>\n",
       "</div>"
      ],
      "text/plain": [
       "  ward  pop_2000  pop_2010 change                                  address  \\\n",
       "0    1     52951     56149     6%              2765 WEST SAINT MARY STREET   \n",
       "1    2     54361     55805     3%                 WM WASTE MANAGEMENT 1500   \n",
       "2    3     40385     53039    31%                      17 EAST 38TH STREET   \n",
       "3    4     51953     54589     5%  31ST ST HARBOR BUILDING LAKEFRONT TRAIL   \n",
       "4    5     55302     51455    -7%  JACKSON PARK LAGOON SOUTH CORNELL DRIVE   \n",
       "\n",
       "     zip  \n",
       "0  60647  \n",
       "1  60622  \n",
       "2  60653  \n",
       "3  60653  \n",
       "4  60637  "
      ]
     },
     "execution_count": 21,
     "metadata": {},
     "output_type": "execute_result"
    }
   ],
   "source": [
    "census=pd.read_pickle(census_file)\n",
    "census.head()"
   ]
  },
  {
   "cell_type": "code",
   "execution_count": 22,
   "id": "47bf85ec",
   "metadata": {},
   "outputs": [],
   "source": [
    "ward.to_csv(\"Ward_Offices.csv\")"
   ]
  },
  {
   "cell_type": "code",
   "execution_count": 23,
   "id": "decb43c9",
   "metadata": {},
   "outputs": [],
   "source": [
    "census.to_csv(\"Ward_Census.csv\")"
   ]
  },
  {
   "cell_type": "code",
   "execution_count": 24,
   "id": "d98f1151",
   "metadata": {},
   "outputs": [
    {
     "data": {
      "text/html": [
       "<div>\n",
       "<style scoped>\n",
       "    .dataframe tbody tr th:only-of-type {\n",
       "        vertical-align: middle;\n",
       "    }\n",
       "\n",
       "    .dataframe tbody tr th {\n",
       "        vertical-align: top;\n",
       "    }\n",
       "\n",
       "    .dataframe thead th {\n",
       "        text-align: right;\n",
       "    }\n",
       "</style>\n",
       "<table border=\"1\" class=\"dataframe\">\n",
       "  <thead>\n",
       "    <tr style=\"text-align: right;\">\n",
       "      <th></th>\n",
       "      <th>Unnamed: 0</th>\n",
       "      <th>ward</th>\n",
       "      <th>alderman</th>\n",
       "      <th>address</th>\n",
       "      <th>zip</th>\n",
       "    </tr>\n",
       "  </thead>\n",
       "  <tbody>\n",
       "    <tr>\n",
       "      <th>0</th>\n",
       "      <td>0</td>\n",
       "      <td>1</td>\n",
       "      <td>Proco \"Joe\" Moreno</td>\n",
       "      <td>2058 NORTH WESTERN AVENUE</td>\n",
       "      <td>60647</td>\n",
       "    </tr>\n",
       "    <tr>\n",
       "      <th>1</th>\n",
       "      <td>1</td>\n",
       "      <td>2</td>\n",
       "      <td>Brian Hopkins</td>\n",
       "      <td>1400 NORTH  ASHLAND AVENUE</td>\n",
       "      <td>60622</td>\n",
       "    </tr>\n",
       "    <tr>\n",
       "      <th>2</th>\n",
       "      <td>2</td>\n",
       "      <td>3</td>\n",
       "      <td>Pat Dowell</td>\n",
       "      <td>5046 SOUTH STATE STREET</td>\n",
       "      <td>60609</td>\n",
       "    </tr>\n",
       "    <tr>\n",
       "      <th>3</th>\n",
       "      <td>3</td>\n",
       "      <td>4</td>\n",
       "      <td>William D. Burns</td>\n",
       "      <td>435 EAST 35TH STREET, 1ST FLOOR</td>\n",
       "      <td>60616</td>\n",
       "    </tr>\n",
       "    <tr>\n",
       "      <th>4</th>\n",
       "      <td>4</td>\n",
       "      <td>5</td>\n",
       "      <td>Leslie A. Hairston</td>\n",
       "      <td>2325 EAST 71ST STREET</td>\n",
       "      <td>60649</td>\n",
       "    </tr>\n",
       "  </tbody>\n",
       "</table>\n",
       "</div>"
      ],
      "text/plain": [
       "   Unnamed: 0  ward            alderman                          address  \\\n",
       "0           0     1  Proco \"Joe\" Moreno        2058 NORTH WESTERN AVENUE   \n",
       "1           1     2       Brian Hopkins       1400 NORTH  ASHLAND AVENUE   \n",
       "2           2     3          Pat Dowell          5046 SOUTH STATE STREET   \n",
       "3           3     4    William D. Burns  435 EAST 35TH STREET, 1ST FLOOR   \n",
       "4           4     5  Leslie A. Hairston            2325 EAST 71ST STREET   \n",
       "\n",
       "     zip  \n",
       "0  60647  \n",
       "1  60622  \n",
       "2  60609  \n",
       "3  60616  \n",
       "4  60649  "
      ]
     },
     "execution_count": 24,
     "metadata": {},
     "output_type": "execute_result"
    }
   ],
   "source": [
    "wards = pd.read_csv('Ward_Offices.csv')\n",
    "wards.head()\n"
   ]
  },
  {
   "cell_type": "code",
   "execution_count": 25,
   "id": "49bf842a",
   "metadata": {},
   "outputs": [
    {
     "data": {
      "text/plain": [
       "(50, 5)"
      ]
     },
     "execution_count": 25,
     "metadata": {},
     "output_type": "execute_result"
    }
   ],
   "source": [
    "wards.shape"
   ]
  },
  {
   "cell_type": "code",
   "execution_count": null,
   "id": "7566a51a",
   "metadata": {},
   "outputs": [],
   "source": []
  },
  {
   "cell_type": "code",
   "execution_count": 26,
   "id": "0a598b1f",
   "metadata": {},
   "outputs": [
    {
     "data": {
      "text/html": [
       "<div>\n",
       "<style scoped>\n",
       "    .dataframe tbody tr th:only-of-type {\n",
       "        vertical-align: middle;\n",
       "    }\n",
       "\n",
       "    .dataframe tbody tr th {\n",
       "        vertical-align: top;\n",
       "    }\n",
       "\n",
       "    .dataframe thead th {\n",
       "        text-align: right;\n",
       "    }\n",
       "</style>\n",
       "<table border=\"1\" class=\"dataframe\">\n",
       "  <thead>\n",
       "    <tr style=\"text-align: right;\">\n",
       "      <th></th>\n",
       "      <th>Unnamed: 0</th>\n",
       "      <th>ward</th>\n",
       "      <th>pop_2000</th>\n",
       "      <th>pop_2010</th>\n",
       "      <th>change</th>\n",
       "      <th>address</th>\n",
       "      <th>zip</th>\n",
       "    </tr>\n",
       "  </thead>\n",
       "  <tbody>\n",
       "    <tr>\n",
       "      <th>0</th>\n",
       "      <td>0</td>\n",
       "      <td>1</td>\n",
       "      <td>52951</td>\n",
       "      <td>56149</td>\n",
       "      <td>6%</td>\n",
       "      <td>2765 WEST SAINT MARY STREET</td>\n",
       "      <td>60647</td>\n",
       "    </tr>\n",
       "    <tr>\n",
       "      <th>1</th>\n",
       "      <td>1</td>\n",
       "      <td>2</td>\n",
       "      <td>54361</td>\n",
       "      <td>55805</td>\n",
       "      <td>3%</td>\n",
       "      <td>WM WASTE MANAGEMENT 1500</td>\n",
       "      <td>60622</td>\n",
       "    </tr>\n",
       "    <tr>\n",
       "      <th>2</th>\n",
       "      <td>2</td>\n",
       "      <td>3</td>\n",
       "      <td>40385</td>\n",
       "      <td>53039</td>\n",
       "      <td>31%</td>\n",
       "      <td>17 EAST 38TH STREET</td>\n",
       "      <td>60653</td>\n",
       "    </tr>\n",
       "    <tr>\n",
       "      <th>3</th>\n",
       "      <td>3</td>\n",
       "      <td>4</td>\n",
       "      <td>51953</td>\n",
       "      <td>54589</td>\n",
       "      <td>5%</td>\n",
       "      <td>31ST ST HARBOR BUILDING LAKEFRONT TRAIL</td>\n",
       "      <td>60653</td>\n",
       "    </tr>\n",
       "    <tr>\n",
       "      <th>4</th>\n",
       "      <td>4</td>\n",
       "      <td>5</td>\n",
       "      <td>55302</td>\n",
       "      <td>51455</td>\n",
       "      <td>-7%</td>\n",
       "      <td>JACKSON PARK LAGOON SOUTH CORNELL DRIVE</td>\n",
       "      <td>60637</td>\n",
       "    </tr>\n",
       "  </tbody>\n",
       "</table>\n",
       "</div>"
      ],
      "text/plain": [
       "   Unnamed: 0  ward  pop_2000  pop_2010 change  \\\n",
       "0           0     1     52951     56149     6%   \n",
       "1           1     2     54361     55805     3%   \n",
       "2           2     3     40385     53039    31%   \n",
       "3           3     4     51953     54589     5%   \n",
       "4           4     5     55302     51455    -7%   \n",
       "\n",
       "                                   address    zip  \n",
       "0              2765 WEST SAINT MARY STREET  60647  \n",
       "1                 WM WASTE MANAGEMENT 1500  60622  \n",
       "2                      17 EAST 38TH STREET  60653  \n",
       "3  31ST ST HARBOR BUILDING LAKEFRONT TRAIL  60653  \n",
       "4  JACKSON PARK LAGOON SOUTH CORNELL DRIVE  60637  "
      ]
     },
     "execution_count": 26,
     "metadata": {},
     "output_type": "execute_result"
    }
   ],
   "source": [
    "wards = pd.read_csv('Ward_Census.csv')\n",
    "wards.head()\n"
   ]
  },
  {
   "cell_type": "code",
   "execution_count": null,
   "id": "48df0f6a",
   "metadata": {},
   "outputs": [],
   "source": []
  },
  {
   "cell_type": "code",
   "execution_count": null,
   "id": "d12ef83e",
   "metadata": {},
   "outputs": [],
   "source": []
  },
  {
   "cell_type": "code",
   "execution_count": 27,
   "id": "b005d498",
   "metadata": {
    "collapsed": true
   },
   "outputs": [
    {
     "ename": "ValueError",
     "evalue": "You are trying to merge on int64 and object columns. If you wish to proceed you should use pd.concat",
     "output_type": "error",
     "traceback": [
      "\u001b[1;31m---------------------------------------------------------------------------\u001b[0m",
      "\u001b[1;31mValueError\u001b[0m                                Traceback (most recent call last)",
      "\u001b[1;32m~\\AppData\\Local\\Temp\\ipykernel_19012\\4146643858.py\u001b[0m in \u001b[0;36m<module>\u001b[1;34m\u001b[0m\n\u001b[1;32m----> 1\u001b[1;33m \u001b[0mwards_census\u001b[0m \u001b[1;33m=\u001b[0m \u001b[0mwards\u001b[0m\u001b[1;33m.\u001b[0m\u001b[0mmerge\u001b[0m\u001b[1;33m(\u001b[0m\u001b[0mcensus\u001b[0m\u001b[1;33m,\u001b[0m \u001b[0mon\u001b[0m\u001b[1;33m=\u001b[0m\u001b[1;34m'ward'\u001b[0m\u001b[1;33m)\u001b[0m\u001b[1;33m\u001b[0m\u001b[1;33m\u001b[0m\u001b[0m\n\u001b[0m\u001b[0;32m      2\u001b[0m \u001b[1;33m\u001b[0m\u001b[0m\n\u001b[0;32m      3\u001b[0m \u001b[0mprint\u001b[0m\u001b[1;33m(\u001b[0m\u001b[0mwards_census\u001b[0m\u001b[1;33m.\u001b[0m\u001b[0mhead\u001b[0m\u001b[1;33m(\u001b[0m\u001b[1;36m4\u001b[0m\u001b[1;33m)\u001b[0m\u001b[1;33m)\u001b[0m\u001b[1;33m\u001b[0m\u001b[1;33m\u001b[0m\u001b[0m\n",
      "\u001b[1;32m~\\anaconda3\\lib\\site-packages\\pandas\\core\\frame.py\u001b[0m in \u001b[0;36mmerge\u001b[1;34m(self, right, how, on, left_on, right_on, left_index, right_index, sort, suffixes, copy, indicator, validate)\u001b[0m\n\u001b[0;32m   9352\u001b[0m         \u001b[1;32mfrom\u001b[0m \u001b[0mpandas\u001b[0m\u001b[1;33m.\u001b[0m\u001b[0mcore\u001b[0m\u001b[1;33m.\u001b[0m\u001b[0mreshape\u001b[0m\u001b[1;33m.\u001b[0m\u001b[0mmerge\u001b[0m \u001b[1;32mimport\u001b[0m \u001b[0mmerge\u001b[0m\u001b[1;33m\u001b[0m\u001b[1;33m\u001b[0m\u001b[0m\n\u001b[0;32m   9353\u001b[0m \u001b[1;33m\u001b[0m\u001b[0m\n\u001b[1;32m-> 9354\u001b[1;33m         return merge(\n\u001b[0m\u001b[0;32m   9355\u001b[0m             \u001b[0mself\u001b[0m\u001b[1;33m,\u001b[0m\u001b[1;33m\u001b[0m\u001b[1;33m\u001b[0m\u001b[0m\n\u001b[0;32m   9356\u001b[0m             \u001b[0mright\u001b[0m\u001b[1;33m,\u001b[0m\u001b[1;33m\u001b[0m\u001b[1;33m\u001b[0m\u001b[0m\n",
      "\u001b[1;32m~\\anaconda3\\lib\\site-packages\\pandas\\core\\reshape\\merge.py\u001b[0m in \u001b[0;36mmerge\u001b[1;34m(left, right, how, on, left_on, right_on, left_index, right_index, sort, suffixes, copy, indicator, validate)\u001b[0m\n\u001b[0;32m    105\u001b[0m     \u001b[0mvalidate\u001b[0m\u001b[1;33m:\u001b[0m \u001b[0mstr\u001b[0m \u001b[1;33m|\u001b[0m \u001b[1;32mNone\u001b[0m \u001b[1;33m=\u001b[0m \u001b[1;32mNone\u001b[0m\u001b[1;33m,\u001b[0m\u001b[1;33m\u001b[0m\u001b[1;33m\u001b[0m\u001b[0m\n\u001b[0;32m    106\u001b[0m ) -> DataFrame:\n\u001b[1;32m--> 107\u001b[1;33m     op = _MergeOperation(\n\u001b[0m\u001b[0;32m    108\u001b[0m         \u001b[0mleft\u001b[0m\u001b[1;33m,\u001b[0m\u001b[1;33m\u001b[0m\u001b[1;33m\u001b[0m\u001b[0m\n\u001b[0;32m    109\u001b[0m         \u001b[0mright\u001b[0m\u001b[1;33m,\u001b[0m\u001b[1;33m\u001b[0m\u001b[1;33m\u001b[0m\u001b[0m\n",
      "\u001b[1;32m~\\anaconda3\\lib\\site-packages\\pandas\\core\\reshape\\merge.py\u001b[0m in \u001b[0;36m__init__\u001b[1;34m(self, left, right, how, on, left_on, right_on, axis, left_index, right_index, sort, suffixes, copy, indicator, validate)\u001b[0m\n\u001b[0;32m    702\u001b[0m         \u001b[1;31m# validate the merge keys dtypes. We may need to coerce\u001b[0m\u001b[1;33m\u001b[0m\u001b[1;33m\u001b[0m\u001b[0m\n\u001b[0;32m    703\u001b[0m         \u001b[1;31m# to avoid incompatible dtypes\u001b[0m\u001b[1;33m\u001b[0m\u001b[1;33m\u001b[0m\u001b[0m\n\u001b[1;32m--> 704\u001b[1;33m         \u001b[0mself\u001b[0m\u001b[1;33m.\u001b[0m\u001b[0m_maybe_coerce_merge_keys\u001b[0m\u001b[1;33m(\u001b[0m\u001b[1;33m)\u001b[0m\u001b[1;33m\u001b[0m\u001b[1;33m\u001b[0m\u001b[0m\n\u001b[0m\u001b[0;32m    705\u001b[0m \u001b[1;33m\u001b[0m\u001b[0m\n\u001b[0;32m    706\u001b[0m         \u001b[1;31m# If argument passed to validate,\u001b[0m\u001b[1;33m\u001b[0m\u001b[1;33m\u001b[0m\u001b[0m\n",
      "\u001b[1;32m~\\anaconda3\\lib\\site-packages\\pandas\\core\\reshape\\merge.py\u001b[0m in \u001b[0;36m_maybe_coerce_merge_keys\u001b[1;34m(self)\u001b[0m\n\u001b[0;32m   1259\u001b[0m                     \u001b[0minferred_right\u001b[0m \u001b[1;32min\u001b[0m \u001b[0mstring_types\u001b[0m \u001b[1;32mand\u001b[0m \u001b[0minferred_left\u001b[0m \u001b[1;32mnot\u001b[0m \u001b[1;32min\u001b[0m \u001b[0mstring_types\u001b[0m\u001b[1;33m\u001b[0m\u001b[1;33m\u001b[0m\u001b[0m\n\u001b[0;32m   1260\u001b[0m                 ):\n\u001b[1;32m-> 1261\u001b[1;33m                     \u001b[1;32mraise\u001b[0m \u001b[0mValueError\u001b[0m\u001b[1;33m(\u001b[0m\u001b[0mmsg\u001b[0m\u001b[1;33m)\u001b[0m\u001b[1;33m\u001b[0m\u001b[1;33m\u001b[0m\u001b[0m\n\u001b[0m\u001b[0;32m   1262\u001b[0m \u001b[1;33m\u001b[0m\u001b[0m\n\u001b[0;32m   1263\u001b[0m             \u001b[1;31m# datetimelikes must match exactly\u001b[0m\u001b[1;33m\u001b[0m\u001b[1;33m\u001b[0m\u001b[0m\n",
      "\u001b[1;31mValueError\u001b[0m: You are trying to merge on int64 and object columns. If you wish to proceed you should use pd.concat"
     ]
    }
   ],
   "source": [
    "wards_census = wards.merge(census, on='ward')\n",
    "\n",
    "print(wards_census.head(4))"
   ]
  },
  {
   "cell_type": "code",
   "execution_count": 28,
   "id": "da8041ff",
   "metadata": {},
   "outputs": [
    {
     "data": {
      "text/plain": [
       "dtype('int64')"
      ]
     },
     "execution_count": 28,
     "metadata": {},
     "output_type": "execute_result"
    }
   ],
   "source": [
    "wards['ward'].dtype"
   ]
  },
  {
   "cell_type": "code",
   "execution_count": 29,
   "id": "fb6f5200",
   "metadata": {},
   "outputs": [
    {
     "data": {
      "text/plain": [
       "dtype('O')"
      ]
     },
     "execution_count": 29,
     "metadata": {},
     "output_type": "execute_result"
    }
   ],
   "source": [
    "census['ward'].dtype"
   ]
  },
  {
   "cell_type": "code",
   "execution_count": 31,
   "id": "213827fe",
   "metadata": {},
   "outputs": [],
   "source": [
    "census['ward'] = census['ward'].astype(int)\n"
   ]
  },
  {
   "cell_type": "code",
   "execution_count": 32,
   "id": "0cdce651",
   "metadata": {},
   "outputs": [
    {
     "data": {
      "text/plain": [
       "dtype('int32')"
      ]
     },
     "execution_count": 32,
     "metadata": {},
     "output_type": "execute_result"
    }
   ],
   "source": [
    "census['ward'].dtype"
   ]
  },
  {
   "cell_type": "code",
   "execution_count": null,
   "id": "ba1f514f",
   "metadata": {},
   "outputs": [],
   "source": []
  },
  {
   "cell_type": "code",
   "execution_count": 34,
   "id": "1f0dfd57",
   "metadata": {},
   "outputs": [
    {
     "data": {
      "text/html": [
       "<div>\n",
       "<style scoped>\n",
       "    .dataframe tbody tr th:only-of-type {\n",
       "        vertical-align: middle;\n",
       "    }\n",
       "\n",
       "    .dataframe tbody tr th {\n",
       "        vertical-align: top;\n",
       "    }\n",
       "\n",
       "    .dataframe thead th {\n",
       "        text-align: right;\n",
       "    }\n",
       "</style>\n",
       "<table border=\"1\" class=\"dataframe\">\n",
       "  <thead>\n",
       "    <tr style=\"text-align: right;\">\n",
       "      <th></th>\n",
       "      <th>Unnamed: 0</th>\n",
       "      <th>ward</th>\n",
       "      <th>pop_2000_x</th>\n",
       "      <th>pop_2010_x</th>\n",
       "      <th>change_x</th>\n",
       "      <th>address_x</th>\n",
       "      <th>zip_x</th>\n",
       "      <th>pop_2000_y</th>\n",
       "      <th>pop_2010_y</th>\n",
       "      <th>change_y</th>\n",
       "      <th>address_y</th>\n",
       "      <th>zip_y</th>\n",
       "    </tr>\n",
       "  </thead>\n",
       "  <tbody>\n",
       "    <tr>\n",
       "      <th>0</th>\n",
       "      <td>0</td>\n",
       "      <td>1</td>\n",
       "      <td>52951</td>\n",
       "      <td>56149</td>\n",
       "      <td>6%</td>\n",
       "      <td>2765 WEST SAINT MARY STREET</td>\n",
       "      <td>60647</td>\n",
       "      <td>52951</td>\n",
       "      <td>56149</td>\n",
       "      <td>6%</td>\n",
       "      <td>2765 WEST SAINT MARY STREET</td>\n",
       "      <td>60647</td>\n",
       "    </tr>\n",
       "    <tr>\n",
       "      <th>1</th>\n",
       "      <td>1</td>\n",
       "      <td>2</td>\n",
       "      <td>54361</td>\n",
       "      <td>55805</td>\n",
       "      <td>3%</td>\n",
       "      <td>WM WASTE MANAGEMENT 1500</td>\n",
       "      <td>60622</td>\n",
       "      <td>54361</td>\n",
       "      <td>55805</td>\n",
       "      <td>3%</td>\n",
       "      <td>WM WASTE MANAGEMENT 1500</td>\n",
       "      <td>60622</td>\n",
       "    </tr>\n",
       "    <tr>\n",
       "      <th>2</th>\n",
       "      <td>2</td>\n",
       "      <td>3</td>\n",
       "      <td>40385</td>\n",
       "      <td>53039</td>\n",
       "      <td>31%</td>\n",
       "      <td>17 EAST 38TH STREET</td>\n",
       "      <td>60653</td>\n",
       "      <td>40385</td>\n",
       "      <td>53039</td>\n",
       "      <td>31%</td>\n",
       "      <td>17 EAST 38TH STREET</td>\n",
       "      <td>60653</td>\n",
       "    </tr>\n",
       "    <tr>\n",
       "      <th>3</th>\n",
       "      <td>3</td>\n",
       "      <td>4</td>\n",
       "      <td>51953</td>\n",
       "      <td>54589</td>\n",
       "      <td>5%</td>\n",
       "      <td>31ST ST HARBOR BUILDING LAKEFRONT TRAIL</td>\n",
       "      <td>60653</td>\n",
       "      <td>51953</td>\n",
       "      <td>54589</td>\n",
       "      <td>5%</td>\n",
       "      <td>31ST ST HARBOR BUILDING LAKEFRONT TRAIL</td>\n",
       "      <td>60653</td>\n",
       "    </tr>\n",
       "  </tbody>\n",
       "</table>\n",
       "</div>"
      ],
      "text/plain": [
       "   Unnamed: 0  ward  pop_2000_x  pop_2010_x change_x  \\\n",
       "0           0     1       52951       56149       6%   \n",
       "1           1     2       54361       55805       3%   \n",
       "2           2     3       40385       53039      31%   \n",
       "3           3     4       51953       54589       5%   \n",
       "\n",
       "                                 address_x  zip_x  pop_2000_y  pop_2010_y  \\\n",
       "0              2765 WEST SAINT MARY STREET  60647       52951       56149   \n",
       "1                 WM WASTE MANAGEMENT 1500  60622       54361       55805   \n",
       "2                      17 EAST 38TH STREET  60653       40385       53039   \n",
       "3  31ST ST HARBOR BUILDING LAKEFRONT TRAIL  60653       51953       54589   \n",
       "\n",
       "  change_y                                address_y  zip_y  \n",
       "0       6%              2765 WEST SAINT MARY STREET  60647  \n",
       "1       3%                 WM WASTE MANAGEMENT 1500  60622  \n",
       "2      31%                      17 EAST 38TH STREET  60653  \n",
       "3       5%  31ST ST HARBOR BUILDING LAKEFRONT TRAIL  60653  "
      ]
     },
     "execution_count": 34,
     "metadata": {},
     "output_type": "execute_result"
    }
   ],
   "source": [
    "wards_census = wards.merge(census, on='ward')\n",
    "\n",
    "wards_census.head(4)"
   ]
  },
  {
   "cell_type": "code",
   "execution_count": 35,
   "id": "caccc252",
   "metadata": {},
   "outputs": [
    {
     "data": {
      "text/plain": [
       "Index(['Unnamed: 0', 'ward', 'pop_2000_x', 'pop_2010_x', 'change_x',\n",
       "       'address_x', 'zip_x', 'pop_2000_y', 'pop_2010_y', 'change_y',\n",
       "       'address_y', 'zip_y'],\n",
       "      dtype='object')"
      ]
     },
     "execution_count": 35,
     "metadata": {},
     "output_type": "execute_result"
    }
   ],
   "source": [
    "wards_census.columns"
   ]
  },
  {
   "cell_type": "code",
   "execution_count": null,
   "id": "719062c5",
   "metadata": {},
   "outputs": [],
   "source": []
  }
 ],
 "metadata": {
  "kernelspec": {
   "display_name": "Python 3 (ipykernel)",
   "language": "python",
   "name": "python3"
  },
  "language_info": {
   "codemirror_mode": {
    "name": "ipython",
    "version": 3
   },
   "file_extension": ".py",
   "mimetype": "text/x-python",
   "name": "python",
   "nbconvert_exporter": "python",
   "pygments_lexer": "ipython3",
   "version": "3.9.13"
  }
 },
 "nbformat": 4,
 "nbformat_minor": 5
}
