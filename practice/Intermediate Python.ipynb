{
 "cells": [
  {
   "cell_type": "code",
   "execution_count": 1,
   "id": "f628291c",
   "metadata": {},
   "outputs": [
    {
     "name": "stdout",
     "output_type": "stream",
     "text": [
      "33\n",
      "16\n",
      "15\n"
     ]
    }
   ],
   "source": [
    "apples = [[9, 25, 33], \n",
    "          [16, 19, 16], \n",
    "          [25, 37, 15]]\n",
    "for x in apples:\n",
    "    print(x[2])"
   ]
  },
  {
   "cell_type": "code",
   "execution_count": null,
   "id": "cd242f0f",
   "metadata": {},
   "outputs": [],
   "source": []
  },
  {
   "cell_type": "code",
   "execution_count": 4,
   "id": "bc721728",
   "metadata": {},
   "outputs": [
    {
     "name": "stdout",
     "output_type": "stream",
     "text": [
      "9\n",
      "2\n",
      "2\n",
      "9\n",
      "8\n",
      "7\n"
     ]
    }
   ],
   "source": [
    "import numpy as np\n",
    "x = np.array([[9, 2, 2],\n",
    "              [9, 8, 7]])\n",
    "for i in np.nditer(x):\n",
    "    print(i)"
   ]
  },
  {
   "cell_type": "code",
   "execution_count": null,
   "id": "60b376c3",
   "metadata": {},
   "outputs": [],
   "source": []
  },
  {
   "cell_type": "code",
   "execution_count": 5,
   "id": "4627b72f",
   "metadata": {},
   "outputs": [
    {
     "name": "stdout",
     "output_type": "stream",
     "text": [
      "x is odd\n"
     ]
    }
   ],
   "source": [
    "x = 5\n",
    "if x % 2 == 0:\n",
    "  print(\"x is even\")\n",
    "else :\n",
    "  print(\"x is odd\")"
   ]
  },
  {
   "cell_type": "code",
   "execution_count": null,
   "id": "e30b2ac0",
   "metadata": {},
   "outputs": [],
   "source": []
  },
  {
   "cell_type": "code",
   "execution_count": 6,
   "id": "02c06d6d",
   "metadata": {},
   "outputs": [],
   "source": [
    "numpy1 = np.array([17.2, 20.0, 8.25, 9.50])\n",
    "numpy2 = np.array([13.0, 24.0, 8.25, 9.0])"
   ]
  },
  {
   "cell_type": "code",
   "execution_count": 10,
   "id": "4658c107",
   "metadata": {},
   "outputs": [
    {
     "name": "stdout",
     "output_type": "stream",
     "text": [
      "[17.2  9.5]\n"
     ]
    }
   ],
   "source": [
    "print(numpy1[[0,-1]])\n"
   ]
  },
  {
   "cell_type": "code",
   "execution_count": null,
   "id": "87a9a03c",
   "metadata": {},
   "outputs": [],
   "source": []
  },
  {
   "cell_type": "raw",
   "id": "d37c2708",
   "metadata": {},
   "source": [
    "['age','credit_score']\n",
    "[True, False]"
   ]
  }
 ],
 "metadata": {
  "kernelspec": {
   "display_name": "Python 3 (ipykernel)",
   "language": "python",
   "name": "python3"
  },
  "language_info": {
   "codemirror_mode": {
    "name": "ipython",
    "version": 3
   },
   "file_extension": ".py",
   "mimetype": "text/x-python",
   "name": "python",
   "nbconvert_exporter": "python",
   "pygments_lexer": "ipython3",
   "version": "3.9.13"
  }
 },
 "nbformat": 4,
 "nbformat_minor": 5
}
