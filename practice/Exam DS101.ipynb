{
 "cells": [
  {
   "cell_type": "code",
   "execution_count": 1,
   "id": "7c5a11ff",
   "metadata": {
    "scrolled": true
   },
   "outputs": [
    {
     "data": {
      "text/plain": [
       "2.6666666666666665"
      ]
     },
     "execution_count": 1,
     "metadata": {},
     "output_type": "execute_result"
    }
   ],
   "source": [
    "120/45"
   ]
  },
  {
   "cell_type": "code",
   "execution_count": 3,
   "id": "094451da",
   "metadata": {
    "scrolled": true
   },
   "outputs": [
    {
     "name": "stdout",
     "output_type": "stream",
     "text": [
      "[ 2.55688629  3.16801127  1.10520662  0.75437284  1.55544266  0.01429798\n",
      "  3.40484206  0.79111358  0.66330092  0.7427508   3.69561326  0.42109204\n",
      "  6.99426563  0.12279811  3.1502057   0.14718172  0.76289846  1.67146914\n",
      "  2.51377149  1.13272446  0.39586033  0.14708993  0.60952225  0.69889075\n",
      "  1.11870773  2.3512956   3.92980176  1.99163951  0.24567664  0.40765441\n",
      "  0.99786727  0.63547156  2.17560104  1.86139906  4.82406296  3.66105311\n",
      "  0.76194988  2.4654838   1.77332159  4.89231575  1.44057022  0.13867128\n",
      "  0.8916802   2.9271817   1.11557924  0.31748007  1.28136013  6.73879334\n",
      "  0.12617935  1.82087977  1.33301118  4.72537721  0.14107092  2.50264801\n",
      "  0.16202016  2.65613729  0.81096016  3.6383025   0.89367348  0.80135786\n",
      "  0.32331531  0.4619383   0.21730024  1.03574228  0.9747645  10.40364874\n",
      "  1.32470571  0.20556633  0.33317185  2.58247747  1.61063292  1.14775476\n",
      "  3.75777937  0.31123762  3.66220487  0.36529507  0.86747246  0.19062607\n",
      "  3.21637454  1.19566392  0.32964699  3.52521572  3.60771426  0.83580157\n",
      "  0.94016471  5.35359059  6.50989971  2.85456242  1.39493692  0.11273778\n",
      "  0.43200303  2.43539212  1.6045369   1.10529198  0.49236911  1.37547541\n",
      "  2.08667266  1.68471506  0.64290299  1.57858402]\n"
     ]
    }
   ],
   "source": [
    "import numpy as np\n",
    "\n",
    "df = 2 # number of degrees of freedom\n",
    "\n",
    "\n",
    "chisq_data = np.random.chisquare(df, 100)\n",
    "\n",
    "print(chisq_data)"
   ]
  },
  {
   "cell_type": "code",
   "execution_count": null,
   "id": "f5cdc78a",
   "metadata": {},
   "outputs": [],
   "source": []
  },
  {
   "cell_type": "code",
   "execution_count": 4,
   "id": "2e052075",
   "metadata": {},
   "outputs": [
    {
     "name": "stdout",
     "output_type": "stream",
     "text": [
      "[-0.57408746  2.59470809  1.18609754 -0.93079368  2.78450664  0.07812675\n",
      "  1.2446261   1.19253151  0.19772236  4.02477032  2.45902031 -1.23989241\n",
      "  1.55791962 -2.07342942 -0.45608737  0.59405669  3.92124282 -0.19444771\n",
      "  1.75387821 -2.39832852 -2.68031626  3.46312567  0.3229199   0.25874229\n",
      "  1.66525477 -2.36865101  2.97075307 -0.95583633 -1.14804318 -1.48107016\n",
      " -1.10777455  0.19374193  1.00376273  0.13642959  1.92148431  0.46218452\n",
      "  0.82018654  0.38526999  3.12560032  1.13326721  5.75853185 -0.30347183\n",
      "  3.23170183  1.3425683   1.877571    2.45244842 -0.62811457  1.4620569\n",
      "  1.29873475 -0.20577371 -1.3262826  -1.00606208  4.82795172  3.15163881\n",
      "  4.45192898  4.6504751   2.16461855  3.45427688  2.56054603  2.83369073\n",
      "  2.97249494  1.24463397  4.48464415  1.30502035 -0.3274581   1.02771036\n",
      " -0.66251644 -0.83272605  6.2188996   6.02583741  0.51330299  1.14838986\n",
      "  1.24011874 -0.42384103 -0.26765486  0.30504973  0.98033487  5.54181859\n",
      " -1.36099288  0.20306612  0.0162427   0.92367867  0.90130065 -0.76243413\n",
      "  2.37432039  0.02798829  1.58736179  3.10507634  3.84093008  1.29440342\n",
      "  0.16323221 -2.04000515  2.9626917  -0.21563978 -0.65460367  2.25314067\n",
      " -0.58562211 -0.34129761 -1.50942816 -0.94229475]\n"
     ]
    }
   ],
   "source": [
    "import numpy as np\n",
    "\n",
    "normal_dist_data = np.random.normal(loc=1, scale=2, size=100)\n",
    "\n",
    "print(normal_dist_data)"
   ]
  },
  {
   "cell_type": "code",
   "execution_count": null,
   "id": "ca2fdba0",
   "metadata": {},
   "outputs": [],
   "source": []
  },
  {
   "cell_type": "markdown",
   "id": "ff88155c",
   "metadata": {},
   "source": [
    "## 4"
   ]
  },
  {
   "cell_type": "code",
   "execution_count": null,
   "id": "6bd60c48",
   "metadata": {},
   "outputs": [],
   "source": []
  },
  {
   "cell_type": "code",
   "execution_count": 6,
   "id": "60bd7cf1",
   "metadata": {},
   "outputs": [
    {
     "data": {
      "image/png": "[encoded data removed]",
      "text/plain": [
       "<Figure size 640x480 with 1 Axes>"
      ]
     },
     "metadata": {},
     "output_type": "display_data"
    }
   ],
   "source": [
    "import scipy.stats as stats\n",
    "import matplotlib.pyplot as plt\n",
    "\n",
    "sample_dist = stats.gamma.rvs(a=2, size=5000)\n",
    "\n",
    "plt.hist(sample_dist, density=True, bins=60, color='lightgreen')\n",
    "plt.xlim(xmin=0, xmax = 10)\n",
    "plt.show()"
   ]
  },
  {
   "cell_type": "code",
   "execution_count": null,
   "id": "ff808469",
   "metadata": {},
   "outputs": [],
   "source": []
  },
  {
   "cell_type": "code",
   "execution_count": 7,
   "id": "9d418d7c",
   "metadata": {},
   "outputs": [
    {
     "data": {
      "image/png": "[encoded data removed]",
      "text/plain": [
       "<Figure size 500x500 with 1 Axes>"
      ]
     },
     "metadata": {},
     "output_type": "display_data"
    }
   ],
   "source": [
    "from numpy.random import default_rng\n",
    "import seaborn as sns\n",
    "import matplotlib.pyplot as plt\n",
    "\n",
    "\n",
    "rng = default_rng(4)\n",
    "dist = rng.binomial(6, 0.4,3000)\n",
    "\n",
    "sns.displot(dist)\n",
    "plt.show()"
   ]
  },
  {
   "cell_type": "code",
   "execution_count": null,
   "id": "e25fa551",
   "metadata": {},
   "outputs": [],
   "source": []
  },
  {
   "cell_type": "code",
   "execution_count": 10,
   "id": "7b147966",
   "metadata": {},
   "outputs": [
    {
     "name": "stdout",
     "output_type": "stream",
     "text": [
      "0.06645693177033651\n"
     ]
    }
   ],
   "source": [
    "import scipy.stats as stats\n",
    "\n",
    "vgc_owners = stats.binom.pmf(k=50, n=100, p=0.53)\n",
    "print(vgc_owners)"
   ]
  },
  {
   "cell_type": "code",
   "execution_count": null,
   "id": "6a81addd",
   "metadata": {},
   "outputs": [],
   "source": []
  },
  {
   "cell_type": "code",
   "execution_count": null,
   "id": "6e854512",
   "metadata": {},
   "outputs": [],
   "source": []
  },
  {
   "cell_type": "code",
   "execution_count": 12,
   "id": "e58ea7b5",
   "metadata": {},
   "outputs": [
    {
     "name": "stdout",
     "output_type": "stream",
     "text": [
      "0.002891345949853741\n"
     ]
    }
   ],
   "source": [
    "from scipy.stats import norm\n",
    "\n",
    "upper_probability = norm(loc = 45 , scale = 20 ).cdf(120)\n",
    "lower_probability = norm(loc = 45 , scale = 20 ).cdf(100)\n",
    "\n",
    "probability = upper_probability-lower_probability\n",
    "\n",
    "print(probability)"
   ]
  },
  {
   "cell_type": "code",
   "execution_count": null,
   "id": "708cfc48",
   "metadata": {},
   "outputs": [],
   "source": []
  },
  {
   "cell_type": "code",
   "execution_count": null,
   "id": "29691d24",
   "metadata": {},
   "outputs": [],
   "source": []
  },
  {
   "cell_type": "code",
   "execution_count": 13,
   "id": "115a1b1a",
   "metadata": {},
   "outputs": [
    {
     "ename": "NameError",
     "evalue": "name 'chisquare' is not defined",
     "output_type": "error",
     "traceback": [
      "\u001b[1;31m---------------------------------------------------------------------------\u001b[0m",
      "\u001b[1;31mNameError\u001b[0m                                 Traceback (most recent call last)",
      "\u001b[1;32m~\\AppData\\Local\\Temp\\ipykernel_4432\\1030203531.py\u001b[0m in \u001b[0;36m<module>\u001b[1;34m\u001b[0m\n\u001b[0;32m      4\u001b[0m \u001b[0mexp\u001b[0m \u001b[1;33m=\u001b[0m \u001b[1;33m[\u001b[0m\u001b[1;36m5\u001b[0m\u001b[1;33m,\u001b[0m\u001b[1;36m15\u001b[0m\u001b[1;33m,\u001b[0m\u001b[1;36m10\u001b[0m\u001b[1;33m,\u001b[0m\u001b[1;36m15\u001b[0m\u001b[1;33m,\u001b[0m\u001b[1;36m15\u001b[0m\u001b[1;33m,\u001b[0m\u001b[1;36m10\u001b[0m\u001b[1;33m,\u001b[0m\u001b[1;36m55\u001b[0m\u001b[1;33m]\u001b[0m\u001b[1;33m\u001b[0m\u001b[1;33m\u001b[0m\u001b[0m\n\u001b[0;32m      5\u001b[0m \u001b[1;33m\u001b[0m\u001b[0m\n\u001b[1;32m----> 6\u001b[1;33m \u001b[0mresult\u001b[0m \u001b[1;33m=\u001b[0m \u001b[0mchisquare\u001b[0m\u001b[1;33m(\u001b[0m\u001b[0mobs\u001b[0m\u001b[1;33m,\u001b[0m\u001b[0mexp\u001b[0m\u001b[1;33m)\u001b[0m\u001b[1;33m\u001b[0m\u001b[1;33m\u001b[0m\u001b[0m\n\u001b[0m\u001b[0;32m      7\u001b[0m \u001b[1;33m\u001b[0m\u001b[0m\n\u001b[0;32m      8\u001b[0m \u001b[0mprint\u001b[0m\u001b[1;33m(\u001b[0m\u001b[0mresult\u001b[0m\u001b[1;33m)\u001b[0m\u001b[1;33m\u001b[0m\u001b[1;33m\u001b[0m\u001b[0m\n",
      "\u001b[1;31mNameError\u001b[0m: name 'chisquare' is not defined"
     ]
    }
   ],
   "source": [
    "from scipy import stats\n",
    "\n",
    "obs =[10,10,10,20,50,10,15]\n",
    "exp = [5,15,10,15,15,10,55]\n",
    "\n",
    "result = chisquare(obs,exp)\n",
    "\n",
    "print(result)"
   ]
  },
  {
   "cell_type": "code",
   "execution_count": null,
   "id": "ea6e4fa4",
   "metadata": {},
   "outputs": [],
   "source": []
  },
  {
   "cell_type": "code",
   "execution_count": 15,
   "id": "8705fe7f",
   "metadata": {},
   "outputs": [
    {
     "ename": "NameError",
     "evalue": "name 'trait_a' is not defined",
     "output_type": "error",
     "traceback": [
      "\u001b[1;31m---------------------------------------------------------------------------\u001b[0m",
      "\u001b[1;31mNameError\u001b[0m                                 Traceback (most recent call last)",
      "\u001b[1;32m~\\AppData\\Local\\Temp\\ipykernel_4432\\224684883.py\u001b[0m in \u001b[0;36m<module>\u001b[1;34m\u001b[0m\n\u001b[0;32m      1\u001b[0m \u001b[1;32mimport\u001b[0m \u001b[0mmatplotlib\u001b[0m\u001b[1;33m.\u001b[0m\u001b[0mpyplot\u001b[0m \u001b[1;32mas\u001b[0m \u001b[0mplt\u001b[0m\u001b[1;33m\u001b[0m\u001b[1;33m\u001b[0m\u001b[0m\n\u001b[0;32m      2\u001b[0m \u001b[1;33m\u001b[0m\u001b[0m\n\u001b[1;32m----> 3\u001b[1;33m \u001b[0mplt\u001b[0m\u001b[1;33m.\u001b[0m\u001b[0mscatter\u001b[0m\u001b[1;33m(\u001b[0m\u001b[0mtrait_a\u001b[0m\u001b[1;33m,\u001b[0m \u001b[0mtrait_b\u001b[0m\u001b[1;33m,\u001b[0m\u001b[0ms\u001b[0m\u001b[1;33m=\u001b[0m\u001b[0msize\u001b[0m\u001b[1;33m,\u001b[0m \u001b[0malpha\u001b[0m\u001b[1;33m=\u001b[0m\u001b[1;36m.5\u001b[0m\u001b[1;33m,\u001b[0m \u001b[0mcmap\u001b[0m\u001b[1;33m=\u001b[0m\u001b[1;34m'CMRmap'\u001b[0m\u001b[1;33m)\u001b[0m\u001b[1;33m\u001b[0m\u001b[1;33m\u001b[0m\u001b[0m\n\u001b[0m\u001b[0;32m      4\u001b[0m \u001b[0mplt\u001b[0m\u001b[1;33m.\u001b[0m\u001b[0mxticks\u001b[0m\u001b[1;33m(\u001b[0m\u001b[1;33m[\u001b[0m\u001b[1;36m10\u001b[0m\u001b[1;33m,\u001b[0m\u001b[1;36m20\u001b[0m\u001b[1;33m,\u001b[0m\u001b[1;36m30\u001b[0m\u001b[1;33m,\u001b[0m\u001b[1;36m40\u001b[0m\u001b[1;33m,\u001b[0m\u001b[1;36m50\u001b[0m\u001b[1;33m]\u001b[0m\u001b[1;33m,\u001b[0m\u001b[1;33m[\u001b[0m\u001b[1;34m'very low'\u001b[0m\u001b[1;33m,\u001b[0m\u001b[1;34m'low'\u001b[0m\u001b[1;33m,\u001b[0m\u001b[1;34m'moderate'\u001b[0m\u001b[1;33m,\u001b[0m\u001b[1;34m'high'\u001b[0m\u001b[1;33m,\u001b[0m\u001b[1;34m'very high'\u001b[0m\u001b[1;33m]\u001b[0m\u001b[1;33m)\u001b[0m\u001b[1;33m\u001b[0m\u001b[1;33m\u001b[0m\u001b[0m\n\u001b[0;32m      5\u001b[0m \u001b[0mplt\u001b[0m\u001b[1;33m.\u001b[0m\u001b[0mshow\u001b[0m\u001b[1;33m(\u001b[0m\u001b[1;33m)\u001b[0m\u001b[1;33m\u001b[0m\u001b[1;33m\u001b[0m\u001b[0m\n",
      "\u001b[1;31mNameError\u001b[0m: name 'trait_a' is not defined"
     ]
    }
   ],
   "source": [
    "import matplotlib.pyplot as plt\n",
    "\n",
    "plt.scatter(trait_a, trait_b,s=size, alpha=.5, cmap='CMRmap')\n",
    "plt.xticks([10,20,30,40,50],['very low','low','moderate','high','very high'])\n",
    "plt.show()"
   ]
  },
  {
   "cell_type": "code",
   "execution_count": null,
   "id": "f7ae84ff",
   "metadata": {},
   "outputs": [],
   "source": []
  }
 ],
 "metadata": {
  "kernelspec": {
   "display_name": "Python 3 (ipykernel)",
   "language": "python",
   "name": "python3"
  },
  "language_info": {
   "codemirror_mode": {
    "name": "ipython",
    "version": 3
   },
   "file_extension": ".py",
   "mimetype": "text/x-python",
   "name": "python",
   "nbconvert_exporter": "python",
   "pygments_lexer": "ipython3",
   "version": "3.9.13"
  }
 },
 "nbformat": 4,
 "nbformat_minor": 5
}
