{
 "cells": [
  {
   "cell_type": "code",
   "execution_count": 1,
   "id": "91ba5a8b",
   "metadata": {},
   "outputs": [],
   "source": [
    "import pandas as pd\n",
    "import numpy as np"
   ]
  },
  {
   "cell_type": "code",
   "execution_count": 5,
   "id": "3d91f95e",
   "metadata": {},
   "outputs": [
    {
     "name": "stdout",
     "output_type": "stream",
     "text": [
      "Karam ALhanatleh\n",
      "Ali mohammed \n",
      "Khaled saad\n",
      "adem nezar\n",
      "islam sanad\n",
      "kareem hasn\n"
     ]
    }
   ],
   "source": [
    "with open(\"my_file.txt\") as my_file:\n",
    "    text =my_file.read()\n",
    "    print(text)"
   ]
  },
  {
   "cell_type": "code",
   "execution_count": 7,
   "id": "c8761a5a",
   "metadata": {},
   "outputs": [
    {
     "name": "stdout",
     "output_type": "stream",
     "text": [
      "The file is 77 long\n"
     ]
    }
   ],
   "source": [
    "with open(\"my_file.txt\") as my_file:\n",
    "    text = my_file.read()\n",
    "    length = len(text)\n",
    "   \n",
    "\n",
    "print(\"The file is {} long\".format(length))"
   ]
  },
  {
   "cell_type": "code",
   "execution_count": 9,
   "id": "d7fab24f",
   "metadata": {
    "collapsed": true
   },
   "outputs": [
    {
     "ename": "IndentationError",
     "evalue": "expected an indented block (1701343444.py, line 2)",
     "output_type": "error",
     "traceback": [
      "\u001b[1;36m  File \u001b[1;32m\"C:\\Users\\DELL\\AppData\\Local\\Temp\\ipykernel_1452\\1701343444.py\"\u001b[1;36m, line \u001b[1;32m2\u001b[0m\n\u001b[1;33m    \u001b[0m\n\u001b[1;37m    ^\u001b[0m\n\u001b[1;31mIndentationError\u001b[0m\u001b[1;31m:\u001b[0m expected an indented block\n"
     ]
    }
   ],
   "source": [
    "k=0\n",
    "for word in text.split():\n",
    "    if word.lower() in ['Karam']:\n",
    "        n+=1\n",
    "print('Number word \"Karam\" {} times'.format(k))"
   ]
  },
  {
   "cell_type": "code",
   "execution_count": null,
   "id": "e9bc15ad",
   "metadata": {},
   "outputs": [],
   "source": []
  },
  {
   "cell_type": "markdown",
   "id": "bca16af7",
   "metadata": {},
   "source": [
    "## The number of cats\n"
   ]
  },
  {
   "cell_type": "code",
   "execution_count": null,
   "id": "0733cd86",
   "metadata": {},
   "outputs": [],
   "source": [
    "# Open \"alice.txt\" and assign the file to \"file\"\n",
    "with open('alice.txt') as file:\n",
    "  text = file.read()\n",
    "\n",
    "n = 0\n",
    "for word in text.split():\n",
    "  if word.lower() in ['cat', 'cats']:\n",
    "    n += 1\n",
    "\n",
    "print('Lewis Carroll uses the word \"cat\" {} times'.format(n))"
   ]
  }
 ],
 "metadata": {
  "kernelspec": {
   "display_name": "Python 3 (ipykernel)",
   "language": "python",
   "name": "python3"
  },
  "language_info": {
   "codemirror_mode": {
    "name": "ipython",
    "version": 3
   },
   "file_extension": ".py",
   "mimetype": "text/x-python",
   "name": "python",
   "nbconvert_exporter": "python",
   "pygments_lexer": "ipython3",
   "version": "3.9.13"
  }
 },
 "nbformat": 4,
 "nbformat_minor": 5
}
