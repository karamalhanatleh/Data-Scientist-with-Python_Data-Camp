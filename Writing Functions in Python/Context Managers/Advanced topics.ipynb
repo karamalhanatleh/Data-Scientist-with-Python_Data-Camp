{
 "cells": [
  {
   "cell_type": "markdown",
   "id": "2e7e9094",
   "metadata": {},
   "source": [
    "# Advanced topics\n"
   ]
  },
  {
   "cell_type": "code",
   "execution_count": 1,
   "id": "2986ebf1",
   "metadata": {},
   "outputs": [],
   "source": [
    "def copy(src, dst):\n",
    "    \"\"\"Copy the contents of one file to another.\n",
    "    \n",
    "    Args:\n",
    "    src (str): File name of the file to be copied.\n",
    "    dst (str): Where to write the new file.\n",
    "    \"\"\"\n",
    "    \n",
    "    # Open the source file and read in the contents\n",
    "    with open(src) as f_src:\n",
    "        contents = f_src.read()\n",
    "   # Open the destination file and write out the contents\n",
    "\n",
    "    with open(dst,'w') as f_dst:\n",
    "        f_dst.write(contents)"
   ]
  },
  {
   "cell_type": "code",
   "execution_count": null,
   "id": "507d821b",
   "metadata": {},
   "outputs": [],
   "source": []
  },
  {
   "cell_type": "code",
   "execution_count": 2,
   "id": "88ce049d",
   "metadata": {},
   "outputs": [],
   "source": [
    "def copy(src, dst):\n",
    "    \"\"\"Copy the contents of one file to another.\n",
    "    \n",
    "    Args:\n",
    "    src (str): File name of the file to be copied.\n",
    "    dst (str): Where to write the new file.\n",
    "    \"\"\"\n",
    "    \n",
    "    # Open both files\n",
    "    \n",
    "    with open(src) as f_src:\n",
    "        with open(dst,'w') as f_dst:\n",
    "            # Read and write each line, one at a time\n",
    "            for line in f_src:\n",
    "                f_dst.write(line)"
   ]
  },
  {
   "cell_type": "code",
   "execution_count": null,
   "id": "cbb7beba",
   "metadata": {},
   "outputs": [],
   "source": []
  }
 ],
 "metadata": {
  "kernelspec": {
   "display_name": "Python 3 (ipykernel)",
   "language": "python",
   "name": "python3"
  },
  "language_info": {
   "codemirror_mode": {
    "name": "ipython",
    "version": 3
   },
   "file_extension": ".py",
   "mimetype": "text/x-python",
   "name": "python",
   "nbconvert_exporter": "python",
   "pygments_lexer": "ipython3",
   "version": "3.9.13"
  }
 },
 "nbformat": 4,
 "nbformat_minor": 5
}
