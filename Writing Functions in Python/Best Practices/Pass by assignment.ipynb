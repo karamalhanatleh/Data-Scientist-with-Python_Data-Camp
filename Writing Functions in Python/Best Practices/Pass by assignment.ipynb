{
 "cells": [
  {
   "cell_type": "markdown",
   "id": "bb01e4bc",
   "metadata": {},
   "source": [
    "# Pass by assignment\n"
   ]
  },
  {
   "cell_type": "code",
   "execution_count": null,
   "id": "a5df0f86",
   "metadata": {},
   "outputs": [],
   "source": [
    " "
   ]
  },
  {
   "cell_type": "code",
   "execution_count": 2,
   "id": "fd2b3140",
   "metadata": {},
   "outputs": [],
   "source": [
    "def foo(x):\n",
    "    x[0] = 99\n",
    "    \n",
    "\n"
   ]
  },
  {
   "cell_type": "code",
   "execution_count": 3,
   "id": "48651e85",
   "metadata": {},
   "outputs": [
    {
     "name": "stdout",
     "output_type": "stream",
     "text": [
      "[99, 2, 3]\n"
     ]
    }
   ],
   "source": [
    "my_list = [1, 2, 3]\n",
    "foo(my_list)\n",
    "print(my_list)"
   ]
  },
  {
   "cell_type": "code",
   "execution_count": null,
   "id": "f2ef3440",
   "metadata": {},
   "outputs": [],
   "source": []
  },
  {
   "cell_type": "code",
   "execution_count": 4,
   "id": "3585e5c8",
   "metadata": {},
   "outputs": [],
   "source": [
    "def bar(x):\n",
    "    x = x + 90\n"
   ]
  },
  {
   "cell_type": "code",
   "execution_count": 5,
   "id": "10178b20",
   "metadata": {},
   "outputs": [
    {
     "name": "stdout",
     "output_type": "stream",
     "text": [
      "3\n"
     ]
    }
   ],
   "source": [
    "my_var = 3\n",
    "bar(my_var)\n",
    "print(my_var)"
   ]
  },
  {
   "cell_type": "code",
   "execution_count": 6,
   "id": "474d82ff",
   "metadata": {},
   "outputs": [],
   "source": [
    "def foo(x):\n",
    "    x[0] = 99\n"
   ]
  },
  {
   "cell_type": "code",
   "execution_count": 7,
   "id": "c346863c",
   "metadata": {},
   "outputs": [
    {
     "name": "stdout",
     "output_type": "stream",
     "text": [
      "[99, 2, 3]\n"
     ]
    }
   ],
   "source": [
    "my_list = [1, 2, 3]\n",
    "foo(my_list)\n",
    "print(my_list)"
   ]
  },
  {
   "cell_type": "code",
   "execution_count": null,
   "id": "22974a5a",
   "metadata": {},
   "outputs": [],
   "source": []
  }
 ],
 "metadata": {
  "kernelspec": {
   "display_name": "Python 3 (ipykernel)",
   "language": "python",
   "name": "python3"
  },
  "language_info": {
   "codemirror_mode": {
    "name": "ipython",
    "version": 3
   },
   "file_extension": ".py",
   "mimetype": "text/x-python",
   "name": "python",
   "nbconvert_exporter": "python",
   "pygments_lexer": "ipython3",
   "version": "3.9.13"
  }
 },
 "nbformat": 4,
 "nbformat_minor": 5
}
