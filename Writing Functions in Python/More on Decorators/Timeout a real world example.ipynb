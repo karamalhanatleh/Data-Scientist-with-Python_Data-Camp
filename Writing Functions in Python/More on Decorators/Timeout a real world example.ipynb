{
 "cells": [
  {
   "cell_type": "markdown",
   "id": "f505b66b",
   "metadata": {},
   "source": [
    "# Timeout(): a real world example\n"
   ]
  },
  {
   "cell_type": "code",
   "execution_count": 4,
   "id": "845fb10b",
   "metadata": {},
   "outputs": [],
   "source": [
    "\n",
    "\n",
    "def function1():\n",
    "    # This function sometimes\n",
    "    # runs for a looong time \n",
    "    ...\n",
    "\n",
    "def function2():\n",
    "    # This function sometimes\n",
    "    # hangs and doesn't return\n",
    "    ..."
   ]
  },
  {
   "cell_type": "code",
   "execution_count": 5,
   "id": "f1d4d9bd",
   "metadata": {},
   "outputs": [],
   "source": [
    "function1()"
   ]
  },
  {
   "cell_type": "code",
   "execution_count": null,
   "id": "256cf1e8",
   "metadata": {},
   "outputs": [],
   "source": []
  },
  {
   "cell_type": "code",
   "execution_count": null,
   "id": "9a51ffc1",
   "metadata": {},
   "outputs": [],
   "source": []
  }
 ],
 "metadata": {
  "kernelspec": {
   "display_name": "Python 3 (ipykernel)",
   "language": "python",
   "name": "python3"
  },
  "language_info": {
   "codemirror_mode": {
    "name": "ipython",
    "version": 3
   },
   "file_extension": ".py",
   "mimetype": "text/x-python",
   "name": "python",
   "nbconvert_exporter": "python",
   "pygments_lexer": "ipython3",
   "version": "3.9.13"
  }
 },
 "nbformat": 4,
 "nbformat_minor": 5
}
