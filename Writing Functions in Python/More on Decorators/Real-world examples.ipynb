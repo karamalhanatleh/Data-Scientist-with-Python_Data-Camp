{
 "cells": [
  {
   "cell_type": "markdown",
   "id": "c51807ce",
   "metadata": {},
   "source": [
    "# Real-world examples\n"
   ]
  },
  {
   "cell_type": "code",
   "execution_count": 2,
   "id": "994d4b11",
   "metadata": {},
   "outputs": [],
   "source": [
    "import time"
   ]
  },
  {
   "cell_type": "code",
   "execution_count": 3,
   "id": "3ff0ec6a",
   "metadata": {},
   "outputs": [],
   "source": [
    "def timer(func):\n",
    "    \"\"\"A decorator that prints how long a function took to run.\n",
    "    \n",
    "    Args:\n",
    "    func (callable): The function being decorated.\n",
    "    \n",
    "    Returns:\n",
    "    callable: The decorated function.\n",
    "    \"\"\""
   ]
  },
  {
   "cell_type": "code",
   "execution_count": 7,
   "id": "46c9265a",
   "metadata": {},
   "outputs": [],
   "source": [
    "def timer(func):\n",
    "    \"\"\"A decorator that prints how long a function took to run.\"\"\"\n",
    "    # Define the wrapper function to return.\n",
    "    \n",
    "    def wrapper(*args, **kwargs):\n",
    "        # When wrapper() is called, get the current time.\n",
    "        \n",
    "        t_start = time.time()\n",
    "        \n",
    "        # Call the decorated function and store the result.\n",
    "        result = func(*args, **kwargs)\n",
    "        # Get the total time it took to run, and print it.\n",
    "        t_total = time.time() - t_start\n",
    "        print('{} took {}s'.format(func.__name__, t_total))\n",
    "        return result\n",
    "    return wrapper"
   ]
  },
  {
   "cell_type": "code",
   "execution_count": 8,
   "id": "25e0864e",
   "metadata": {},
   "outputs": [],
   "source": [
    "@timer\n",
    "def sleep_n_seconds(n):\n",
    "    time.sleep(n)"
   ]
  },
  {
   "cell_type": "code",
   "execution_count": 9,
   "id": "280553d2",
   "metadata": {},
   "outputs": [
    {
     "name": "stdout",
     "output_type": "stream",
     "text": [
      "sleep_n_seconds took 5.0140275955200195s\n"
     ]
    }
   ],
   "source": [
    "sleep_n_seconds(5)"
   ]
  },
  {
   "cell_type": "code",
   "execution_count": 10,
   "id": "3d0ed7ab",
   "metadata": {},
   "outputs": [],
   "source": [
    "def memoize(func):\n",
    "    \"\"\"Store the results of the decorated function for fast lookup\"\"\"\n",
    "    \n",
    "    # Store results in a dict that maps arguments to results\n",
    "    \n",
    "    cache = {}\n",
    "    # Define the wrapper function to return.\n",
    "    \n",
    "    def wrapper(*args, **kwargs):\n",
    "        # If these arguments haven't been seen before,\n",
    "        if (args, kwargs) not in cache:\n",
    "            # Call func() and store the result.\n",
    "            cache[(args, kwargs)] = func(*args, **kwargs)\n",
    "            return cache[(args, kwargs)]\n",
    "        return wrapper"
   ]
  },
  {
   "cell_type": "code",
   "execution_count": null,
   "id": "c4095012",
   "metadata": {},
   "outputs": [],
   "source": []
  }
 ],
 "metadata": {
  "kernelspec": {
   "display_name": "Python 3 (ipykernel)",
   "language": "python",
   "name": "python3"
  },
  "language_info": {
   "codemirror_mode": {
    "name": "ipython",
    "version": 3
   },
   "file_extension": ".py",
   "mimetype": "text/x-python",
   "name": "python",
   "nbconvert_exporter": "python",
   "pygments_lexer": "ipython3",
   "version": "3.9.13"
  }
 },
 "nbformat": 4,
 "nbformat_minor": 5
}
