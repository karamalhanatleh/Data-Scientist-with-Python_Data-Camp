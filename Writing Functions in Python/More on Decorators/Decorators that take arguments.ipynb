{
 "cells": [
  {
   "cell_type": "markdown",
   "id": "c7b50af1",
   "metadata": {},
   "source": [
    "# Decorators that take arguments\n"
   ]
  },
  {
   "cell_type": "code",
   "execution_count": 2,
   "id": "04674ea0",
   "metadata": {},
   "outputs": [
    {
     "name": "stdout",
     "output_type": "stream",
     "text": [
      "8\n",
      "8\n",
      "8\n"
     ]
    }
   ],
   "source": [
    "def run_three_times(func):\n",
    "    def wrapper(*args, **kwargs):\n",
    "        for i in range(3):\n",
    "            func(*args, **kwargs)\n",
    "    return wrapper\n",
    "\n",
    "@run_three_times\n",
    "def print_sum(a, b):\n",
    "    print(a + b)\n",
    "print_sum(3, 5)"
   ]
  },
  {
   "cell_type": "code",
   "execution_count": null,
   "id": "ba513fd0",
   "metadata": {},
   "outputs": [],
   "source": []
  }
 ],
 "metadata": {
  "kernelspec": {
   "display_name": "Python 3 (ipykernel)",
   "language": "python",
   "name": "python3"
  },
  "language_info": {
   "codemirror_mode": {
    "name": "ipython",
    "version": 3
   },
   "file_extension": ".py",
   "mimetype": "text/x-python",
   "name": "python",
   "nbconvert_exporter": "python",
   "pygments_lexer": "ipython3",
   "version": "3.9.13"
  }
 },
 "nbformat": 4,
 "nbformat_minor": 5
}
