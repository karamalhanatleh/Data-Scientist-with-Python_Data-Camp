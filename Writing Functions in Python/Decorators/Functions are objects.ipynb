{
 "cells": [
  {
   "cell_type": "markdown",
   "id": "4a155f74",
   "metadata": {},
   "source": [
    "# Functions are objects\n"
   ]
  },
  {
   "cell_type": "code",
   "execution_count": 1,
   "id": "7e3751d1",
   "metadata": {},
   "outputs": [],
   "source": [
    "def x():\n",
    "    pass"
   ]
  },
  {
   "cell_type": "code",
   "execution_count": 4,
   "id": "79b39603",
   "metadata": {},
   "outputs": [
    {
     "data": {
      "text/plain": [
       "[1, 2, 3]"
      ]
     },
     "execution_count": 4,
     "metadata": {},
     "output_type": "execute_result"
    }
   ],
   "source": [
    "x=[1,2,3]\n",
    "x"
   ]
  },
  {
   "cell_type": "code",
   "execution_count": 6,
   "id": "f3433c1e",
   "metadata": {},
   "outputs": [
    {
     "data": {
      "text/plain": [
       "{'foo': 42}"
      ]
     },
     "execution_count": 6,
     "metadata": {},
     "output_type": "execute_result"
    }
   ],
   "source": [
    "x={'foo':42}\n",
    "x"
   ]
  },
  {
   "cell_type": "code",
   "execution_count": 8,
   "id": "1a2fb1da",
   "metadata": {},
   "outputs": [
    {
     "data": {
      "text/plain": [
       "<function __main__.my_function()>"
      ]
     },
     "execution_count": 8,
     "metadata": {},
     "output_type": "execute_result"
    }
   ],
   "source": [
    "def my_function():\n",
    "    print(\"Hello\")\n",
    "x=my_function\n",
    "x"
   ]
  },
  {
   "cell_type": "code",
   "execution_count": 9,
   "id": "9f93a833",
   "metadata": {},
   "outputs": [
    {
     "data": {
      "text/plain": [
       "function"
      ]
     },
     "execution_count": 9,
     "metadata": {},
     "output_type": "execute_result"
    }
   ],
   "source": [
    "type(x)"
   ]
  },
  {
   "cell_type": "code",
   "execution_count": 10,
   "id": "eaa82b15",
   "metadata": {},
   "outputs": [
    {
     "name": "stdout",
     "output_type": "stream",
     "text": [
      "Hello\n"
     ]
    }
   ],
   "source": [
    "x()"
   ]
  },
  {
   "cell_type": "code",
   "execution_count": 11,
   "id": "f8f7c655",
   "metadata": {},
   "outputs": [],
   "source": [
    "P =print"
   ]
  },
  {
   "cell_type": "code",
   "execution_count": 12,
   "id": "1596e4fb",
   "metadata": {},
   "outputs": [
    {
     "name": "stdout",
     "output_type": "stream",
     "text": [
      "Karam\n"
     ]
    }
   ],
   "source": [
    "P(\"Karam\")"
   ]
  },
  {
   "cell_type": "code",
   "execution_count": 13,
   "id": "24f371e4",
   "metadata": {},
   "outputs": [
    {
     "name": "stdout",
     "output_type": "stream",
     "text": [
      "11\n"
     ]
    }
   ],
   "source": [
    "P(3+8)"
   ]
  },
  {
   "cell_type": "code",
   "execution_count": 14,
   "id": "3ce81035",
   "metadata": {},
   "outputs": [],
   "source": [
    "list_of_function = [my_function ,open ,print]\n"
   ]
  },
  {
   "cell_type": "code",
   "execution_count": 15,
   "id": "f208d825",
   "metadata": {},
   "outputs": [
    {
     "name": "stdout",
     "output_type": "stream",
     "text": [
      "I am print element\n"
     ]
    }
   ],
   "source": [
    "list_of_function[2](\"I am print element\")"
   ]
  },
  {
   "cell_type": "code",
   "execution_count": 16,
   "id": "f2b563a1",
   "metadata": {},
   "outputs": [],
   "source": [
    "dict_of_function={\n",
    "    \n",
    "    \"func1\": my_function,\n",
    "    \"func2\": open , \n",
    "    \"func3\": print\n",
    "}"
   ]
  },
  {
   "cell_type": "code",
   "execution_count": 17,
   "id": "98291af2",
   "metadata": {},
   "outputs": [
    {
     "name": "stdout",
     "output_type": "stream",
     "text": [
      "Karam ALhanatleh !!!!\n"
     ]
    }
   ],
   "source": [
    "dict_of_function['func3'](\"Karam ALhanatleh !!!!\")"
   ]
  },
  {
   "cell_type": "code",
   "execution_count": null,
   "id": "9c95f2ea",
   "metadata": {},
   "outputs": [],
   "source": []
  },
  {
   "cell_type": "code",
   "execution_count": 18,
   "id": "0230b09d",
   "metadata": {},
   "outputs": [],
   "source": [
    "def my_function():\n",
    "    return 42"
   ]
  },
  {
   "cell_type": "code",
   "execution_count": 19,
   "id": "25bba92e",
   "metadata": {},
   "outputs": [],
   "source": [
    "x = my_function"
   ]
  },
  {
   "cell_type": "code",
   "execution_count": 23,
   "id": "18aed8ce",
   "metadata": {},
   "outputs": [
    {
     "data": {
      "text/plain": [
       "42"
      ]
     },
     "execution_count": 23,
     "metadata": {},
     "output_type": "execute_result"
    }
   ],
   "source": [
    "my_function()"
   ]
  },
  {
   "cell_type": "code",
   "execution_count": 24,
   "id": "d1f14364",
   "metadata": {},
   "outputs": [
    {
     "data": {
      "text/plain": [
       "42"
      ]
     },
     "execution_count": 24,
     "metadata": {},
     "output_type": "execute_result"
    }
   ],
   "source": [
    "x()"
   ]
  },
  {
   "cell_type": "code",
   "execution_count": null,
   "id": "8f4aa1ad",
   "metadata": {},
   "outputs": [],
   "source": []
  }
 ],
 "metadata": {
  "kernelspec": {
   "display_name": "Python 3 (ipykernel)",
   "language": "python",
   "name": "python3"
  },
  "language_info": {
   "codemirror_mode": {
    "name": "ipython",
    "version": 3
   },
   "file_extension": ".py",
   "mimetype": "text/x-python",
   "name": "python",
   "nbconvert_exporter": "python",
   "pygments_lexer": "ipython3",
   "version": "3.9.13"
  }
 },
 "nbformat": 4,
 "nbformat_minor": 5
}
