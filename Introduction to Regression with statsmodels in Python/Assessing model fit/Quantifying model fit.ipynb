{
 "cells": [
  {
   "cell_type": "markdown",
   "id": "967477a2",
   "metadata": {},
   "source": [
    "# Quantifying model fit\n"
   ]
  },
  {
   "cell_type": "code",
   "execution_count": 18,
   "id": "e2a25897",
   "metadata": {},
   "outputs": [],
   "source": [
    "# Import seaborn with alias sns\n",
    "import seaborn as sns\n",
    "# Import matplotlib.pyplot with alias plt\n",
    "import matplotlib.pyplot as plt\n",
    "#import pandas \n",
    "import pandas as pd\n",
    "# import statsmodels\n",
    "from statsmodels.formula.api import ols\n",
    "#import numpy as np\n",
    "import numpy as np"
   ]
  },
  {
   "cell_type": "code",
   "execution_count": 2,
   "id": "dd468a46",
   "metadata": {},
   "outputs": [],
   "source": [
    "\n",
    "# Importing the course arrays\n",
    "conversion = pd.read_csv(\"../datasets/ad_conversion.csv\")\n",
    "churn = pd.read_csv(\"../datasets/churn.csv\")\n",
    "fish = pd.read_csv(\"../datasets/fish.csv\")\n",
    "sp500 = pd.read_csv(\"../datasets/sp500_yearly_returns.csv\")\n",
    "taiwan = pd.read_csv(\"../datasets/taiwan_real_estate2.csv\")\n",
    "taiwan_real_estate= taiwan"
   ]
  },
  {
   "cell_type": "code",
   "execution_count": 5,
   "id": "248a8da1",
   "metadata": {},
   "outputs": [
    {
     "data": {
      "text/html": [
       "<div>\n",
       "<style scoped>\n",
       "    .dataframe tbody tr th:only-of-type {\n",
       "        vertical-align: middle;\n",
       "    }\n",
       "\n",
       "    .dataframe tbody tr th {\n",
       "        vertical-align: top;\n",
       "    }\n",
       "\n",
       "    .dataframe thead th {\n",
       "        text-align: right;\n",
       "    }\n",
       "</style>\n",
       "<table border=\"1\" class=\"dataframe\">\n",
       "  <thead>\n",
       "    <tr style=\"text-align: right;\">\n",
       "      <th></th>\n",
       "      <th>species</th>\n",
       "      <th>mass_g</th>\n",
       "      <th>length_cm</th>\n",
       "    </tr>\n",
       "  </thead>\n",
       "  <tbody>\n",
       "    <tr>\n",
       "      <th>0</th>\n",
       "      <td>Bream</td>\n",
       "      <td>242.0</td>\n",
       "      <td>23.2</td>\n",
       "    </tr>\n",
       "    <tr>\n",
       "      <th>1</th>\n",
       "      <td>Bream</td>\n",
       "      <td>290.0</td>\n",
       "      <td>24.0</td>\n",
       "    </tr>\n",
       "    <tr>\n",
       "      <th>2</th>\n",
       "      <td>Bream</td>\n",
       "      <td>340.0</td>\n",
       "      <td>23.9</td>\n",
       "    </tr>\n",
       "    <tr>\n",
       "      <th>3</th>\n",
       "      <td>Bream</td>\n",
       "      <td>363.0</td>\n",
       "      <td>26.3</td>\n",
       "    </tr>\n",
       "    <tr>\n",
       "      <th>4</th>\n",
       "      <td>Bream</td>\n",
       "      <td>430.0</td>\n",
       "      <td>26.5</td>\n",
       "    </tr>\n",
       "  </tbody>\n",
       "</table>\n",
       "</div>"
      ],
      "text/plain": [
       "  species  mass_g  length_cm\n",
       "0   Bream   242.0       23.2\n",
       "1   Bream   290.0       24.0\n",
       "2   Bream   340.0       23.9\n",
       "3   Bream   363.0       26.3\n",
       "4   Bream   430.0       26.5"
      ]
     },
     "execution_count": 5,
     "metadata": {},
     "output_type": "execute_result"
    }
   ],
   "source": [
    "fish.head()"
   ]
  },
  {
   "cell_type": "code",
   "execution_count": 6,
   "id": "49a8dd9a",
   "metadata": {},
   "outputs": [
    {
     "name": "stdout",
     "output_type": "stream",
     "text": [
      "  species  mass_g  length_cm\n",
      "0   Bream   242.0       23.2\n",
      "1   Bream   290.0       24.0\n",
      "2   Bream   340.0       23.9\n",
      "3   Bream   363.0       26.3\n",
      "4   Bream   430.0       26.5\n"
     ]
    }
   ],
   "source": [
    "bream = fish[fish[\"species\"] == \"Bream\"]\n",
    "print(bream.head())"
   ]
  },
  {
   "cell_type": "code",
   "execution_count": 7,
   "id": "c87f60e5",
   "metadata": {},
   "outputs": [],
   "source": [
    "mdl_bream = ols(\"mass_g ~ length_cm\", data=bream).fit()"
   ]
  },
  {
   "cell_type": "code",
   "execution_count": 10,
   "id": "8ee9ea1f",
   "metadata": {},
   "outputs": [
    {
     "data": {
      "text/html": [
       "<table class=\"simpletable\">\n",
       "<caption>OLS Regression Results</caption>\n",
       "<tr>\n",
       "  <th>Dep. Variable:</th>         <td>mass_g</td>      <th>  R-squared:         </th> <td>   0.878</td>\n",
       "</tr>\n",
       "<tr>\n",
       "  <th>Model:</th>                   <td>OLS</td>       <th>  Adj. R-squared:    </th> <td>   0.874</td>\n",
       "</tr>\n",
       "<tr>\n",
       "  <th>Method:</th>             <td>Least Squares</td>  <th>  F-statistic:       </th> <td>   237.6</td>\n",
       "</tr>\n",
       "<tr>\n",
       "  <th>Date:</th>             <td>Thu, 26 Jan 2023</td> <th>  Prob (F-statistic):</th> <td>1.22e-16</td>\n",
       "</tr>\n",
       "<tr>\n",
       "  <th>Time:</th>                 <td>10:46:37</td>     <th>  Log-Likelihood:    </th> <td> -199.35</td>\n",
       "</tr>\n",
       "<tr>\n",
       "  <th>No. Observations:</th>      <td>    35</td>      <th>  AIC:               </th> <td>   402.7</td>\n",
       "</tr>\n",
       "<tr>\n",
       "  <th>Df Residuals:</th>          <td>    33</td>      <th>  BIC:               </th> <td>   405.8</td>\n",
       "</tr>\n",
       "<tr>\n",
       "  <th>Df Model:</th>              <td>     1</td>      <th>                     </th>     <td> </td>   \n",
       "</tr>\n",
       "<tr>\n",
       "  <th>Covariance Type:</th>      <td>nonrobust</td>    <th>                     </th>     <td> </td>   \n",
       "</tr>\n",
       "</table>\n",
       "<table class=\"simpletable\">\n",
       "<tr>\n",
       "      <td></td>         <th>coef</th>     <th>std err</th>      <th>t</th>      <th>P>|t|</th>  <th>[0.025</th>    <th>0.975]</th>  \n",
       "</tr>\n",
       "<tr>\n",
       "  <th>Intercept</th> <td>-1035.3476</td> <td>  107.973</td> <td>   -9.589</td> <td> 0.000</td> <td>-1255.020</td> <td> -815.676</td>\n",
       "</tr>\n",
       "<tr>\n",
       "  <th>length_cm</th> <td>   54.5500</td> <td>    3.539</td> <td>   15.415</td> <td> 0.000</td> <td>   47.350</td> <td>   61.750</td>\n",
       "</tr>\n",
       "</table>\n",
       "<table class=\"simpletable\">\n",
       "<tr>\n",
       "  <th>Omnibus:</th>       <td> 7.314</td> <th>  Durbin-Watson:     </th> <td>   1.478</td>\n",
       "</tr>\n",
       "<tr>\n",
       "  <th>Prob(Omnibus):</th> <td> 0.026</td> <th>  Jarque-Bera (JB):  </th> <td>  10.857</td>\n",
       "</tr>\n",
       "<tr>\n",
       "  <th>Skew:</th>          <td>-0.252</td> <th>  Prob(JB):          </th> <td> 0.00439</td>\n",
       "</tr>\n",
       "<tr>\n",
       "  <th>Kurtosis:</th>      <td> 5.682</td> <th>  Cond. No.          </th> <td>    263.</td>\n",
       "</tr>\n",
       "</table><br/><br/>Notes:<br/>[1] Standard Errors assume that the covariance matrix of the errors is correctly specified."
      ],
      "text/plain": [
       "<class 'statsmodels.iolib.summary.Summary'>\n",
       "\"\"\"\n",
       "                            OLS Regression Results                            \n",
       "==============================================================================\n",
       "Dep. Variable:                 mass_g   R-squared:                       0.878\n",
       "Model:                            OLS   Adj. R-squared:                  0.874\n",
       "Method:                 Least Squares   F-statistic:                     237.6\n",
       "Date:                Thu, 26 Jan 2023   Prob (F-statistic):           1.22e-16\n",
       "Time:                        10:46:37   Log-Likelihood:                -199.35\n",
       "No. Observations:                  35   AIC:                             402.7\n",
       "Df Residuals:                      33   BIC:                             405.8\n",
       "Df Model:                           1                                         \n",
       "Covariance Type:            nonrobust                                         \n",
       "==============================================================================\n",
       "                 coef    std err          t      P>|t|      [0.025      0.975]\n",
       "------------------------------------------------------------------------------\n",
       "Intercept  -1035.3476    107.973     -9.589      0.000   -1255.020    -815.676\n",
       "length_cm     54.5500      3.539     15.415      0.000      47.350      61.750\n",
       "==============================================================================\n",
       "Omnibus:                        7.314   Durbin-Watson:                   1.478\n",
       "Prob(Omnibus):                  0.026   Jarque-Bera (JB):               10.857\n",
       "Skew:                          -0.252   Prob(JB):                      0.00439\n",
       "Kurtosis:                       5.682   Cond. No.                         263.\n",
       "==============================================================================\n",
       "\n",
       "Notes:\n",
       "[1] Standard Errors assume that the covariance matrix of the errors is correctly specified.\n",
       "\"\"\""
      ]
     },
     "execution_count": 10,
     "metadata": {},
     "output_type": "execute_result"
    }
   ],
   "source": [
    "mdl_bream.summary()"
   ]
  },
  {
   "cell_type": "code",
   "execution_count": null,
   "id": "1a82d55c",
   "metadata": {},
   "outputs": [],
   "source": []
  },
  {
   "cell_type": "code",
   "execution_count": 12,
   "id": "a15b7f84",
   "metadata": {},
   "outputs": [
    {
     "name": "stdout",
     "output_type": "stream",
     "text": [
      "0.8780627095147174\n"
     ]
    }
   ],
   "source": [
    "print(mdl_bream.rsquared)"
   ]
  },
  {
   "cell_type": "code",
   "execution_count": 13,
   "id": "abae87a6",
   "metadata": {},
   "outputs": [
    {
     "name": "stdout",
     "output_type": "stream",
     "text": [
      "0.8780627095147171\n"
     ]
    }
   ],
   "source": [
    "coeff_determination = bream[\"length_cm\"].corr(bream[\"mass_g\"]) ** 2\n",
    "print(coeff_determination)"
   ]
  },
  {
   "cell_type": "code",
   "execution_count": 15,
   "id": "9bbfa353",
   "metadata": {},
   "outputs": [
    {
     "data": {
      "text/plain": [
       "0.8780627095147171"
      ]
     },
     "execution_count": 15,
     "metadata": {},
     "output_type": "execute_result"
    }
   ],
   "source": [
    "bream['length_cm'].corr(bream['mass_g'])**2"
   ]
  },
  {
   "cell_type": "code",
   "execution_count": 16,
   "id": "a52dba06",
   "metadata": {},
   "outputs": [
    {
     "data": {
      "text/plain": [
       "5498.555084973521"
      ]
     },
     "execution_count": 16,
     "metadata": {},
     "output_type": "execute_result"
    }
   ],
   "source": [
    "mse=mdl_bream.mse_resid\n",
    "mse"
   ]
  },
  {
   "cell_type": "code",
   "execution_count": 20,
   "id": "49ead1c3",
   "metadata": {},
   "outputs": [
    {
     "data": {
      "text/plain": [
       "74.15224261594197"
      ]
     },
     "execution_count": 20,
     "metadata": {},
     "output_type": "execute_result"
    }
   ],
   "source": [
    "rse = np.sqrt(mse)\n",
    "rse"
   ]
  },
  {
   "cell_type": "code",
   "execution_count": null,
   "id": "1f7438d9",
   "metadata": {},
   "outputs": [],
   "source": []
  },
  {
   "cell_type": "code",
   "execution_count": 21,
   "id": "181d5979",
   "metadata": {},
   "outputs": [],
   "source": [
    "residuals_sq = mdl_bream.resid ** 2"
   ]
  },
  {
   "cell_type": "code",
   "execution_count": 22,
   "id": "a9605d14",
   "metadata": {},
   "outputs": [
    {
     "name": "stdout",
     "output_type": "stream",
     "text": [
      "residuals sq: \n",
      " 0       138.957118\n",
      "1       260.758635\n",
      "2      5126.992578\n",
      "3      1318.919660\n",
      "4       390.974309\n",
      "5       547.938023\n",
      "6      5388.745625\n",
      "7      6437.159178\n",
      "8       409.330131\n",
      "9       373.528738\n",
      "10     1511.024102\n",
      "11      914.269381\n",
      "12     2709.918769\n",
      "13    54698.391492\n",
      "14      997.178016\n",
      "15      997.178016\n",
      "16     5933.335069\n",
      "17     5933.335069\n",
      "18     1619.808598\n",
      "19       32.511024\n",
      "20     9421.971076\n",
      "21       55.922933\n",
      "22     3966.081668\n",
      "23      374.106336\n",
      "24       23.009547\n",
      "25      658.341757\n",
      "26       95.026919\n",
      "27     1185.893986\n",
      "28     9236.784264\n",
      "29    43232.058660\n",
      "30     2125.047026\n",
      "31     6576.923291\n",
      "32      206.259713\n",
      "33      889.335096\n",
      "34     7665.302003\n",
      "dtype: float64\n"
     ]
    }
   ],
   "source": [
    "print(\"residuals sq: \\n\", residuals_sq)"
   ]
  },
  {
   "cell_type": "code",
   "execution_count": null,
   "id": "94641797",
   "metadata": {},
   "outputs": [],
   "source": []
  }
 ],
 "metadata": {
  "kernelspec": {
   "display_name": "Python 3 (ipykernel)",
   "language": "python",
   "name": "python3"
  },
  "language_info": {
   "codemirror_mode": {
    "name": "ipython",
    "version": 3
   },
   "file_extension": ".py",
   "mimetype": "text/x-python",
   "name": "python",
   "nbconvert_exporter": "python",
   "pygments_lexer": "ipython3",
   "version": "3.9.13"
  }
 },
 "nbformat": 4,
 "nbformat_minor": 5
}
