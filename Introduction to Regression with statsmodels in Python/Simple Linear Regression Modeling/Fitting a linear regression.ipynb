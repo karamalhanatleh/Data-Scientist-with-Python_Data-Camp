{
 "cells": [
  {
   "cell_type": "markdown",
   "id": "6c93a557",
   "metadata": {},
   "source": [
    "# Fitting a linear regression\n"
   ]
  },
  {
   "cell_type": "code",
   "execution_count": 2,
   "id": "5bc4a876",
   "metadata": {},
   "outputs": [],
   "source": [
    "# Import seaborn with alias sns\n",
    "import seaborn as sns\n",
    "\n",
    "# Import matplotlib.pyplot with alias plt\n",
    "import matplotlib.pyplot as plt\n",
    "\n",
    "#import pandas \n",
    "import pandas as pd\n",
    "\n",
    "# import statsmodels\n",
    "from statsmodels.formula.api import ols"
   ]
  },
  {
   "cell_type": "code",
   "execution_count": null,
   "id": "d24926a2",
   "metadata": {},
   "outputs": [],
   "source": []
  },
  {
   "cell_type": "code",
   "execution_count": 4,
   "id": "8145c108",
   "metadata": {},
   "outputs": [],
   "source": [
    "\n",
    "# Importing the course arrays\n",
    "conversion = pd.read_csv(\"../datasets/ad_conversion.csv\")\n",
    "churn = pd.read_csv(\"../datasets/churn.csv\")\n",
    "fish = pd.read_csv(\"../datasets/fish.csv\")\n",
    "sp500 = pd.read_csv(\"../datasets/sp500_yearly_returns.csv\")\n",
    "taiwan = pd.read_csv(\"../datasets/taiwan_real_estate2.csv\")\n",
    "taiwan_real_estate= taiwan"
   ]
  },
  {
   "cell_type": "code",
   "execution_count": null,
   "id": "e28730b1",
   "metadata": {},
   "outputs": [],
   "source": []
  },
  {
   "cell_type": "code",
   "execution_count": 8,
   "id": "58314372",
   "metadata": {},
   "outputs": [
    {
     "name": "stdout",
     "output_type": "stream",
     "text": [
      "Intercept        8.224237\n",
      "n_convenience    0.798080\n",
      "dtype: float64\n"
     ]
    }
   ],
   "source": [
    "# Import the ols function\n",
    "from statsmodels.formula.api import ols\n",
    "\n",
    "# Create the model object\n",
    "mdl_price_vs_conv = ols(\"price_twd_msq ~ n_convenience\", data=taiwan_real_estate)\n",
    "\n",
    "# Fit the model\n",
    "mdl_price_vs_conv = mdl_price_vs_conv.fit()\n",
    "\n",
    "# Print the parameters of the fitted model\n",
    "print(mdl_price_vs_conv.params)"
   ]
  },
  {
   "cell_type": "code",
   "execution_count": null,
   "id": "e17cccb1",
   "metadata": {},
   "outputs": [],
   "source": []
  }
 ],
 "metadata": {
  "kernelspec": {
   "display_name": "Python 3 (ipykernel)",
   "language": "python",
   "name": "python3"
  },
  "language_info": {
   "codemirror_mode": {
    "name": "ipython",
    "version": 3
   },
   "file_extension": ".py",
   "mimetype": "text/x-python",
   "name": "python",
   "nbconvert_exporter": "python",
   "pygments_lexer": "ipython3",
   "version": "3.9.13"
  }
 },
 "nbformat": 4,
 "nbformat_minor": 5
}
