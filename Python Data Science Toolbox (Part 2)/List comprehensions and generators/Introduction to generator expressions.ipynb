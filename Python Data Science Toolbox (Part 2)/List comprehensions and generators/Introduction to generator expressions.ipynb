{
 "cells": [
  {
   "cell_type": "markdown",
   "id": "9e7f4698",
   "metadata": {},
   "source": [
    "# Introduction to generator expressions\n"
   ]
  },
  {
   "cell_type": "code",
   "execution_count": 2,
   "id": "6fd82ec7",
   "metadata": {},
   "outputs": [
    {
     "data": {
      "text/plain": [
       "[0, 2, 4, 6, 8, 10, 12, 14, 16, 18]"
      ]
     },
     "execution_count": 2,
     "metadata": {},
     "output_type": "execute_result"
    }
   ],
   "source": [
    "[2 * num for num in range(10)]\n"
   ]
  },
  {
   "cell_type": "code",
   "execution_count": null,
   "id": "7fca2619",
   "metadata": {},
   "outputs": [],
   "source": []
  },
  {
   "cell_type": "code",
   "execution_count": 3,
   "id": "2091e356",
   "metadata": {},
   "outputs": [
    {
     "data": {
      "text/plain": [
       "<generator object <genexpr> at 0x000002D503DE5740>"
      ]
     },
     "execution_count": 3,
     "metadata": {},
     "output_type": "execute_result"
    }
   ],
   "source": [
    "(2 * num for num in range(10))\n"
   ]
  },
  {
   "cell_type": "code",
   "execution_count": 4,
   "id": "be91cf3f",
   "metadata": {},
   "outputs": [
    {
     "name": "stdout",
     "output_type": "stream",
     "text": [
      "0\n",
      "1\n",
      "2\n",
      "3\n",
      "4\n",
      "5\n"
     ]
    }
   ],
   "source": [
    "result = (num for num in range(6))\n",
    "for num in result:\n",
    "    print(num)\n"
   ]
  },
  {
   "cell_type": "code",
   "execution_count": 5,
   "id": "c3a2e0f1",
   "metadata": {},
   "outputs": [
    {
     "name": "stdout",
     "output_type": "stream",
     "text": [
      "[0, 1, 2, 3, 4, 5]\n"
     ]
    }
   ],
   "source": [
    "result = (num for num in range(6))\n",
    "print(list(result))"
   ]
  },
  {
   "cell_type": "code",
   "execution_count": 6,
   "id": "c1fe1f54",
   "metadata": {},
   "outputs": [],
   "source": [
    "result = (num for num in range(6))\n"
   ]
  },
  {
   "cell_type": "code",
   "execution_count": 7,
   "id": "856726f8",
   "metadata": {},
   "outputs": [
    {
     "name": "stdout",
     "output_type": "stream",
     "text": [
      "0\n"
     ]
    }
   ],
   "source": [
    "print(next(result))\n"
   ]
  },
  {
   "cell_type": "code",
   "execution_count": 8,
   "id": "3c40fd39",
   "metadata": {},
   "outputs": [
    {
     "name": "stdout",
     "output_type": "stream",
     "text": [
      "1\n"
     ]
    }
   ],
   "source": [
    "print(next(result))\n"
   ]
  },
  {
   "cell_type": "code",
   "execution_count": 9,
   "id": "c455ba21",
   "metadata": {},
   "outputs": [
    {
     "name": "stdout",
     "output_type": "stream",
     "text": [
      "2\n"
     ]
    }
   ],
   "source": [
    "print(next(result))\n"
   ]
  },
  {
   "cell_type": "code",
   "execution_count": 10,
   "id": "c6dcac4c",
   "metadata": {},
   "outputs": [
    {
     "name": "stdout",
     "output_type": "stream",
     "text": [
      "3\n",
      "4\n"
     ]
    }
   ],
   "source": [
    "print(next(result))\n",
    "print(next(result))\n"
   ]
  },
  {
   "cell_type": "code",
   "execution_count": 11,
   "id": "ce315d75",
   "metadata": {},
   "outputs": [
    {
     "name": "stdout",
     "output_type": "stream",
     "text": [
      "[0, 2, 4, 6, 8]\n"
     ]
    }
   ],
   "source": [
    "even_nums = (num for num in range(10) if num % 2 == 0)\n",
    "print(list(even_nums))"
   ]
  },
  {
   "cell_type": "code",
   "execution_count": 13,
   "id": "2bb9a932",
   "metadata": {},
   "outputs": [],
   "source": [
    "def num_sequence(n):\n",
    "    \"\"\"Generate values from 0 to n.\"\"\"\n",
    "    i = 0\n",
    "    while i < n:\n",
    "        yield i\n",
    "        i += 1"
   ]
  },
  {
   "cell_type": "code",
   "execution_count": 14,
   "id": "2221213e",
   "metadata": {},
   "outputs": [
    {
     "data": {
      "text/plain": [
       "<generator object num_sequence at 0x000002D503E972E0>"
      ]
     },
     "execution_count": 14,
     "metadata": {},
     "output_type": "execute_result"
    }
   ],
   "source": [
    "num_sequence(5)"
   ]
  },
  {
   "cell_type": "code",
   "execution_count": 15,
   "id": "f0b8434e",
   "metadata": {},
   "outputs": [
    {
     "data": {
      "text/plain": [
       "[0, 1, 2, 3, 4]"
      ]
     },
     "execution_count": 15,
     "metadata": {},
     "output_type": "execute_result"
    }
   ],
   "source": [
    "list(num_sequence(5))"
   ]
  },
  {
   "cell_type": "code",
   "execution_count": null,
   "id": "0b59df78",
   "metadata": {},
   "outputs": [],
   "source": []
  },
  {
   "cell_type": "markdown",
   "id": "748d2eaa",
   "metadata": {},
   "source": [
    "# Karam_ALhanatleh\n"
   ]
  },
  {
   "cell_type": "markdown",
   "id": "485d7f86",
   "metadata": {},
   "source": [
    "# Karam ALhanatleh"
   ]
  },
  {
   "cell_type": "code",
   "execution_count": null,
   "id": "d5994fca",
   "metadata": {},
   "outputs": [],
   "source": []
  }
 ],
 "metadata": {
  "kernelspec": {
   "display_name": "Python 3 (ipykernel)",
   "language": "python",
   "name": "python3"
  },
  "language_info": {
   "codemirror_mode": {
    "name": "ipython",
    "version": 3
   },
   "file_extension": ".py",
   "mimetype": "text/x-python",
   "name": "python",
   "nbconvert_exporter": "python",
   "pygments_lexer": "ipython3",
   "version": "3.9.13"
  }
 },
 "nbformat": 4,
 "nbformat_minor": 5
}
