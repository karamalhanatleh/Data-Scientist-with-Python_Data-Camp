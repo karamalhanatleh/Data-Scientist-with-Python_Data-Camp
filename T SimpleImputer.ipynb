{
 "cells": [
  {
   "cell_type": "markdown",
   "id": "9171dc9d",
   "metadata": {},
   "source": [
    "# SimpleImputer  "
   ]
  },
  {
   "cell_type": "code",
   "execution_count": 2,
   "id": "e305c769",
   "metadata": {},
   "outputs": [],
   "source": [
    "import numpy as np"
   ]
  },
  {
   "cell_type": "code",
   "execution_count": 3,
   "id": "8a1b1822",
   "metadata": {},
   "outputs": [],
   "source": [
    "from sklearn.impute import SimpleImputer"
   ]
  },
  {
   "cell_type": "code",
   "execution_count": null,
   "id": "243e0d78",
   "metadata": {},
   "outputs": [],
   "source": []
  },
  {
   "cell_type": "code",
   "execution_count": 5,
   "id": "ccc0d5e9",
   "metadata": {},
   "outputs": [],
   "source": [
    "imp_mean = SimpleImputer(missing_values=np.nan, strategy='mean')"
   ]
  },
  {
   "cell_type": "code",
   "execution_count": 6,
   "id": "1fcf00df",
   "metadata": {},
   "outputs": [
    {
     "data": {
      "text/plain": [
       "SimpleImputer()"
      ]
     },
     "execution_count": 6,
     "metadata": {},
     "output_type": "execute_result"
    }
   ],
   "source": [
    "imp_mean.fit([[7, 2, 3], [4, np.nan, 6], [10, 5, 9]])\n"
   ]
  },
  {
   "cell_type": "code",
   "execution_count": 7,
   "id": "e92276ca",
   "metadata": {},
   "outputs": [
    {
     "name": "stdout",
     "output_type": "stream",
     "text": [
      "[[ 7.   2.   3. ]\n",
      " [ 4.   3.5  6. ]\n",
      " [10.   3.5  9. ]]\n"
     ]
    }
   ],
   "source": [
    "X = [[np.nan, 2, 3], [4, np.nan, 6], [10, np.nan, 9]]\n",
    "print(imp_mean.transform(X))\n"
   ]
  },
  {
   "cell_type": "code",
   "execution_count": null,
   "id": "35af71e2",
   "metadata": {},
   "outputs": [],
   "source": []
  },
  {
   "cell_type": "code",
   "execution_count": 8,
   "id": "ad91421b",
   "metadata": {},
   "outputs": [],
   "source": [
    "#################################"
   ]
  },
  {
   "cell_type": "code",
   "execution_count": 9,
   "id": "7cee4a2e",
   "metadata": {},
   "outputs": [],
   "source": [
    "from sklearn.impute import SimpleImputer\n",
    "import numpy as np\n"
   ]
  },
  {
   "cell_type": "code",
   "execution_count": null,
   "id": "df193f4c",
   "metadata": {},
   "outputs": [],
   "source": []
  },
  {
   "cell_type": "code",
   "execution_count": 10,
   "id": "df3774f5",
   "metadata": {},
   "outputs": [],
   "source": [
    "imputer = SimpleImputer(missing_values = np.nan,strategy ='mean')"
   ]
  },
  {
   "cell_type": "code",
   "execution_count": 11,
   "id": "229f3c37",
   "metadata": {},
   "outputs": [],
   "source": [
    "data = [[12, np.nan, 34],\n",
    "        [10, 32, np.nan],\n",
    "        [np.nan, 11, 20]]"
   ]
  },
  {
   "cell_type": "code",
   "execution_count": 13,
   "id": "0ce2e6ea",
   "metadata": {},
   "outputs": [
    {
     "name": "stdout",
     "output_type": "stream",
     "text": [
      "Original Data : \n",
      " [[12, nan, 34], [10, 32, nan], [nan, 11, 20]]\n"
     ]
    }
   ],
   "source": [
    "print(\"Original Data : \\n\", data)\n",
    "# Fitting the data to the imputer object\n",
    "imputer = imputer.fit(data)"
   ]
  },
  {
   "cell_type": "code",
   "execution_count": 15,
   "id": "ce6bb75f",
   "metadata": {},
   "outputs": [
    {
     "name": "stdout",
     "output_type": "stream",
     "text": [
      "Imputed Data : \n",
      " [[12.  21.5 34. ]\n",
      " [10.  32.  27. ]\n",
      " [11.  11.  20. ]]\n"
     ]
    }
   ],
   "source": [
    "data = imputer.transform(data)\n",
    " \n",
    "print(\"Imputed Data : \\n\", data)"
   ]
  },
  {
   "cell_type": "code",
   "execution_count": null,
   "id": "d0226b86",
   "metadata": {},
   "outputs": [],
   "source": []
  },
  {
   "cell_type": "code",
   "execution_count": 16,
   "id": "8f70e269",
   "metadata": {},
   "outputs": [],
   "source": [
    "################################################"
   ]
  },
  {
   "cell_type": "code",
   "execution_count": null,
   "id": "14755819",
   "metadata": {},
   "outputs": [],
   "source": []
  },
  {
   "cell_type": "code",
   "execution_count": 17,
   "id": "71b2ede2",
   "metadata": {},
   "outputs": [
    {
     "name": "stdout",
     "output_type": "stream",
     "text": [
      "Original Data : \n",
      " [[12, 0, 34], [10, 32, 0], [0, 11, 20]]\n",
      "Imputed Data : \n",
      " [[12.  21.5 34. ]\n",
      " [10.  32.  27. ]\n",
      " [11.  11.  20. ]]\n"
     ]
    }
   ],
   "source": [
    "import numpy as np\n",
    "from sklearn.impute import SimpleImputer\n",
    "\n",
    "\n",
    "imputer = SimpleImputer(missing_values = 0 ,strategy ='mean')\n",
    "\n",
    "data = [[12, 0, 34], [10, 32, 0],[0, 11, 20]]\n",
    "print(\"Original Data : \\n\", data)\n",
    "\n",
    "\n",
    "imputer = imputer.fit(data)\n",
    "data = imputer.transform(data)\n",
    "print(\"Imputed Data : \\n\", data)\n"
   ]
  },
  {
   "cell_type": "code",
   "execution_count": null,
   "id": "71e10376",
   "metadata": {},
   "outputs": [],
   "source": []
  },
  {
   "cell_type": "code",
   "execution_count": 18,
   "id": "c2e5d105",
   "metadata": {},
   "outputs": [],
   "source": [
    "#######################################"
   ]
  },
  {
   "cell_type": "code",
   "execution_count": null,
   "id": "e888edda",
   "metadata": {},
   "outputs": [],
   "source": [
    "\n",
    "import numpy as np\n",
    "from sklearn.impute import SimpleImputer\n",
    "\n",
    "\n",
    "imputer = SimpleImputer(missing_values = 0 ,strategy ='mean')\n",
    "\n",
    "data = [[12, 0, 34], [10, 32, 0],[0, 11, 20]]\n",
    "print(\"Original Data : \\n\", data)\n",
    "\n",
    "\n",
    "imputer = imputer.fit(data)\n",
    "data = imputer.transform(data)\n",
    "print(\"Imputed Data : \\n\", data)\n"
   ]
  },
  {
   "cell_type": "code",
   "execution_count": 24,
   "id": "3f88eb2e",
   "metadata": {},
   "outputs": [
    {
     "name": "stdout",
     "output_type": "stream",
     "text": [
      "[[2, 0, 10], [0, 50, 16], [4, 50, 0], [6, 50, 28]]\n"
     ]
    }
   ],
   "source": [
    "from sklearn.impute import SimpleImputer\n",
    "\n",
    "imputer = SimpleImputer(missing_values= 0 , strategy=\"median\")\n",
    "\n",
    "data=[  [2 ,0, 10],\n",
    "        [0, 50 ,16],\n",
    "        [4 , 50 ,0 ],\n",
    "        [6 ,50 , 28 ]]\n",
    "print(data)"
   ]
  },
  {
   "cell_type": "code",
   "execution_count": 25,
   "id": "f56b1f31",
   "metadata": {},
   "outputs": [
    {
     "name": "stdout",
     "output_type": "stream",
     "text": [
      "[[ 2. 50. 10.]\n",
      " [ 4. 50. 16.]\n",
      " [ 4. 50. 16.]\n",
      " [ 6. 50. 28.]]\n"
     ]
    }
   ],
   "source": [
    "imputer =   imputer.fit(data)\n",
    "data= imputer.transform(data)\n",
    "print(data)"
   ]
  },
  {
   "cell_type": "code",
   "execution_count": null,
   "id": "089b5262",
   "metadata": {},
   "outputs": [],
   "source": []
  },
  {
   "cell_type": "code",
   "execution_count": 26,
   "id": "ec502e84",
   "metadata": {},
   "outputs": [],
   "source": [
    "##############################\n"
   ]
  },
  {
   "cell_type": "code",
   "execution_count": null,
   "id": "468dda6d",
   "metadata": {},
   "outputs": [],
   "source": []
  },
  {
   "cell_type": "code",
   "execution_count": 31,
   "id": "85d31b5c",
   "metadata": {},
   "outputs": [
    {
     "data": {
      "text/plain": [
       "[['A', 'B', 'C', 'D'],\n",
       " ['A', nan, 'C', 'D'],\n",
       " [nan, 'B', 'C', 'D'],\n",
       " ['A', 'B', nan, nan]]"
      ]
     },
     "execution_count": 31,
     "metadata": {},
     "output_type": "execute_result"
    }
   ],
   "source": [
    "from sklearn.impute import SimpleImputer\n",
    "imputer = SimpleImputer(missing_values=np.nan ,  strategy=\"most_frequent\")\n",
    "data= [ [\"A\" , \"B\",\"C\",\"D\"] , [\"A\",np.nan ,\"C\",'D'], [np.nan ,\"B\" ,'C','D'],['A' ,'B',np.nan,np.nan] ]\n",
    "data"
   ]
  },
  {
   "cell_type": "code",
   "execution_count": 32,
   "id": "225fb701",
   "metadata": {},
   "outputs": [
    {
     "data": {
      "text/plain": [
       "array([['A', 'B', 'C', 'D'],\n",
       "       ['A', 'B', 'C', 'D'],\n",
       "       ['A', 'B', 'C', 'D'],\n",
       "       ['A', 'B', 'C', 'D']], dtype=object)"
      ]
     },
     "execution_count": 32,
     "metadata": {},
     "output_type": "execute_result"
    }
   ],
   "source": [
    "imputer = imputer.fit(data)\n",
    "data =imputer.transform(data)\n",
    "data"
   ]
  },
  {
   "cell_type": "code",
   "execution_count": null,
   "id": "dade0c9d",
   "metadata": {},
   "outputs": [],
   "source": []
  },
  {
   "cell_type": "code",
   "execution_count": null,
   "id": "85fed049",
   "metadata": {},
   "outputs": [],
   "source": []
  }
 ],
 "metadata": {
  "kernelspec": {
   "display_name": "Python 3 (ipykernel)",
   "language": "python",
   "name": "python3"
  },
  "language_info": {
   "codemirror_mode": {
    "name": "ipython",
    "version": 3
   },
   "file_extension": ".py",
   "mimetype": "text/x-python",
   "name": "python",
   "nbconvert_exporter": "python",
   "pygments_lexer": "ipython3",
   "version": "3.9.13"
  }
 },
 "nbformat": 4,
 "nbformat_minor": 5
}
