{
 "cells": [
  {
   "cell_type": "markdown",
   "id": "c687fcfe",
   "metadata": {},
   "source": [
    "# Correlation\n"
   ]
  },
  {
   "cell_type": "code",
   "execution_count": 9,
   "id": "beabc52e",
   "metadata": {},
   "outputs": [],
   "source": [
    "import pandas as pd\n",
    "import matplotlib.pyplot as plt\n",
    "import numpy as np\n",
    "import seaborn as sns\n",
    "from scipy.stats import norm\n",
    "\n",
    "from empiricaldist import Pmf, Cdf\n"
   ]
  },
  {
   "cell_type": "code",
   "execution_count": 4,
   "id": "8439538c",
   "metadata": {},
   "outputs": [],
   "source": [
    "brfss = pd.read_hdf('../datasets/brfss.hdf5','brfss')\n"
   ]
  },
  {
   "cell_type": "code",
   "execution_count": 5,
   "id": "bea43bda",
   "metadata": {},
   "outputs": [],
   "source": [
    "columns = ['HTM4','WTKG3','AGE']\n",
    "subset = brfss[columns]"
   ]
  },
  {
   "cell_type": "code",
   "execution_count": 6,
   "id": "fd21cfee",
   "metadata": {},
   "outputs": [
    {
     "data": {
      "text/html": [
       "<div>\n",
       "<style scoped>\n",
       "    .dataframe tbody tr th:only-of-type {\n",
       "        vertical-align: middle;\n",
       "    }\n",
       "\n",
       "    .dataframe tbody tr th {\n",
       "        vertical-align: top;\n",
       "    }\n",
       "\n",
       "    .dataframe thead th {\n",
       "        text-align: right;\n",
       "    }\n",
       "</style>\n",
       "<table border=\"1\" class=\"dataframe\">\n",
       "  <thead>\n",
       "    <tr style=\"text-align: right;\">\n",
       "      <th></th>\n",
       "      <th>HTM4</th>\n",
       "      <th>WTKG3</th>\n",
       "      <th>AGE</th>\n",
       "    </tr>\n",
       "  </thead>\n",
       "  <tbody>\n",
       "    <tr>\n",
       "      <th>96230</th>\n",
       "      <td>160.0</td>\n",
       "      <td>60.33</td>\n",
       "      <td>47.0</td>\n",
       "    </tr>\n",
       "    <tr>\n",
       "      <th>244920</th>\n",
       "      <td>163.0</td>\n",
       "      <td>58.97</td>\n",
       "      <td>89.5</td>\n",
       "    </tr>\n",
       "    <tr>\n",
       "      <th>57312</th>\n",
       "      <td>163.0</td>\n",
       "      <td>72.57</td>\n",
       "      <td>42.0</td>\n",
       "    </tr>\n",
       "    <tr>\n",
       "      <th>32573</th>\n",
       "      <td>165.0</td>\n",
       "      <td>74.84</td>\n",
       "      <td>32.0</td>\n",
       "    </tr>\n",
       "    <tr>\n",
       "      <th>355929</th>\n",
       "      <td>170.0</td>\n",
       "      <td>108.86</td>\n",
       "      <td>32.0</td>\n",
       "    </tr>\n",
       "    <tr>\n",
       "      <th>...</th>\n",
       "      <td>...</td>\n",
       "      <td>...</td>\n",
       "      <td>...</td>\n",
       "    </tr>\n",
       "    <tr>\n",
       "      <th>376876</th>\n",
       "      <td>173.0</td>\n",
       "      <td>97.52</td>\n",
       "      <td>32.0</td>\n",
       "    </tr>\n",
       "    <tr>\n",
       "      <th>201499</th>\n",
       "      <td>170.0</td>\n",
       "      <td>68.04</td>\n",
       "      <td>89.5</td>\n",
       "    </tr>\n",
       "    <tr>\n",
       "      <th>192176</th>\n",
       "      <td>183.0</td>\n",
       "      <td>117.93</td>\n",
       "      <td>57.0</td>\n",
       "    </tr>\n",
       "    <tr>\n",
       "      <th>342705</th>\n",
       "      <td>175.0</td>\n",
       "      <td>61.23</td>\n",
       "      <td>27.0</td>\n",
       "    </tr>\n",
       "    <tr>\n",
       "      <th>379327</th>\n",
       "      <td>165.0</td>\n",
       "      <td>77.11</td>\n",
       "      <td>27.0</td>\n",
       "    </tr>\n",
       "  </tbody>\n",
       "</table>\n",
       "<p>100000 rows × 3 columns</p>\n",
       "</div>"
      ],
      "text/plain": [
       "         HTM4   WTKG3   AGE\n",
       "96230   160.0   60.33  47.0\n",
       "244920  163.0   58.97  89.5\n",
       "57312   163.0   72.57  42.0\n",
       "32573   165.0   74.84  32.0\n",
       "355929  170.0  108.86  32.0\n",
       "...       ...     ...   ...\n",
       "376876  173.0   97.52  32.0\n",
       "201499  170.0   68.04  89.5\n",
       "192176  183.0  117.93  57.0\n",
       "342705  175.0   61.23  27.0\n",
       "379327  165.0   77.11  27.0\n",
       "\n",
       "[100000 rows x 3 columns]"
      ]
     },
     "execution_count": 6,
     "metadata": {},
     "output_type": "execute_result"
    }
   ],
   "source": [
    "subset"
   ]
  },
  {
   "cell_type": "code",
   "execution_count": 7,
   "id": "19eb150a",
   "metadata": {},
   "outputs": [
    {
     "data": {
      "text/html": [
       "<div>\n",
       "<style scoped>\n",
       "    .dataframe tbody tr th:only-of-type {\n",
       "        vertical-align: middle;\n",
       "    }\n",
       "\n",
       "    .dataframe tbody tr th {\n",
       "        vertical-align: top;\n",
       "    }\n",
       "\n",
       "    .dataframe thead th {\n",
       "        text-align: right;\n",
       "    }\n",
       "</style>\n",
       "<table border=\"1\" class=\"dataframe\">\n",
       "  <thead>\n",
       "    <tr style=\"text-align: right;\">\n",
       "      <th></th>\n",
       "      <th>HTM4</th>\n",
       "      <th>WTKG3</th>\n",
       "      <th>AGE</th>\n",
       "    </tr>\n",
       "  </thead>\n",
       "  <tbody>\n",
       "    <tr>\n",
       "      <th>HTM4</th>\n",
       "      <td>1.000000</td>\n",
       "      <td>0.474203</td>\n",
       "      <td>-0.093684</td>\n",
       "    </tr>\n",
       "    <tr>\n",
       "      <th>WTKG3</th>\n",
       "      <td>0.474203</td>\n",
       "      <td>1.000000</td>\n",
       "      <td>0.021641</td>\n",
       "    </tr>\n",
       "    <tr>\n",
       "      <th>AGE</th>\n",
       "      <td>-0.093684</td>\n",
       "      <td>0.021641</td>\n",
       "      <td>1.000000</td>\n",
       "    </tr>\n",
       "  </tbody>\n",
       "</table>\n",
       "</div>"
      ],
      "text/plain": [
       "           HTM4     WTKG3       AGE\n",
       "HTM4   1.000000  0.474203 -0.093684\n",
       "WTKG3  0.474203  1.000000  0.021641\n",
       "AGE   -0.093684  0.021641  1.000000"
      ]
     },
     "execution_count": 7,
     "metadata": {},
     "output_type": "execute_result"
    }
   ],
   "source": [
    "subset.corr()"
   ]
  },
  {
   "cell_type": "code",
   "execution_count": null,
   "id": "eb89e75b",
   "metadata": {},
   "outputs": [],
   "source": []
  },
  {
   "cell_type": "code",
   "execution_count": 11,
   "id": "b06ff131",
   "metadata": {},
   "outputs": [
    {
     "data": {
      "text/plain": [
       "array([[1.        , 0.02503817],\n",
       "       [0.02503817, 1.        ]])"
      ]
     },
     "execution_count": 11,
     "metadata": {},
     "output_type": "execute_result"
    }
   ],
   "source": [
    "xs = np.linspace(-1, 1)\n",
    "ys = xs**2\n",
    "ys += np.random.normal(0, 0.05, len(xs))\n",
    "np.corrcoef(xs, ys)"
   ]
  },
  {
   "cell_type": "code",
   "execution_count": 12,
   "id": "d1be1f2b",
   "metadata": {},
   "outputs": [
    {
     "name": "stdout",
     "output_type": "stream",
     "text": [
      "               AGE   INCOME2  _VEGESU1\n",
      "AGE       1.000000 -0.015158 -0.009834\n",
      "INCOME2  -0.015158  1.000000  0.119670\n",
      "_VEGESU1 -0.009834  0.119670  1.000000\n"
     ]
    }
   ],
   "source": [
    "# Select columns\n",
    "columns = ['AGE', 'INCOME2', '_VEGESU1']\n",
    "subset = brfss[columns]\n",
    "\n",
    "# Compute the correlation matrix\n",
    "print(subset.corr())\n"
   ]
  },
  {
   "cell_type": "code",
   "execution_count": null,
   "id": "ee5b3e20",
   "metadata": {},
   "outputs": [],
   "source": []
  }
 ],
 "metadata": {
  "kernelspec": {
   "display_name": "Python 3 (ipykernel)",
   "language": "python",
   "name": "python3"
  },
  "language_info": {
   "codemirror_mode": {
    "name": "ipython",
    "version": 3
   },
   "file_extension": ".py",
   "mimetype": "text/x-python",
   "name": "python",
   "nbconvert_exporter": "python",
   "pygments_lexer": "ipython3",
   "version": "3.9.13"
  }
 },
 "nbformat": 4,
 "nbformat_minor": 5
}
