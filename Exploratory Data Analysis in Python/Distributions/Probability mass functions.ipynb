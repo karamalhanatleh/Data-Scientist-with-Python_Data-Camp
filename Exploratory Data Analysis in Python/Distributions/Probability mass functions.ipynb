{
 "cells": [
  {
   "cell_type": "code",
   "execution_count": 14,
   "id": "be6ecf02",
   "metadata": {},
   "outputs": [],
   "source": [
    "import pandas as pd\n",
    "import matplotlib.pyplot as plt \n",
    "from scipy.stats import binom\n",
    "from scipy.stats import *\n",
    "\n"
   ]
  },
  {
   "cell_type": "code",
   "execution_count": 6,
   "id": "e1ee611e",
   "metadata": {},
   "outputs": [
    {
     "data": {
      "text/html": [
       "<div>\n",
       "<style scoped>\n",
       "    .dataframe tbody tr th:only-of-type {\n",
       "        vertical-align: middle;\n",
       "    }\n",
       "\n",
       "    .dataframe tbody tr th {\n",
       "        vertical-align: top;\n",
       "    }\n",
       "\n",
       "    .dataframe thead th {\n",
       "        text-align: right;\n",
       "    }\n",
       "</style>\n",
       "<table border=\"1\" class=\"dataframe\">\n",
       "  <thead>\n",
       "    <tr style=\"text-align: right;\">\n",
       "      <th></th>\n",
       "      <th>year</th>\n",
       "      <th>age</th>\n",
       "      <th>cohort</th>\n",
       "      <th>sex</th>\n",
       "      <th>race</th>\n",
       "      <th>educ</th>\n",
       "      <th>realinc</th>\n",
       "      <th>gunlaw</th>\n",
       "      <th>grass</th>\n",
       "      <th>wtssall</th>\n",
       "    </tr>\n",
       "  </thead>\n",
       "  <tbody>\n",
       "    <tr>\n",
       "      <th>0</th>\n",
       "      <td>1972</td>\n",
       "      <td>26.0</td>\n",
       "      <td>1946.0</td>\n",
       "      <td>1</td>\n",
       "      <td>1</td>\n",
       "      <td>18.0</td>\n",
       "      <td>13537.0</td>\n",
       "      <td>2.0</td>\n",
       "      <td>NaN</td>\n",
       "      <td>0.8893</td>\n",
       "    </tr>\n",
       "    <tr>\n",
       "      <th>1</th>\n",
       "      <td>1972</td>\n",
       "      <td>38.0</td>\n",
       "      <td>1934.0</td>\n",
       "      <td>2</td>\n",
       "      <td>1</td>\n",
       "      <td>12.0</td>\n",
       "      <td>18951.0</td>\n",
       "      <td>1.0</td>\n",
       "      <td>NaN</td>\n",
       "      <td>0.4446</td>\n",
       "    </tr>\n",
       "    <tr>\n",
       "      <th>2</th>\n",
       "      <td>1972</td>\n",
       "      <td>57.0</td>\n",
       "      <td>1915.0</td>\n",
       "      <td>1</td>\n",
       "      <td>1</td>\n",
       "      <td>12.0</td>\n",
       "      <td>30458.0</td>\n",
       "      <td>1.0</td>\n",
       "      <td>NaN</td>\n",
       "      <td>1.3339</td>\n",
       "    </tr>\n",
       "    <tr>\n",
       "      <th>3</th>\n",
       "      <td>1972</td>\n",
       "      <td>61.0</td>\n",
       "      <td>1911.0</td>\n",
       "      <td>2</td>\n",
       "      <td>1</td>\n",
       "      <td>14.0</td>\n",
       "      <td>37226.0</td>\n",
       "      <td>1.0</td>\n",
       "      <td>NaN</td>\n",
       "      <td>0.8893</td>\n",
       "    </tr>\n",
       "    <tr>\n",
       "      <th>4</th>\n",
       "      <td>1972</td>\n",
       "      <td>59.0</td>\n",
       "      <td>1913.0</td>\n",
       "      <td>1</td>\n",
       "      <td>1</td>\n",
       "      <td>12.0</td>\n",
       "      <td>30458.0</td>\n",
       "      <td>2.0</td>\n",
       "      <td>NaN</td>\n",
       "      <td>0.8893</td>\n",
       "    </tr>\n",
       "  </tbody>\n",
       "</table>\n",
       "</div>"
      ],
      "text/plain": [
       "   year   age  cohort  sex  race  educ  realinc  gunlaw  grass  wtssall\n",
       "0  1972  26.0  1946.0    1     1  18.0  13537.0     2.0    NaN   0.8893\n",
       "1  1972  38.0  1934.0    2     1  12.0  18951.0     1.0    NaN   0.4446\n",
       "2  1972  57.0  1915.0    1     1  12.0  30458.0     1.0    NaN   1.3339\n",
       "3  1972  61.0  1911.0    2     1  14.0  37226.0     1.0    NaN   0.8893\n",
       "4  1972  59.0  1913.0    1     1  12.0  30458.0     2.0    NaN   0.8893"
      ]
     },
     "execution_count": 6,
     "metadata": {},
     "output_type": "execute_result"
    }
   ],
   "source": [
    "gss = pd.read_hdf('../datasets/gss.hdf5','gss')\n",
    "gss.head()"
   ]
  },
  {
   "cell_type": "code",
   "execution_count": 8,
   "id": "d6fb3020",
   "metadata": {},
   "outputs": [
    {
     "data": {
      "image/png": "[encoded data removed]",
      "text/plain": [
       "<Figure size 640x480 with 1 Axes>"
      ]
     },
     "metadata": {},
     "output_type": "display_data"
    }
   ],
   "source": [
    "educ = gss['educ']\n",
    "plt.hist(educ.dropna(), label='educ')\n",
    "plt.legend()\n",
    "plt.show()"
   ]
  },
  {
   "cell_type": "code",
   "execution_count": 27,
   "id": "efd1fe62",
   "metadata": {},
   "outputs": [],
   "source": [
    "from empiricaldist import Pmf, Cdf"
   ]
  },
  {
   "cell_type": "code",
   "execution_count": 26,
   "id": "0aca0420",
   "metadata": {},
   "outputs": [
    {
     "name": "stdout",
     "output_type": "stream",
     "text": [
      "Collecting empiricaldist\n",
      "  Downloading empiricaldist-0.6.7.tar.gz (11 kB)\n",
      "  Preparing metadata (setup.py): started\n",
      "  Preparing metadata (setup.py): finished with status 'done'\n",
      "Building wheels for collected packages: empiricaldist\n",
      "  Building wheel for empiricaldist (setup.py): started\n",
      "  Building wheel for empiricaldist (setup.py): finished with status 'done'\n",
      "  Created wheel for empiricaldist: filename=empiricaldist-0.6.7-py3-none-any.whl size=11958 sha256=23734ec10b2bbdea9de5c3c6e40e64af55c7ad1327500726a66bb570676f6cdc\n",
      "  Stored in directory: c:\\users\\dell\\appdata\\local\\pip\\cache\\wheels\\1a\\33\\5a\\05bbe93cd4709e7a777f8379efb54114a8f7f6dcb3787805fb\n",
      "Successfully built empiricaldist\n",
      "Installing collected packages: empiricaldist\n",
      "Successfully installed empiricaldist-0.6.7\n",
      "Note: you may need to restart the kernel to use updated packages.\n"
     ]
    }
   ],
   "source": [
    "pip install empiricaldist"
   ]
  },
  {
   "cell_type": "code",
   "execution_count": 37,
   "id": "e2a9e534",
   "metadata": {},
   "outputs": [
    {
     "data": {
      "text/html": [
       "<div>\n",
       "<style scoped>\n",
       "    .dataframe tbody tr th:only-of-type {\n",
       "        vertical-align: middle;\n",
       "    }\n",
       "\n",
       "    .dataframe tbody tr th {\n",
       "        vertical-align: top;\n",
       "    }\n",
       "\n",
       "    .dataframe thead th {\n",
       "        text-align: right;\n",
       "    }\n",
       "</style>\n",
       "<table border=\"1\" class=\"dataframe\">\n",
       "  <thead>\n",
       "    <tr style=\"text-align: right;\">\n",
       "      <th></th>\n",
       "      <th>probs</th>\n",
       "    </tr>\n",
       "  </thead>\n",
       "  <tbody>\n",
       "    <tr>\n",
       "      <th>0.0</th>\n",
       "      <td>144</td>\n",
       "    </tr>\n",
       "    <tr>\n",
       "      <th>1.0</th>\n",
       "      <td>38</td>\n",
       "    </tr>\n",
       "    <tr>\n",
       "      <th>2.0</th>\n",
       "      <td>151</td>\n",
       "    </tr>\n",
       "  </tbody>\n",
       "</table>\n",
       "</div>"
      ],
      "text/plain": [
       "0.0    144\n",
       "1.0     38\n",
       "2.0    151\n",
       "Name: , dtype: int64"
      ]
     },
     "execution_count": 37,
     "metadata": {},
     "output_type": "execute_result"
    }
   ],
   "source": [
    "pmf_educ = Pmf.from_seq(educ , normalize=False)\n",
    "pmf_educ.head()"
   ]
  },
  {
   "cell_type": "code",
   "execution_count": 36,
   "id": "0e46c15e",
   "metadata": {},
   "outputs": [
    {
     "data": {
      "text/plain": [
       "19145"
      ]
     },
     "execution_count": 36,
     "metadata": {},
     "output_type": "execute_result"
    }
   ],
   "source": [
    "pmf_educ[12]\n"
   ]
  },
  {
   "cell_type": "code",
   "execution_count": 38,
   "id": "0d63309e",
   "metadata": {},
   "outputs": [
    {
     "data": {
      "text/html": [
       "<div>\n",
       "<style scoped>\n",
       "    .dataframe tbody tr th:only-of-type {\n",
       "        vertical-align: middle;\n",
       "    }\n",
       "\n",
       "    .dataframe tbody tr th {\n",
       "        vertical-align: top;\n",
       "    }\n",
       "\n",
       "    .dataframe thead th {\n",
       "        text-align: right;\n",
       "    }\n",
       "</style>\n",
       "<table border=\"1\" class=\"dataframe\">\n",
       "  <thead>\n",
       "    <tr style=\"text-align: right;\">\n",
       "      <th></th>\n",
       "      <th>probs</th>\n",
       "    </tr>\n",
       "  </thead>\n",
       "  <tbody>\n",
       "    <tr>\n",
       "      <th>0.0</th>\n",
       "      <td>0.002311</td>\n",
       "    </tr>\n",
       "    <tr>\n",
       "      <th>1.0</th>\n",
       "      <td>0.000610</td>\n",
       "    </tr>\n",
       "    <tr>\n",
       "      <th>2.0</th>\n",
       "      <td>0.002424</td>\n",
       "    </tr>\n",
       "  </tbody>\n",
       "</table>\n",
       "</div>"
      ],
      "text/plain": [
       "0.0    0.002311\n",
       "1.0    0.000610\n",
       "2.0    0.002424\n",
       "Name: , dtype: float64"
      ]
     },
     "execution_count": 38,
     "metadata": {},
     "output_type": "execute_result"
    }
   ],
   "source": [
    "pmf_educ = Pmf.from_seq(educ , normalize=True)\n",
    "pmf_educ.head()"
   ]
  },
  {
   "cell_type": "code",
   "execution_count": 39,
   "id": "653d3085",
   "metadata": {},
   "outputs": [
    {
     "data": {
      "text/plain": [
       "0.3072836414997432"
      ]
     },
     "execution_count": 39,
     "metadata": {},
     "output_type": "execute_result"
    }
   ],
   "source": [
    "pmf_educ[12]\n"
   ]
  },
  {
   "cell_type": "code",
   "execution_count": 40,
   "id": "d9685c63",
   "metadata": {},
   "outputs": [
    {
     "data": {
      "image/png": "[encoded data removed]",
      "text/plain": [
       "<Figure size 640x480 with 1 Axes>"
      ]
     },
     "metadata": {},
     "output_type": "display_data"
    }
   ],
   "source": [
    "pmf_educ.bar(label='educ')\n",
    "plt.xlabel('Years of education')\n",
    "plt.ylabel('PMF')\n",
    "plt.show()"
   ]
  },
  {
   "cell_type": "code",
   "execution_count": 42,
   "id": "60438d7e",
   "metadata": {},
   "outputs": [
    {
     "name": "stdout",
     "output_type": "stream",
     "text": [
      "1972    1613\n",
      "1973    1504\n",
      "1974    1484\n",
      "1975    1490\n",
      "1976    1499\n",
      "1977    1530\n",
      "1978    1532\n",
      "1980    1468\n",
      "1982    1860\n",
      "1983    1599\n",
      "1984    1473\n",
      "1985    1534\n",
      "1986    1470\n",
      "1987    1819\n",
      "1988    1481\n",
      "1989    1537\n",
      "1990    1372\n",
      "1991    1517\n",
      "1993    1606\n",
      "1994    2992\n",
      "1996    2904\n",
      "1998    2832\n",
      "2000    2817\n",
      "2002    2765\n",
      "2004    2812\n",
      "2006    4510\n",
      "2008    2023\n",
      "2010    2044\n",
      "2012    1974\n",
      "2014    2538\n",
      "2016    2867\n",
      "Name: , dtype: int64\n"
     ]
    }
   ],
   "source": [
    "year = gss['year']\n",
    "# Compute the PMF for year\n",
    "pmf_year = Pmf.from_seq(year, normalize=False)\n",
    "\n",
    "# Print the result\n",
    "print(pmf_year)"
   ]
  },
  {
   "cell_type": "code",
   "execution_count": 43,
   "id": "58157216",
   "metadata": {},
   "outputs": [
    {
     "data": {
      "text/plain": [
       "Text(0, 0.5, 'PMF')"
      ]
     },
     "execution_count": 43,
     "metadata": {},
     "output_type": "execute_result"
    },
    {
     "data": {
      "image/png": "[encoded data removed]",
      "text/plain": [
       "<Figure size 640x480 with 1 Axes>"
      ]
     },
     "metadata": {},
     "output_type": "display_data"
    }
   ],
   "source": [
    "age = gss['age']\n",
    "\n",
    "# Make a PMF of age\n",
    "pmf_age = Pmf.from_seq(age)\n",
    "\n",
    "# Plot the PMF\n",
    "pmf_age.bar()\n",
    "\n",
    "# Label the axes\n",
    "plt.xlabel('Age')\n",
    "plt.ylabel('PMF')"
   ]
  },
  {
   "cell_type": "code",
   "execution_count": null,
   "id": "0329d179",
   "metadata": {},
   "outputs": [],
   "source": []
  }
 ],
 "metadata": {
  "kernelspec": {
   "display_name": "Python 3 (ipykernel)",
   "language": "python",
   "name": "python3"
  },
  "language_info": {
   "codemirror_mode": {
    "name": "ipython",
    "version": 3
   },
   "file_extension": ".py",
   "mimetype": "text/x-python",
   "name": "python",
   "nbconvert_exporter": "python",
   "pygments_lexer": "ipython3",
   "version": "3.9.13"
  }
 },
 "nbformat": 4,
 "nbformat_minor": 5
}
