{
 "cells": [
  {
   "cell_type": "markdown",
   "id": "eb55ccfc",
   "metadata": {},
   "source": [
    "# Dates in Python\n"
   ]
  },
  {
   "cell_type": "code",
   "execution_count": 1,
   "id": "f635225e",
   "metadata": {},
   "outputs": [],
   "source": [
    "from datetime import date"
   ]
  },
  {
   "cell_type": "code",
   "execution_count": null,
   "id": "771347ca",
   "metadata": {},
   "outputs": [],
   "source": []
  },
  {
   "cell_type": "code",
   "execution_count": 2,
   "id": "62f9e060",
   "metadata": {},
   "outputs": [],
   "source": [
    "#create dates\n",
    "two_hurricanes_dates = [date(2016, 10, 7), date(2017, 6, 21)]"
   ]
  },
  {
   "cell_type": "code",
   "execution_count": 3,
   "id": "ee91751b",
   "metadata": {},
   "outputs": [
    {
     "data": {
      "text/plain": [
       "[datetime.date(2016, 10, 7), datetime.date(2017, 6, 21)]"
      ]
     },
     "execution_count": 3,
     "metadata": {},
     "output_type": "execute_result"
    }
   ],
   "source": [
    "two_hurricanes_dates"
   ]
  },
  {
   "cell_type": "code",
   "execution_count": 7,
   "id": "7feaf3b3",
   "metadata": {},
   "outputs": [
    {
     "name": "stdout",
     "output_type": "stream",
     "text": [
      "2016\n",
      "10\n",
      "21\n"
     ]
    }
   ],
   "source": [
    "print(two_hurricanes_dates[0].year)\n",
    "print(two_hurricanes_dates[0].month)\n",
    "print(two_hurricanes_dates[1].day)"
   ]
  },
  {
   "cell_type": "code",
   "execution_count": null,
   "id": "008f256b",
   "metadata": {},
   "outputs": [],
   "source": []
  },
  {
   "cell_type": "code",
   "execution_count": 10,
   "id": "bf8bd97c",
   "metadata": {},
   "outputs": [
    {
     "name": "stdout",
     "output_type": "stream",
     "text": [
      "4\n"
     ]
    }
   ],
   "source": [
    "print(two_hurricanes_dates[0].weekday())"
   ]
  },
  {
   "cell_type": "code",
   "execution_count": 11,
   "id": "85dd2186",
   "metadata": {},
   "outputs": [],
   "source": [
    "dates_now = [date(2023, 1,2)]"
   ]
  },
  {
   "cell_type": "code",
   "execution_count": 12,
   "id": "63896f53",
   "metadata": {},
   "outputs": [
    {
     "name": "stdout",
     "output_type": "stream",
     "text": [
      "4\n"
     ]
    }
   ],
   "source": [
    "print(two_hurricanes_dates[0].weekday())"
   ]
  },
  {
   "cell_type": "code",
   "execution_count": null,
   "id": "95b62910",
   "metadata": {},
   "outputs": [],
   "source": []
  },
  {
   "cell_type": "code",
   "execution_count": null,
   "id": "36cfc050",
   "metadata": {},
   "outputs": [],
   "source": []
  },
  {
   "cell_type": "markdown",
   "id": "22f3e10c",
   "metadata": {},
   "source": [
    "## Which day of the week?\n"
   ]
  },
  {
   "cell_type": "code",
   "execution_count": 13,
   "id": "0fd86664",
   "metadata": {},
   "outputs": [],
   "source": [
    "# Import date from datetime\n",
    "from datetime import date"
   ]
  },
  {
   "cell_type": "code",
   "execution_count": 14,
   "id": "9bd1b1a3",
   "metadata": {},
   "outputs": [],
   "source": [
    "# Import date from datetime\n",
    "from datetime import date\n",
    "\n",
    "# Create a date object\n",
    "hurricane_andrew = date(1992,8,24)"
   ]
  },
  {
   "cell_type": "code",
   "execution_count": 15,
   "id": "bea64b69",
   "metadata": {},
   "outputs": [
    {
     "name": "stdout",
     "output_type": "stream",
     "text": [
      "0\n"
     ]
    }
   ],
   "source": [
    "# Import date from datetime\n",
    "from datetime import date\n",
    "\n",
    "# Create a date object\n",
    "hurricane_andrew = date(1992, 8, 24)\n",
    "\n",
    "# Which day of the week is the date?\n",
    "print(hurricane_andrew.weekday())"
   ]
  },
  {
   "cell_type": "code",
   "execution_count": null,
   "id": "5aa31be5",
   "metadata": {},
   "outputs": [],
   "source": []
  },
  {
   "cell_type": "code",
   "execution_count": null,
   "id": "74ae768c",
   "metadata": {},
   "outputs": [],
   "source": []
  },
  {
   "cell_type": "markdown",
   "id": "ea0747f2",
   "metadata": {},
   "source": [
    "## How many hurricanes come early?\n"
   ]
  },
  {
   "cell_type": "code",
   "execution_count": null,
   "id": "6d4636f4",
   "metadata": {},
   "outputs": [],
   "source": [
    "# Counter for how many before June 1\n",
    "early_hurricanes = 0\n",
    "\n",
    "# We loop over the dates\n",
    "for hurricane in florida_hurricane_dates:\n",
    "  # Check if the month is before June (month number 6)\n",
    "  if hurricane.month < 6:\n",
    "    early_hurricanes = early_hurricanes + 1\n",
    "    \n",
    "print(early_hurricanes)"
   ]
  }
 ],
 "metadata": {
  "kernelspec": {
   "display_name": "Python 3 (ipykernel)",
   "language": "python",
   "name": "python3"
  },
  "language_info": {
   "codemirror_mode": {
    "name": "ipython",
    "version": 3
   },
   "file_extension": ".py",
   "mimetype": "text/x-python",
   "name": "python",
   "nbconvert_exporter": "python",
   "pygments_lexer": "ipython3",
   "version": "3.9.13"
  }
 },
 "nbformat": 4,
 "nbformat_minor": 5
}
