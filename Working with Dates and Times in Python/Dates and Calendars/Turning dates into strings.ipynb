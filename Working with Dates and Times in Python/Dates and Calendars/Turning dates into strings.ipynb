{
 "cells": [
  {
   "cell_type": "code",
   "execution_count": 1,
   "id": "fbd99ccf",
   "metadata": {},
   "outputs": [],
   "source": [
    "from datetime import date\n"
   ]
  },
  {
   "cell_type": "code",
   "execution_count": 2,
   "id": "19311d95",
   "metadata": {},
   "outputs": [
    {
     "name": "stdout",
     "output_type": "stream",
     "text": [
      "2017-11-05\n"
     ]
    }
   ],
   "source": [
    "# Example date\n",
    "d = date(2017, 11, 5)\n",
    "# ISO format: YYYY-MM-DD\n",
    "print(d)"
   ]
  },
  {
   "cell_type": "code",
   "execution_count": 3,
   "id": "cc013d67",
   "metadata": {},
   "outputs": [
    {
     "name": "stdout",
     "output_type": "stream",
     "text": [
      "['2017-11-05']\n"
     ]
    }
   ],
   "source": [
    "print( [d.isoformat()] )"
   ]
  },
  {
   "cell_type": "code",
   "execution_count": null,
   "id": "854dd0b2",
   "metadata": {},
   "outputs": [],
   "source": []
  },
  {
   "cell_type": "code",
   "execution_count": 5,
   "id": "37b0d526",
   "metadata": {},
   "outputs": [
    {
     "name": "stdout",
     "output_type": "stream",
     "text": [
      "['1999-12-31', '2000-01-01']\n"
     ]
    }
   ],
   "source": [
    "# A few dates that computers once had trouble with\n",
    "some_dates = ['2000-01-01','1999-12-31']\n",
    "# Print them in order\n",
    "print(sorted(some_dates))"
   ]
  },
  {
   "cell_type": "code",
   "execution_count": null,
   "id": "791edbfe",
   "metadata": {},
   "outputs": [],
   "source": []
  },
  {
   "cell_type": "code",
   "execution_count": 7,
   "id": "8dcec3e5",
   "metadata": {},
   "outputs": [
    {
     "name": "stdout",
     "output_type": "stream",
     "text": [
      "2017\n"
     ]
    }
   ],
   "source": [
    "d=date(2017,1,5)\n",
    "print(d.strftime(\"%Y\"))"
   ]
  },
  {
   "cell_type": "code",
   "execution_count": 8,
   "id": "bc7b8207",
   "metadata": {},
   "outputs": [
    {
     "name": "stdout",
     "output_type": "stream",
     "text": [
      "Year is : 2017\n"
     ]
    }
   ],
   "source": [
    "print(d.strftime(\"Year is : %Y\"))"
   ]
  },
  {
   "cell_type": "code",
   "execution_count": 9,
   "id": "37734883",
   "metadata": {},
   "outputs": [
    {
     "name": "stdout",
     "output_type": "stream",
     "text": [
      "2017/01/05\n"
     ]
    }
   ],
   "source": [
    "print(d.strftime(\"%Y/%m/%d\"))"
   ]
  },
  {
   "cell_type": "code",
   "execution_count": null,
   "id": "36ff8cb3",
   "metadata": {},
   "outputs": [],
   "source": []
  },
  {
   "cell_type": "code",
   "execution_count": null,
   "id": "038f36e7",
   "metadata": {},
   "outputs": [],
   "source": []
  },
  {
   "cell_type": "code",
   "execution_count": null,
   "id": "58b2051e",
   "metadata": {},
   "outputs": [],
   "source": []
  },
  {
   "cell_type": "markdown",
   "id": "2dd039da",
   "metadata": {},
   "source": [
    "## Printing dates in a friendly format\n"
   ]
  },
  {
   "cell_type": "code",
   "execution_count": null,
   "id": "1d50aecf",
   "metadata": {},
   "outputs": [],
   "source": [
    "# Assign the earliest date to first_date\n",
    "first_date = min(florida_hurricane_dates)\n",
    "\n",
    "# Convert to ISO and US formats\n",
    "iso = \"Our earliest hurricane date: \" + first_date.isoformat()\n",
    "us = \"Our earliest hurricane date: \" + first_date.strftime(\"%m/%d/%Y\")\n",
    "\n",
    "print(\"ISO: \" + iso)\n",
    "print(\"US: \" + us)\n"
   ]
  },
  {
   "cell_type": "code",
   "execution_count": null,
   "id": "67f86617",
   "metadata": {},
   "outputs": [],
   "source": []
  },
  {
   "cell_type": "markdown",
   "id": "a7d4cca2",
   "metadata": {},
   "source": [
    "## Representing dates in different ways\n"
   ]
  },
  {
   "cell_type": "code",
   "execution_count": 10,
   "id": "42d0a052",
   "metadata": {},
   "outputs": [
    {
     "name": "stdout",
     "output_type": "stream",
     "text": [
      "1992-08\n"
     ]
    }
   ],
   "source": [
    "# Import date\n",
    "from datetime import date\n",
    "\n",
    "# Create a date object\n",
    "andrew = date(1992, 8, 26)\n",
    "\n",
    "# Print the date in the format 'YYYY-MM'\n",
    "print(andrew.strftime('%Y-%m'))"
   ]
  },
  {
   "cell_type": "code",
   "execution_count": 11,
   "id": "c3b07680",
   "metadata": {},
   "outputs": [
    {
     "name": "stdout",
     "output_type": "stream",
     "text": [
      "August (1992)\n"
     ]
    }
   ],
   "source": [
    "# Import date\n",
    "from datetime import date\n",
    "\n",
    "# Create a date object\n",
    "andrew = date(1992, 8, 26)\n",
    "\n",
    "# Print the date in the format 'MONTH (YYYY)'\n",
    "print(andrew.strftime('%B (%Y)'))"
   ]
  },
  {
   "cell_type": "code",
   "execution_count": null,
   "id": "db36e77c",
   "metadata": {},
   "outputs": [],
   "source": []
  }
 ],
 "metadata": {
  "kernelspec": {
   "display_name": "Python 3 (ipykernel)",
   "language": "python",
   "name": "python3"
  },
  "language_info": {
   "codemirror_mode": {
    "name": "ipython",
    "version": 3
   },
   "file_extension": ".py",
   "mimetype": "text/x-python",
   "name": "python",
   "nbconvert_exporter": "python",
   "pygments_lexer": "ipython3",
   "version": "3.9.13"
  }
 },
 "nbformat": 4,
 "nbformat_minor": 5
}
