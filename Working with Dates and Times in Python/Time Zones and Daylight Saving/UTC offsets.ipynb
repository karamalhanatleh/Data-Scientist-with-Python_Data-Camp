{
 "cells": [
  {
   "cell_type": "markdown",
   "id": "ff9a71ec",
   "metadata": {},
   "source": [
    "# UTC offsets\n"
   ]
  },
  {
   "cell_type": "code",
   "execution_count": 1,
   "id": "72488458",
   "metadata": {},
   "outputs": [],
   "source": [
    "# Import relevant classes\n",
    "from datetime import datetime, timedelta, timezone"
   ]
  },
  {
   "cell_type": "code",
   "execution_count": 2,
   "id": "8c02779b",
   "metadata": {},
   "outputs": [],
   "source": [
    "ET = timezone(timedelta(hours =-5))"
   ]
  },
  {
   "cell_type": "code",
   "execution_count": 3,
   "id": "0ea1ed7f",
   "metadata": {},
   "outputs": [
    {
     "data": {
      "text/plain": [
       "datetime.timezone(datetime.timedelta(days=-1, seconds=68400))"
      ]
     },
     "execution_count": 3,
     "metadata": {},
     "output_type": "execute_result"
    }
   ],
   "source": [
    "ET"
   ]
  },
  {
   "cell_type": "code",
   "execution_count": 7,
   "id": "06a01707",
   "metadata": {},
   "outputs": [],
   "source": [
    "dt = datetime(2017 , 12 , 30 , 15 , 9 , 3 , tzinfo=ET)"
   ]
  },
  {
   "cell_type": "code",
   "execution_count": 9,
   "id": "3afc5149",
   "metadata": {},
   "outputs": [
    {
     "name": "stdout",
     "output_type": "stream",
     "text": [
      "2017-12-30 15:09:03-05:00\n"
     ]
    }
   ],
   "source": [
    "print(dt)"
   ]
  },
  {
   "cell_type": "code",
   "execution_count": null,
   "id": "c1ded9c2",
   "metadata": {},
   "outputs": [],
   "source": []
  },
  {
   "cell_type": "code",
   "execution_count": 10,
   "id": "5c9bc237",
   "metadata": {},
   "outputs": [
    {
     "name": "stdout",
     "output_type": "stream",
     "text": [
      "2017-12-31 01:39:03+05:30\n"
     ]
    }
   ],
   "source": [
    "# India Standard time zone\n",
    "IST = timezone(timedelta(hours=5, minutes=30))\n",
    "# Convert to IST\n",
    "print(dt.astimezone(IST))"
   ]
  },
  {
   "cell_type": "code",
   "execution_count": null,
   "id": "ebeb4ae6",
   "metadata": {},
   "outputs": [],
   "source": []
  },
  {
   "cell_type": "code",
   "execution_count": null,
   "id": "2ebdebea",
   "metadata": {},
   "outputs": [],
   "source": []
  },
  {
   "cell_type": "code",
   "execution_count": null,
   "id": "803e265e",
   "metadata": {},
   "outputs": [],
   "source": []
  },
  {
   "cell_type": "code",
   "execution_count": null,
   "id": "ebce145a",
   "metadata": {},
   "outputs": [],
   "source": []
  },
  {
   "cell_type": "markdown",
   "id": "121b994a",
   "metadata": {},
   "source": [
    "## Creating timezone aware datetimes\n"
   ]
  },
  {
   "cell_type": "code",
   "execution_count": 12,
   "id": "b07facb7",
   "metadata": {},
   "outputs": [
    {
     "name": "stdout",
     "output_type": "stream",
     "text": [
      "2017-10-01T15:26:26+00:00\n"
     ]
    }
   ],
   "source": [
    "# Import datetime, timezone\n",
    "from datetime import datetime, timezone\n",
    "\n",
    "# October 1, 2017 at 15:26:26, UTC\n",
    "dt = datetime(2017, 10, 1, 15, 26, 26, tzinfo=timezone.utc)\n",
    "\n",
    "# Print results\n",
    "print(dt.isoformat())\n"
   ]
  },
  {
   "cell_type": "code",
   "execution_count": 13,
   "id": "fa3affa8",
   "metadata": {},
   "outputs": [
    {
     "name": "stdout",
     "output_type": "stream",
     "text": [
      "2017-10-01T15:26:26-08:00\n"
     ]
    }
   ],
   "source": [
    "\n",
    "# Import datetime, timedelta, timezone\n",
    "from datetime import datetime, timedelta, timezone\n",
    "\n",
    "# Create a timezone for Pacific Standard Time, or UTC-8\n",
    "pst = timezone(timedelta(hours=-8))\n",
    "\n",
    "# October 1, 2017 at 15:26:26, UTC-8\n",
    "dt = datetime(2017, 10, 1, 15, 26, 26, tzinfo=pst)\n",
    "\n",
    "# Print results\n",
    "print(dt.isoformat())\n"
   ]
  },
  {
   "cell_type": "code",
   "execution_count": null,
   "id": "52d57f9f",
   "metadata": {},
   "outputs": [],
   "source": []
  },
  {
   "cell_type": "markdown",
   "id": "87c8c257",
   "metadata": {},
   "source": [
    "## Setting timezones\n"
   ]
  },
  {
   "cell_type": "code",
   "execution_count": null,
   "id": "2f13a8d1",
   "metadata": {},
   "outputs": [],
   "source": []
  }
 ],
 "metadata": {
  "kernelspec": {
   "display_name": "Python 3 (ipykernel)",
   "language": "python",
   "name": "python3"
  },
  "language_info": {
   "codemirror_mode": {
    "name": "ipython",
    "version": 3
   },
   "file_extension": ".py",
   "mimetype": "text/x-python",
   "name": "python",
   "nbconvert_exporter": "python",
   "pygments_lexer": "ipython3",
   "version": "3.9.13"
  }
 },
 "nbformat": 4,
 "nbformat_minor": 5
}
