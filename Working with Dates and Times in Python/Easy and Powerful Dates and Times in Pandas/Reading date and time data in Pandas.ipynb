{
 "cells": [
  {
   "cell_type": "code",
   "execution_count": 2,
   "id": "ca393a83",
   "metadata": {},
   "outputs": [],
   "source": [
    "import pandas as pd\n"
   ]
  },
  {
   "cell_type": "code",
   "execution_count": 4,
   "id": "8afa83ae",
   "metadata": {},
   "outputs": [
    {
     "name": "stdout",
     "output_type": "stream",
     "text": [
      "            Start date             End date  Start station number  \\\n",
      "0  2017-10-01 15:23:25  2017-10-01 15:26:26                 31038   \n",
      "1  2017-10-01 15:42:57  2017-10-01 17:49:59                 31036   \n",
      "2  2017-10-02 06:37:10  2017-10-02 06:42:53                 31036   \n",
      "\n",
      "                   Start station  End station number  \\\n",
      "0           Glebe Rd & 11th St N               31036   \n",
      "1  George Mason Dr & Wilson Blvd               31036   \n",
      "2  George Mason Dr & Wilson Blvd               31037   \n",
      "\n",
      "                            End station Bike number Member type  \n",
      "0         George Mason Dr & Wilson Blvd      W20529      Member  \n",
      "1         George Mason Dr & Wilson Blvd      W20529      Casual  \n",
      "2  Ballston Metro / N Stuart & 9th St N      W20529      Member  \n"
     ]
    }
   ],
   "source": [
    "rides = pd.read_csv(\"../datasets/capital-onebike.csv\")\n",
    "print(rides.head(3))"
   ]
  },
  {
   "cell_type": "code",
   "execution_count": 6,
   "id": "3068e100",
   "metadata": {},
   "outputs": [
    {
     "data": {
      "text/plain": [
       "0      2017-10-01 15:23:25\n",
       "1      2017-10-01 15:42:57\n",
       "2      2017-10-02 06:37:10\n",
       "3      2017-10-02 08:56:45\n",
       "4      2017-10-02 18:23:48\n",
       "              ...         \n",
       "285    2017-12-29 14:32:55\n",
       "286    2017-12-29 15:08:26\n",
       "287    2017-12-29 20:33:34\n",
       "288    2017-12-30 13:51:03\n",
       "289    2017-12-30 15:09:03\n",
       "Name: Start date, Length: 290, dtype: object"
      ]
     },
     "execution_count": 6,
     "metadata": {},
     "output_type": "execute_result"
    }
   ],
   "source": [
    "rides['Start date']"
   ]
  },
  {
   "cell_type": "code",
   "execution_count": 8,
   "id": "d5bee56f",
   "metadata": {},
   "outputs": [
    {
     "data": {
      "text/plain": [
       "Start date                               2017-10-02 06:37:10\n",
       "End date                                 2017-10-02 06:42:53\n",
       "Start station number                                   31036\n",
       "Start station                  George Mason Dr & Wilson Blvd\n",
       "End station number                                     31037\n",
       "End station             Ballston Metro / N Stuart & 9th St N\n",
       "Bike number                                           W20529\n",
       "Member type                                           Member\n",
       "Name: 2, dtype: object"
      ]
     },
     "execution_count": 8,
     "metadata": {},
     "output_type": "execute_result"
    }
   ],
   "source": [
    "rides.iloc[2]"
   ]
  },
  {
   "cell_type": "code",
   "execution_count": null,
   "id": "fdb0ac9b",
   "metadata": {},
   "outputs": [],
   "source": []
  },
  {
   "cell_type": "code",
   "execution_count": null,
   "id": "1cf10224",
   "metadata": {},
   "outputs": [],
   "source": []
  },
  {
   "cell_type": "code",
   "execution_count": 12,
   "id": "0ecfc1b3",
   "metadata": {},
   "outputs": [],
   "source": [
    "rides = pd.read_csv(\"../datasets/capital-onebike.csv\",parse_dates = ['Start date','End date'])\n",
    "# Or:\n",
    "rides['Start date'] = pd.to_datetime(rides['Start date'],format = \"%Y-%m-%d %H:%M:%S\")\n"
   ]
  },
  {
   "cell_type": "code",
   "execution_count": 13,
   "id": "b0c590fd",
   "metadata": {},
   "outputs": [
    {
     "data": {
      "text/plain": [
       "Timestamp('2017-10-02 06:37:10')"
      ]
     },
     "execution_count": 13,
     "metadata": {},
     "output_type": "execute_result"
    }
   ],
   "source": [
    "rides['Start date'].iloc[2]"
   ]
  },
  {
   "cell_type": "code",
   "execution_count": 14,
   "id": "6d233fc9",
   "metadata": {},
   "outputs": [
    {
     "name": "stdout",
     "output_type": "stream",
     "text": [
      "0   0 days 00:03:01\n",
      "1   0 days 02:07:02\n",
      "2   0 days 00:05:43\n",
      "3   0 days 00:21:18\n",
      "4   0 days 00:21:17\n",
      "Name: Duration, dtype: timedelta64[ns]\n"
     ]
    }
   ],
   "source": [
    "rides['Duration'] = rides['End date'] - rides['Start date']\n",
    "\n",
    "print(rides['Duration'].head(5))"
   ]
  },
  {
   "cell_type": "code",
   "execution_count": null,
   "id": "0abdae5e",
   "metadata": {},
   "outputs": [],
   "source": []
  },
  {
   "cell_type": "markdown",
   "id": "a87bf1ac",
   "metadata": {},
   "source": [
    "## Loading a csv file in Pandas\n"
   ]
  },
  {
   "cell_type": "code",
   "execution_count": null,
   "id": "6308d667",
   "metadata": {},
   "outputs": [],
   "source": [
    "# Import pandas\n",
    "import pandas as pd\n",
    "\n",
    "# Load CSV into the rides variable\n",
    "rides = pd.read_csv('capital-onebike.csv', \n",
    "                    parse_dates = ['Start date','End date'])\n",
    "\n",
    "# Print the initial (0th) row\n",
    "print(rides.iloc[0])"
   ]
  },
  {
   "cell_type": "code",
   "execution_count": null,
   "id": "3e5dcb30",
   "metadata": {},
   "outputs": [],
   "source": []
  },
  {
   "cell_type": "code",
   "execution_count": null,
   "id": "6fcd9d5b",
   "metadata": {},
   "outputs": [],
   "source": []
  },
  {
   "cell_type": "code",
   "execution_count": null,
   "id": "0c7eeffa",
   "metadata": {},
   "outputs": [],
   "source": []
  },
  {
   "cell_type": "markdown",
   "id": "4724c2b1",
   "metadata": {},
   "source": [
    "## Making timedelta columns"
   ]
  },
  {
   "cell_type": "code",
   "execution_count": null,
   "id": "2ad16614",
   "metadata": {},
   "outputs": [],
   "source": [
    "# Subtract the start date from the end date\n",
    "ride_durations = rides['End date'] - rides['Start date']\n",
    "\n",
    "# Convert the results to seconds\n",
    "rides['Duration'] = ride_durations.dt.total_seconds()\n",
    "\n",
    "print(rides['Duration'].head())\n"
   ]
  },
  {
   "cell_type": "code",
   "execution_count": null,
   "id": "2686f800",
   "metadata": {},
   "outputs": [],
   "source": []
  },
  {
   "cell_type": "code",
   "execution_count": null,
   "id": "1c3d38d5",
   "metadata": {},
   "outputs": [],
   "source": []
  },
  {
   "cell_type": "code",
   "execution_count": null,
   "id": "bea538f7",
   "metadata": {},
   "outputs": [],
   "source": []
  }
 ],
 "metadata": {
  "kernelspec": {
   "display_name": "Python 3 (ipykernel)",
   "language": "python",
   "name": "python3"
  },
  "language_info": {
   "codemirror_mode": {
    "name": "ipython",
    "version": 3
   },
   "file_extension": ".py",
   "mimetype": "text/x-python",
   "name": "python",
   "nbconvert_exporter": "python",
   "pygments_lexer": "ipython3",
   "version": "3.9.13"
  }
 },
 "nbformat": 4,
 "nbformat_minor": 5
}
