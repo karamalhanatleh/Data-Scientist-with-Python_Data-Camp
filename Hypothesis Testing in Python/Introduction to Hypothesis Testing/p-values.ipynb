{
 "cells": [
  {
   "cell_type": "code",
   "execution_count": 1,
   "id": "5ac7a584",
   "metadata": {},
   "outputs": [],
   "source": [
    "# Import pandas\n",
    "import pandas as pd\n",
    "import numpy as np\n",
    "import matplotlib.pyplot as plt\n",
    "# Import the course datasets \n",
    "republican_votes = pd.read_feather('../datasets//repub_votes_potus_08_12.feather')\n",
    "democrat_votes = pd.read_feather('../datasets//dem_votes_potus_12_16.feather')\n",
    "shipments = pd.read_feather('../datasets//late_shipments.feather')\n",
    "stackoverflow = pd.read_feather(\"../datasets//stack_overflow.feather\")"
   ]
  },
  {
   "cell_type": "code",
   "execution_count": 2,
   "id": "a92f808d",
   "metadata": {},
   "outputs": [],
   "source": [
    "prop_child_samp = (stackoverflow['age_first_code_cut'] == \"child\").mean()"
   ]
  },
  {
   "cell_type": "code",
   "execution_count": 3,
   "id": "7ef45459",
   "metadata": {
    "scrolled": true
   },
   "outputs": [
    {
     "data": {
      "text/plain": [
       "0.39141972578505085"
      ]
     },
     "execution_count": 3,
     "metadata": {},
     "output_type": "execute_result"
    }
   ],
   "source": [
    "prop_child_samp"
   ]
  },
  {
   "cell_type": "code",
   "execution_count": null,
   "id": "a8c12921",
   "metadata": {},
   "outputs": [],
   "source": []
  },
  {
   "cell_type": "code",
   "execution_count": null,
   "id": "d959a7ba",
   "metadata": {},
   "outputs": [],
   "source": []
  },
  {
   "cell_type": "code",
   "execution_count": 4,
   "id": "905cf724",
   "metadata": {},
   "outputs": [],
   "source": [
    "prop_child_samp=0.35  # القمة المفترضه"
   ]
  },
  {
   "cell_type": "code",
   "execution_count": 7,
   "id": "06f21981",
   "metadata": {},
   "outputs": [
    {
     "name": "stderr",
     "output_type": "stream",
     "text": [
      "C:\\Users\\DELL\\anaconda3\\lib\\site-packages\\numpy\\core\\_methods.py:262: RuntimeWarning: Degrees of freedom <= 0 for slice\n",
      "  ret = _var(a, axis=axis, dtype=dtype, out=out, ddof=ddof,\n",
      "C:\\Users\\DELL\\anaconda3\\lib\\site-packages\\numpy\\core\\_methods.py:254: RuntimeWarning: invalid value encountered in double_scalars\n",
      "  ret = ret.dtype.type(ret / rcount)\n"
     ]
    }
   ],
   "source": [
    "std_error = np.std(first_code_boot_distn, ddof=1)"
   ]
  },
  {
   "cell_type": "code",
   "execution_count": 8,
   "id": "f9ab6fa9",
   "metadata": {},
   "outputs": [
    {
     "data": {
      "text/plain": [
       "nan"
      ]
     },
     "execution_count": 8,
     "metadata": {},
     "output_type": "execute_result"
    }
   ],
   "source": [
    "std_error"
   ]
  },
  {
   "cell_type": "code",
   "execution_count": null,
   "id": "592d361a",
   "metadata": {},
   "outputs": [],
   "source": []
  }
 ],
 "metadata": {
  "kernelspec": {
   "display_name": "Python 3 (ipykernel)",
   "language": "python",
   "name": "python3"
  },
  "language_info": {
   "codemirror_mode": {
    "name": "ipython",
    "version": 3
   },
   "file_extension": ".py",
   "mimetype": "text/x-python",
   "name": "python",
   "nbconvert_exporter": "python",
   "pygments_lexer": "ipython3",
   "version": "3.9.13"
  }
 },
 "nbformat": 4,
 "nbformat_minor": 5
}
