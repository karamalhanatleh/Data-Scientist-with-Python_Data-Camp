{
 "cells": [
  {
   "cell_type": "markdown",
   "id": "c526c017",
   "metadata": {},
   "source": [
    "# Performing t-tests\n"
   ]
  },
  {
   "cell_type": "code",
   "execution_count": 1,
   "id": "41635d56",
   "metadata": {},
   "outputs": [],
   "source": [
    "# Import pandas\n",
    "import pandas as pd\n",
    "import numpy as np\n",
    "import matplotlib.pyplot as plt\n",
    "# Import the course datasets \n",
    "republican_votes = pd.read_feather('../datasets//repub_votes_potus_08_12.feather')\n",
    "democrat_votes = pd.read_feather('../datasets//dem_votes_potus_12_16.feather')\n",
    "shipments = pd.read_feather('../datasets//late_shipments.feather')\n",
    "stackoverflow = pd.read_feather(\"../datasets//stack_overflow.feather\")\n"
   ]
  },
  {
   "cell_type": "code",
   "execution_count": null,
   "id": "d5253555",
   "metadata": {},
   "outputs": [],
   "source": []
  },
  {
   "cell_type": "code",
   "execution_count": null,
   "id": "5de567c1",
   "metadata": {},
   "outputs": [],
   "source": []
  }
 ],
 "metadata": {
  "kernelspec": {
   "display_name": "Python 3 (ipykernel)",
   "language": "python",
   "name": "python3"
  },
  "language_info": {
   "codemirror_mode": {
    "name": "ipython",
    "version": 3
   },
   "file_extension": ".py",
   "mimetype": "text/x-python",
   "name": "python",
   "nbconvert_exporter": "python",
   "pygments_lexer": "ipython3",
   "version": "3.9.13"
  }
 },
 "nbformat": 4,
 "nbformat_minor": 5
}
