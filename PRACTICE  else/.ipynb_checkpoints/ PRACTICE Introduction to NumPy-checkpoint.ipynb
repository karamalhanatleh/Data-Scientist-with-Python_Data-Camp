{
 "cells": [
  {
   "cell_type": "code",
   "execution_count": 1,
   "id": "2868e692",
   "metadata": {},
   "outputs": [],
   "source": [
    "import numpy as np"
   ]
  },
  {
   "cell_type": "code",
   "execution_count": 6,
   "id": "01e58717",
   "metadata": {},
   "outputs": [
    {
     "data": {
      "text/plain": [
       "array([[[2, 3],\n",
       "        [0, 8],\n",
       "        [1, 8]],\n",
       "\n",
       "       [[9, 5],\n",
       "        [1, 2],\n",
       "        [4, 0]]])"
      ]
     },
     "execution_count": 6,
     "metadata": {},
     "output_type": "execute_result"
    }
   ],
   "source": [
    "arr_1 = np.array([[2, 0, 1], [9, 1, 4]])\n",
    "arr_2 = np.array([[3, 8, 8], [5, 2, 0]])\n",
    "\n",
    "np.stack([arr_1, arr_2], axis=2)"
   ]
  },
  {
   "cell_type": "code",
   "execution_count": null,
   "id": "05d8a69e",
   "metadata": {},
   "outputs": [],
   "source": []
  },
  {
   "cell_type": "code",
   "execution_count": 8,
   "id": "4e54052a",
   "metadata": {},
   "outputs": [
    {
     "data": {
      "text/plain": [
       "array([[5, 5, 9],\n",
       "       [9, 9, 8],\n",
       "       [6, 5, 8],\n",
       "       [3, 3, 8]])"
      ]
     },
     "execution_count": 8,
     "metadata": {},
     "output_type": "execute_result"
    }
   ],
   "source": [
    "array1 = np.array([[5, 5, 9], [9, 9, 8]])\n",
    "array2 = np.array([[6, 5, 8], [3, 3, 8]])\n",
    "np.concatenate((array1 , array2))"
   ]
  },
  {
   "cell_type": "code",
   "execution_count": null,
   "id": "68fba0ba",
   "metadata": {},
   "outputs": [],
   "source": []
  },
  {
   "cell_type": "code",
   "execution_count": 14,
   "id": "08a9cd85",
   "metadata": {},
   "outputs": [
    {
     "data": {
      "text/plain": [
       "array([[[255,   0,   0]],\n",
       "\n",
       "       [[255,   0, 255]]])"
      ]
     },
     "execution_count": 14,
     "metadata": {},
     "output_type": "execute_result"
    }
   ],
   "source": [
    "rgb = np.array([[[255,   0,   0],\n",
    "                [  0,   0,   0],\n",
    "                [  0,   0, 255]],\n",
    "\n",
    "               [[255,   0, 255],\n",
    "                [255, 255, 255],\n",
    "                [255, 255,   0]]])\n",
    "arr_1, arr_2, arr_3 = np.split(rgb, 3, axis=1)\n",
    "arr_1"
   ]
  },
  {
   "cell_type": "code",
   "execution_count": null,
   "id": "b190290a",
   "metadata": {},
   "outputs": [],
   "source": []
  },
  {
   "cell_type": "code",
   "execution_count": 17,
   "id": "f61d916a",
   "metadata": {},
   "outputs": [
    {
     "ename": "TypeError",
     "evalue": "_sum() got an unexpected keyword argument 'reshape'",
     "output_type": "error",
     "traceback": [
      "\u001b[1;31m---------------------------------------------------------------------------\u001b[0m",
      "\u001b[1;31mTypeError\u001b[0m                                 Traceback (most recent call last)",
      "\u001b[1;32m~\\AppData\\Local\\Temp\\ipykernel_17184\\652350669.py\u001b[0m in \u001b[0;36m<module>\u001b[1;34m\u001b[0m\n\u001b[0;32m      2\u001b[0m        \u001b[1;33m[\u001b[0m \u001b[1;36m5\u001b[0m\u001b[1;33m,\u001b[0m  \u001b[1;36m8\u001b[0m\u001b[1;33m,\u001b[0m  \u001b[1;36m0\u001b[0m\u001b[1;33m,\u001b[0m  \u001b[1;36m2\u001b[0m\u001b[1;33m,\u001b[0m  \u001b[1;36m1\u001b[0m\u001b[1;33m,\u001b[0m  \u001b[1;36m2\u001b[0m\u001b[1;33m]\u001b[0m\u001b[1;33m,\u001b[0m\u001b[1;33m\u001b[0m\u001b[1;33m\u001b[0m\u001b[0m\n\u001b[0;32m      3\u001b[0m        [ 2,  9,  6, 23, 13,  1]])\n\u001b[1;32m----> 4\u001b[1;33m \u001b[0msum_arr\u001b[0m \u001b[1;33m=\u001b[0m \u001b[0marray_2D\u001b[0m\u001b[1;33m.\u001b[0m\u001b[0msum\u001b[0m\u001b[1;33m(\u001b[0m\u001b[0maxis\u001b[0m\u001b[1;33m=\u001b[0m\u001b[1;36m1\u001b[0m\u001b[1;33m,\u001b[0m  \u001b[0mreshape\u001b[0m \u001b[1;33m=\u001b[0m\u001b[1;32mTrue\u001b[0m\u001b[1;33m)\u001b[0m\u001b[1;33m\u001b[0m\u001b[1;33m\u001b[0m\u001b[0m\n\u001b[0m\u001b[0;32m      5\u001b[0m \u001b[1;33m\u001b[0m\u001b[0m\n\u001b[0;32m      6\u001b[0m \u001b[0mnp\u001b[0m\u001b[1;33m.\u001b[0m\u001b[0mconcatenate\u001b[0m\u001b[1;33m(\u001b[0m\u001b[1;33m(\u001b[0m\u001b[0marray_2D\u001b[0m\u001b[1;33m,\u001b[0m \u001b[0msum_arr\u001b[0m\u001b[1;33m)\u001b[0m\u001b[1;33m)\u001b[0m\u001b[1;33m\u001b[0m\u001b[1;33m\u001b[0m\u001b[0m\n",
      "\u001b[1;31mTypeError\u001b[0m: _sum() got an unexpected keyword argument 'reshape'"
     ]
    }
   ],
   "source": [
    "array_2D = np.array([[ 5,  1,  6,  2,  4,  6],\n",
    "       [ 5,  8,  0,  2,  1,  2],\n",
    "       [ 2,  9,  6, 23, 13,  1]])\n",
    "sum_arr = array_2D.sum(axis=0,  reshape =True)\n",
    "\n",
    "np.concatenate((array_2D, sum_arr))\n"
   ]
  },
  {
   "cell_type": "code",
   "execution_count": null,
   "id": "1b8433e6",
   "metadata": {},
   "outputs": [],
   "source": []
  }
 ],
 "metadata": {
  "kernelspec": {
   "display_name": "Python 3 (ipykernel)",
   "language": "python",
   "name": "python3"
  },
  "language_info": {
   "codemirror_mode": {
    "name": "ipython",
    "version": 3
   },
   "file_extension": ".py",
   "mimetype": "text/x-python",
   "name": "python",
   "nbconvert_exporter": "python",
   "pygments_lexer": "ipython3",
   "version": "3.9.13"
  }
 },
 "nbformat": 4,
 "nbformat_minor": 5
}
